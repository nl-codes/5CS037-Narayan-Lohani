{
  "nbformat": 4,
  "nbformat_minor": 0,
  "metadata": {
    "colab": {
      "provenance": [],
      "toc_visible": true
    },
    "kernelspec": {
      "name": "python3",
      "display_name": "Python 3"
    },
    "language_info": {
      "name": "python"
    }
  },
  "cells": [
    {
      "cell_type": "markdown",
      "source": [
        "#PORTFOLIO ASSIGNMENT\n",
        "#CLASSIFICATION TASK"
      ],
      "metadata": {
        "id": "p_CYR_kIGP0v"
      }
    },
    {
      "cell_type": "markdown",
      "source": [
        "##Import Libraries"
      ],
      "metadata": {
        "id": "Gdrulx--kMg9"
      }
    },
    {
      "cell_type": "code",
      "execution_count": 156,
      "metadata": {
        "id": "e0S5i4RiFBqO"
      },
      "outputs": [],
      "source": [
        "import pandas as pd\n",
        "import numpy as np\n",
        "import matplotlib.pyplot as plt\n",
        "import seaborn as sns\n"
      ]
    },
    {
      "cell_type": "markdown",
      "source": [
        "Mount the drive for dataset"
      ],
      "metadata": {
        "id": "rf5JeD2xkRHJ"
      }
    },
    {
      "cell_type": "code",
      "source": [
        "from google.colab import drive\n",
        "drive.mount('/content/drive')"
      ],
      "metadata": {
        "colab": {
          "base_uri": "https://localhost:8080/"
        },
        "id": "2a-sOeV8MmnB",
        "outputId": "2a7a0596-7318-4ead-eeef-d74cadda02a8"
      },
      "execution_count": 157,
      "outputs": [
        {
          "output_type": "stream",
          "name": "stdout",
          "text": [
            "Drive already mounted at /content/drive; to attempt to forcibly remount, call drive.mount(\"/content/drive\", force_remount=True).\n"
          ]
        }
      ]
    },
    {
      "cell_type": "markdown",
      "source": [
        "##About the Dataset\n",
        "\n",
        "This dataset is sourced from **NASA's Open Data Portal** and is part of the **Global Landslide Catalog (GLC)**. The primary goal of the GLC is to catalog **rainfall-triggered landslide events** globally, regardless of size, impact, or location. It includes a diverse range of **mass movement events**, such as **landslides, mudslides, and rockfalls**, triggered by rainfall or other weather events.\n",
        "\n",
        "Independent Variables\n",
        "The dataset includes various independent variables related to landslide characteristics:\n",
        "\n",
        "- **Landslide size**: Small, medium, large, and very large  \n",
        "- **Landslide category**: Landslide, mudslide, rockfall, etc.  \n",
        "- **Landslide trigger**: Rain, downpour, etc.  \n",
        "- **Landslide setting**: Natural slope, above road, below road  \n",
        "- **Location accuracy**: Given by latitude and longitude coordinates  \n",
        "\n",
        " Target Variable\n",
        "The target variable for this analysis is **fatality_count**, representing the number of fatalities associated with each landslide event.\n",
        "\n",
        "Dataset Overview\n",
        "- **Total Columns**: 31  \n",
        "- **Total Rows**: 11,034  \n",
        "- **Preprocessing Challenges**:\n",
        "  - Handling missing values in crucial columns like `fatality_count` and `landslide_size`\n",
        "  - Encoding categorical variables such as `landslide_category` for use in modeling  \n",
        "\n",
        "Data Source & Updates\n",
        "This dataset was **last updated on March 7, 2016** and is part of ongoing efforts by **NASA Goddard Space Flight Center** to track landslide data globally for **hazard assessment and risk management**."
      ],
      "metadata": {
        "id": "cYwKTb7dkW3V"
      }
    },
    {
      "cell_type": "markdown",
      "source": [
        "##Load the dataset"
      ],
      "metadata": {
        "id": "712Q-WAblRMb"
      }
    },
    {
      "cell_type": "code",
      "source": [
        "file_path = \"/content/drive/MyDrive/Concepts and Technologies of AI/Portfolio/data_Global_Landslide_Catalog_Export_20250128.csv\""
      ],
      "metadata": {
        "id": "VKOAH3VLMpNJ"
      },
      "execution_count": 158,
      "outputs": []
    },
    {
      "cell_type": "code",
      "source": [
        "data = pd.read_csv(file_path)"
      ],
      "metadata": {
        "id": "gpHwaypnMt9f"
      },
      "execution_count": 159,
      "outputs": []
    },
    {
      "cell_type": "code",
      "source": [
        "# list of column names that contribute to modeling\n",
        "columns_to_select = [\n",
        "    'location_accuracy',\n",
        "    'landslide_size',\n",
        "    'admin_division_population',\n",
        "    'gazeteer_distance',\n",
        "    'latitude',\n",
        "    'longitude',\n",
        "]\n",
        "\n",
        "dataset_selected_columns = data[columns_to_select]\n",
        "\n",
        "# Check the selected dataframe info\n",
        "dataset_selected_columns.info()"
      ],
      "metadata": {
        "colab": {
          "base_uri": "https://localhost:8080/"
        },
        "id": "Ycm8H3tnMt5b",
        "outputId": "ec2649a2-8026-4719-cb76-29a98234f85f"
      },
      "execution_count": 160,
      "outputs": [
        {
          "output_type": "stream",
          "name": "stdout",
          "text": [
            "<class 'pandas.core.frame.DataFrame'>\n",
            "RangeIndex: 11033 entries, 0 to 11032\n",
            "Data columns (total 6 columns):\n",
            " #   Column                     Non-Null Count  Dtype  \n",
            "---  ------                     --------------  -----  \n",
            " 0   location_accuracy          11031 non-null  object \n",
            " 1   landslide_size             11024 non-null  object \n",
            " 2   admin_division_population  9471 non-null   float64\n",
            " 3   gazeteer_distance          9471 non-null   float64\n",
            " 4   latitude                   11033 non-null  float64\n",
            " 5   longitude                  11033 non-null  float64\n",
            "dtypes: float64(4), object(2)\n",
            "memory usage: 517.3+ KB\n"
          ]
        }
      ]
    },
    {
      "cell_type": "markdown",
      "source": [
        "##Dataset Cleansing"
      ],
      "metadata": {
        "id": "mCN2Yen5lWKv"
      }
    },
    {
      "cell_type": "code",
      "source": [
        "# Remove rows with null in fatality_count (target variable) and admin_division_population (dependent variable)\n",
        "df = dataset_selected_columns.dropna(subset=['admin_division_population', 'gazeteer_distance', 'landslide_size'])\n",
        "\n",
        "df.isnull().sum()"
      ],
      "metadata": {
        "colab": {
          "base_uri": "https://localhost:8080/",
          "height": 272
        },
        "id": "3m2OklJcMt19",
        "outputId": "3b88b10f-7b3c-400a-b97e-400ffa9f7a26"
      },
      "execution_count": 161,
      "outputs": [
        {
          "output_type": "execute_result",
          "data": {
            "text/plain": [
              "location_accuracy            0\n",
              "landslide_size               0\n",
              "admin_division_population    0\n",
              "gazeteer_distance            0\n",
              "latitude                     0\n",
              "longitude                    0\n",
              "dtype: int64"
            ],
            "text/html": [
              "<div>\n",
              "<style scoped>\n",
              "    .dataframe tbody tr th:only-of-type {\n",
              "        vertical-align: middle;\n",
              "    }\n",
              "\n",
              "    .dataframe tbody tr th {\n",
              "        vertical-align: top;\n",
              "    }\n",
              "\n",
              "    .dataframe thead th {\n",
              "        text-align: right;\n",
              "    }\n",
              "</style>\n",
              "<table border=\"1\" class=\"dataframe\">\n",
              "  <thead>\n",
              "    <tr style=\"text-align: right;\">\n",
              "      <th></th>\n",
              "      <th>0</th>\n",
              "    </tr>\n",
              "  </thead>\n",
              "  <tbody>\n",
              "    <tr>\n",
              "      <th>location_accuracy</th>\n",
              "      <td>0</td>\n",
              "    </tr>\n",
              "    <tr>\n",
              "      <th>landslide_size</th>\n",
              "      <td>0</td>\n",
              "    </tr>\n",
              "    <tr>\n",
              "      <th>admin_division_population</th>\n",
              "      <td>0</td>\n",
              "    </tr>\n",
              "    <tr>\n",
              "      <th>gazeteer_distance</th>\n",
              "      <td>0</td>\n",
              "    </tr>\n",
              "    <tr>\n",
              "      <th>latitude</th>\n",
              "      <td>0</td>\n",
              "    </tr>\n",
              "    <tr>\n",
              "      <th>longitude</th>\n",
              "      <td>0</td>\n",
              "    </tr>\n",
              "  </tbody>\n",
              "</table>\n",
              "</div><br><label><b>dtype:</b> int64</label>"
            ]
          },
          "metadata": {},
          "execution_count": 161
        }
      ]
    },
    {
      "cell_type": "code",
      "source": [
        "size_mode = df.mode()['landslide_size'][0]\n",
        "# Only 40 'unknown' values, hence imputing with mode value\n",
        "df.loc[:,'landslide_size'] = df['landslide_size'].str.replace('unknown', size_mode)"
      ],
      "metadata": {
        "id": "LPdO4pwRMtx2"
      },
      "execution_count": 162,
      "outputs": []
    },
    {
      "cell_type": "code",
      "source": [
        "# drop 'unknown', replace 'exact with 0km, drop suffix convert to int\n",
        "df = df[df['location_accuracy']!='unknown']\n",
        "df.loc[:,'location_accuracy'] = df['location_accuracy'].str.replace('exact', '0')\n",
        "df.loc[:,'location_accuracy'] = df['location_accuracy'].str.replace('km', '')\n",
        "df['location_accuracy'] = df['location_accuracy'].astype(int)"
      ],
      "metadata": {
        "id": "fM57tEjFMtuH"
      },
      "execution_count": 163,
      "outputs": []
    },
    {
      "cell_type": "markdown",
      "source": [
        "#Cleaned Dataset"
      ],
      "metadata": {
        "id": "Z0rK9LjGNiUA"
      }
    },
    {
      "cell_type": "code",
      "source": [
        "dataset = df.copy()\n",
        "dataset.info()"
      ],
      "metadata": {
        "colab": {
          "base_uri": "https://localhost:8080/"
        },
        "id": "iIkyfNaxMtqC",
        "outputId": "14aa1ba7-fb38-4de1-96a2-d66dc25da3c2"
      },
      "execution_count": 164,
      "outputs": [
        {
          "output_type": "stream",
          "name": "stdout",
          "text": [
            "<class 'pandas.core.frame.DataFrame'>\n",
            "Index: 8931 entries, 0 to 11032\n",
            "Data columns (total 6 columns):\n",
            " #   Column                     Non-Null Count  Dtype  \n",
            "---  ------                     --------------  -----  \n",
            " 0   location_accuracy          8931 non-null   int64  \n",
            " 1   landslide_size             8931 non-null   object \n",
            " 2   admin_division_population  8931 non-null   float64\n",
            " 3   gazeteer_distance          8931 non-null   float64\n",
            " 4   latitude                   8931 non-null   float64\n",
            " 5   longitude                  8931 non-null   float64\n",
            "dtypes: float64(4), int64(1), object(1)\n",
            "memory usage: 488.4+ KB\n"
          ]
        }
      ]
    },
    {
      "cell_type": "code",
      "source": [
        "dataset.head()"
      ],
      "metadata": {
        "colab": {
          "base_uri": "https://localhost:8080/",
          "height": 206
        },
        "id": "amDmlJX4ldp3",
        "outputId": "9c48f785-9b7e-4dda-89bd-8c8a5cb8e2fc"
      },
      "execution_count": 165,
      "outputs": [
        {
          "output_type": "execute_result",
          "data": {
            "text/plain": [
              "   location_accuracy landslide_size  admin_division_population  \\\n",
              "0                  5          small                     1651.0   \n",
              "1                 10         medium                     2009.0   \n",
              "2                  5         medium                     1200.0   \n",
              "3                  5         medium                     1200.0   \n",
              "4                  1          small                   114347.0   \n",
              "\n",
              "   gazeteer_distance  latitude  longitude  \n",
              "0           55.60925  -46.7748   167.6337  \n",
              "1           26.14437  -45.9034   170.0982  \n",
              "2            3.45468  -45.8767   170.6273  \n",
              "3            5.55301  -45.8727   170.5863  \n",
              "4            1.43901  -45.8618   170.5090  "
            ],
            "text/html": [
              "\n",
              "  <div id=\"df-c416c6a7-ad51-47d9-80c6-3155b2899a04\" class=\"colab-df-container\">\n",
              "    <div>\n",
              "<style scoped>\n",
              "    .dataframe tbody tr th:only-of-type {\n",
              "        vertical-align: middle;\n",
              "    }\n",
              "\n",
              "    .dataframe tbody tr th {\n",
              "        vertical-align: top;\n",
              "    }\n",
              "\n",
              "    .dataframe thead th {\n",
              "        text-align: right;\n",
              "    }\n",
              "</style>\n",
              "<table border=\"1\" class=\"dataframe\">\n",
              "  <thead>\n",
              "    <tr style=\"text-align: right;\">\n",
              "      <th></th>\n",
              "      <th>location_accuracy</th>\n",
              "      <th>landslide_size</th>\n",
              "      <th>admin_division_population</th>\n",
              "      <th>gazeteer_distance</th>\n",
              "      <th>latitude</th>\n",
              "      <th>longitude</th>\n",
              "    </tr>\n",
              "  </thead>\n",
              "  <tbody>\n",
              "    <tr>\n",
              "      <th>0</th>\n",
              "      <td>5</td>\n",
              "      <td>small</td>\n",
              "      <td>1651.0</td>\n",
              "      <td>55.60925</td>\n",
              "      <td>-46.7748</td>\n",
              "      <td>167.6337</td>\n",
              "    </tr>\n",
              "    <tr>\n",
              "      <th>1</th>\n",
              "      <td>10</td>\n",
              "      <td>medium</td>\n",
              "      <td>2009.0</td>\n",
              "      <td>26.14437</td>\n",
              "      <td>-45.9034</td>\n",
              "      <td>170.0982</td>\n",
              "    </tr>\n",
              "    <tr>\n",
              "      <th>2</th>\n",
              "      <td>5</td>\n",
              "      <td>medium</td>\n",
              "      <td>1200.0</td>\n",
              "      <td>3.45468</td>\n",
              "      <td>-45.8767</td>\n",
              "      <td>170.6273</td>\n",
              "    </tr>\n",
              "    <tr>\n",
              "      <th>3</th>\n",
              "      <td>5</td>\n",
              "      <td>medium</td>\n",
              "      <td>1200.0</td>\n",
              "      <td>5.55301</td>\n",
              "      <td>-45.8727</td>\n",
              "      <td>170.5863</td>\n",
              "    </tr>\n",
              "    <tr>\n",
              "      <th>4</th>\n",
              "      <td>1</td>\n",
              "      <td>small</td>\n",
              "      <td>114347.0</td>\n",
              "      <td>1.43901</td>\n",
              "      <td>-45.8618</td>\n",
              "      <td>170.5090</td>\n",
              "    </tr>\n",
              "  </tbody>\n",
              "</table>\n",
              "</div>\n",
              "    <div class=\"colab-df-buttons\">\n",
              "\n",
              "  <div class=\"colab-df-container\">\n",
              "    <button class=\"colab-df-convert\" onclick=\"convertToInteractive('df-c416c6a7-ad51-47d9-80c6-3155b2899a04')\"\n",
              "            title=\"Convert this dataframe to an interactive table.\"\n",
              "            style=\"display:none;\">\n",
              "\n",
              "  <svg xmlns=\"http://www.w3.org/2000/svg\" height=\"24px\" viewBox=\"0 -960 960 960\">\n",
              "    <path d=\"M120-120v-720h720v720H120Zm60-500h600v-160H180v160Zm220 220h160v-160H400v160Zm0 220h160v-160H400v160ZM180-400h160v-160H180v160Zm440 0h160v-160H620v160ZM180-180h160v-160H180v160Zm440 0h160v-160H620v160Z\"/>\n",
              "  </svg>\n",
              "    </button>\n",
              "\n",
              "  <style>\n",
              "    .colab-df-container {\n",
              "      display:flex;\n",
              "      gap: 12px;\n",
              "    }\n",
              "\n",
              "    .colab-df-convert {\n",
              "      background-color: #E8F0FE;\n",
              "      border: none;\n",
              "      border-radius: 50%;\n",
              "      cursor: pointer;\n",
              "      display: none;\n",
              "      fill: #1967D2;\n",
              "      height: 32px;\n",
              "      padding: 0 0 0 0;\n",
              "      width: 32px;\n",
              "    }\n",
              "\n",
              "    .colab-df-convert:hover {\n",
              "      background-color: #E2EBFA;\n",
              "      box-shadow: 0px 1px 2px rgba(60, 64, 67, 0.3), 0px 1px 3px 1px rgba(60, 64, 67, 0.15);\n",
              "      fill: #174EA6;\n",
              "    }\n",
              "\n",
              "    .colab-df-buttons div {\n",
              "      margin-bottom: 4px;\n",
              "    }\n",
              "\n",
              "    [theme=dark] .colab-df-convert {\n",
              "      background-color: #3B4455;\n",
              "      fill: #D2E3FC;\n",
              "    }\n",
              "\n",
              "    [theme=dark] .colab-df-convert:hover {\n",
              "      background-color: #434B5C;\n",
              "      box-shadow: 0px 1px 3px 1px rgba(0, 0, 0, 0.15);\n",
              "      filter: drop-shadow(0px 1px 2px rgba(0, 0, 0, 0.3));\n",
              "      fill: #FFFFFF;\n",
              "    }\n",
              "  </style>\n",
              "\n",
              "    <script>\n",
              "      const buttonEl =\n",
              "        document.querySelector('#df-c416c6a7-ad51-47d9-80c6-3155b2899a04 button.colab-df-convert');\n",
              "      buttonEl.style.display =\n",
              "        google.colab.kernel.accessAllowed ? 'block' : 'none';\n",
              "\n",
              "      async function convertToInteractive(key) {\n",
              "        const element = document.querySelector('#df-c416c6a7-ad51-47d9-80c6-3155b2899a04');\n",
              "        const dataTable =\n",
              "          await google.colab.kernel.invokeFunction('convertToInteractive',\n",
              "                                                    [key], {});\n",
              "        if (!dataTable) return;\n",
              "\n",
              "        const docLinkHtml = 'Like what you see? Visit the ' +\n",
              "          '<a target=\"_blank\" href=https://colab.research.google.com/notebooks/data_table.ipynb>data table notebook</a>'\n",
              "          + ' to learn more about interactive tables.';\n",
              "        element.innerHTML = '';\n",
              "        dataTable['output_type'] = 'display_data';\n",
              "        await google.colab.output.renderOutput(dataTable, element);\n",
              "        const docLink = document.createElement('div');\n",
              "        docLink.innerHTML = docLinkHtml;\n",
              "        element.appendChild(docLink);\n",
              "      }\n",
              "    </script>\n",
              "  </div>\n",
              "\n",
              "\n",
              "<div id=\"df-4bdaa632-503a-4a2b-9575-0604cf5b4ff2\">\n",
              "  <button class=\"colab-df-quickchart\" onclick=\"quickchart('df-4bdaa632-503a-4a2b-9575-0604cf5b4ff2')\"\n",
              "            title=\"Suggest charts\"\n",
              "            style=\"display:none;\">\n",
              "\n",
              "<svg xmlns=\"http://www.w3.org/2000/svg\" height=\"24px\"viewBox=\"0 0 24 24\"\n",
              "     width=\"24px\">\n",
              "    <g>\n",
              "        <path d=\"M19 3H5c-1.1 0-2 .9-2 2v14c0 1.1.9 2 2 2h14c1.1 0 2-.9 2-2V5c0-1.1-.9-2-2-2zM9 17H7v-7h2v7zm4 0h-2V7h2v10zm4 0h-2v-4h2v4z\"/>\n",
              "    </g>\n",
              "</svg>\n",
              "  </button>\n",
              "\n",
              "<style>\n",
              "  .colab-df-quickchart {\n",
              "      --bg-color: #E8F0FE;\n",
              "      --fill-color: #1967D2;\n",
              "      --hover-bg-color: #E2EBFA;\n",
              "      --hover-fill-color: #174EA6;\n",
              "      --disabled-fill-color: #AAA;\n",
              "      --disabled-bg-color: #DDD;\n",
              "  }\n",
              "\n",
              "  [theme=dark] .colab-df-quickchart {\n",
              "      --bg-color: #3B4455;\n",
              "      --fill-color: #D2E3FC;\n",
              "      --hover-bg-color: #434B5C;\n",
              "      --hover-fill-color: #FFFFFF;\n",
              "      --disabled-bg-color: #3B4455;\n",
              "      --disabled-fill-color: #666;\n",
              "  }\n",
              "\n",
              "  .colab-df-quickchart {\n",
              "    background-color: var(--bg-color);\n",
              "    border: none;\n",
              "    border-radius: 50%;\n",
              "    cursor: pointer;\n",
              "    display: none;\n",
              "    fill: var(--fill-color);\n",
              "    height: 32px;\n",
              "    padding: 0;\n",
              "    width: 32px;\n",
              "  }\n",
              "\n",
              "  .colab-df-quickchart:hover {\n",
              "    background-color: var(--hover-bg-color);\n",
              "    box-shadow: 0 1px 2px rgba(60, 64, 67, 0.3), 0 1px 3px 1px rgba(60, 64, 67, 0.15);\n",
              "    fill: var(--button-hover-fill-color);\n",
              "  }\n",
              "\n",
              "  .colab-df-quickchart-complete:disabled,\n",
              "  .colab-df-quickchart-complete:disabled:hover {\n",
              "    background-color: var(--disabled-bg-color);\n",
              "    fill: var(--disabled-fill-color);\n",
              "    box-shadow: none;\n",
              "  }\n",
              "\n",
              "  .colab-df-spinner {\n",
              "    border: 2px solid var(--fill-color);\n",
              "    border-color: transparent;\n",
              "    border-bottom-color: var(--fill-color);\n",
              "    animation:\n",
              "      spin 1s steps(1) infinite;\n",
              "  }\n",
              "\n",
              "  @keyframes spin {\n",
              "    0% {\n",
              "      border-color: transparent;\n",
              "      border-bottom-color: var(--fill-color);\n",
              "      border-left-color: var(--fill-color);\n",
              "    }\n",
              "    20% {\n",
              "      border-color: transparent;\n",
              "      border-left-color: var(--fill-color);\n",
              "      border-top-color: var(--fill-color);\n",
              "    }\n",
              "    30% {\n",
              "      border-color: transparent;\n",
              "      border-left-color: var(--fill-color);\n",
              "      border-top-color: var(--fill-color);\n",
              "      border-right-color: var(--fill-color);\n",
              "    }\n",
              "    40% {\n",
              "      border-color: transparent;\n",
              "      border-right-color: var(--fill-color);\n",
              "      border-top-color: var(--fill-color);\n",
              "    }\n",
              "    60% {\n",
              "      border-color: transparent;\n",
              "      border-right-color: var(--fill-color);\n",
              "    }\n",
              "    80% {\n",
              "      border-color: transparent;\n",
              "      border-right-color: var(--fill-color);\n",
              "      border-bottom-color: var(--fill-color);\n",
              "    }\n",
              "    90% {\n",
              "      border-color: transparent;\n",
              "      border-bottom-color: var(--fill-color);\n",
              "    }\n",
              "  }\n",
              "</style>\n",
              "\n",
              "  <script>\n",
              "    async function quickchart(key) {\n",
              "      const quickchartButtonEl =\n",
              "        document.querySelector('#' + key + ' button');\n",
              "      quickchartButtonEl.disabled = true;  // To prevent multiple clicks.\n",
              "      quickchartButtonEl.classList.add('colab-df-spinner');\n",
              "      try {\n",
              "        const charts = await google.colab.kernel.invokeFunction(\n",
              "            'suggestCharts', [key], {});\n",
              "      } catch (error) {\n",
              "        console.error('Error during call to suggestCharts:', error);\n",
              "      }\n",
              "      quickchartButtonEl.classList.remove('colab-df-spinner');\n",
              "      quickchartButtonEl.classList.add('colab-df-quickchart-complete');\n",
              "    }\n",
              "    (() => {\n",
              "      let quickchartButtonEl =\n",
              "        document.querySelector('#df-4bdaa632-503a-4a2b-9575-0604cf5b4ff2 button');\n",
              "      quickchartButtonEl.style.display =\n",
              "        google.colab.kernel.accessAllowed ? 'block' : 'none';\n",
              "    })();\n",
              "  </script>\n",
              "</div>\n",
              "\n",
              "    </div>\n",
              "  </div>\n"
            ],
            "application/vnd.google.colaboratory.intrinsic+json": {
              "type": "dataframe",
              "variable_name": "dataset",
              "summary": "{\n  \"name\": \"dataset\",\n  \"rows\": 8931,\n  \"fields\": [\n    {\n      \"column\": \"location_accuracy\",\n      \"properties\": {\n        \"dtype\": \"number\",\n        \"std\": 16,\n        \"min\": 0,\n        \"max\": 250,\n        \"num_unique_values\": 8,\n        \"samples\": [\n          10,\n          50,\n          5\n        ],\n        \"semantic_type\": \"\",\n        \"description\": \"\"\n      }\n    },\n    {\n      \"column\": \"landslide_size\",\n      \"properties\": {\n        \"dtype\": \"category\",\n        \"num_unique_values\": 4,\n        \"samples\": [\n          \"medium\",\n          \"very_large\",\n          \"small\"\n        ],\n        \"semantic_type\": \"\",\n        \"description\": \"\"\n      }\n    },\n    {\n      \"column\": \"admin_division_population\",\n      \"properties\": {\n        \"dtype\": \"number\",\n        \"std\": 843096.0304756328,\n        \"min\": 0.0,\n        \"max\": 12691836.0,\n        \"num_unique_values\": 3358,\n        \"samples\": [\n          8330.0,\n          5198.0,\n          3746.0\n        ],\n        \"semantic_type\": \"\",\n        \"description\": \"\"\n      }\n    },\n    {\n      \"column\": \"gazeteer_distance\",\n      \"properties\": {\n        \"dtype\": \"number\",\n        \"std\": 15.33942281693252,\n        \"min\": 3e-05,\n        \"max\": 199.44893,\n        \"num_unique_values\": 8767,\n        \"samples\": [\n          1.84621,\n          71.4959,\n          1.00216\n        ],\n        \"semantic_type\": \"\",\n        \"description\": \"\"\n      }\n    },\n    {\n      \"column\": \"latitude\",\n      \"properties\": {\n        \"dtype\": \"number\",\n        \"std\": 20.574630928654667,\n        \"min\": -46.7748,\n        \"max\": 72.6275,\n        \"num_unique_values\": 8602,\n        \"samples\": [\n          38.3558,\n          29.5833,\n          39.34129618\n        ],\n        \"semantic_type\": \"\",\n        \"description\": \"\"\n      }\n    },\n    {\n      \"column\": \"longitude\",\n      \"properties\": {\n        \"dtype\": \"number\",\n        \"std\": 100.49851052777998,\n        \"min\": -170.7998,\n        \"max\": 179.4104,\n        \"num_unique_values\": 8674,\n        \"samples\": [\n          -124.1216,\n          82.106,\n          -124.4101\n        ],\n        \"semantic_type\": \"\",\n        \"description\": \"\"\n      }\n    }\n  ]\n}"
            }
          },
          "metadata": {},
          "execution_count": 165
        }
      ]
    },
    {
      "cell_type": "code",
      "source": [
        "dataset.tail()"
      ],
      "metadata": {
        "colab": {
          "base_uri": "https://localhost:8080/",
          "height": 206
        },
        "id": "KIH__1Nlllo2",
        "outputId": "c3e0bb8b-f008-4053-8698-829c5783f750"
      },
      "execution_count": 166,
      "outputs": [
        {
          "output_type": "execute_result",
          "data": {
            "text/plain": [
              "       location_accuracy landslide_size  admin_division_population  \\\n",
              "11027                 25         medium                     1690.0   \n",
              "11028                  1          large                     1001.0   \n",
              "11029                  1          large                     1001.0   \n",
              "11030                  5          small                     2624.0   \n",
              "11032                 10          small                        0.0   \n",
              "\n",
              "       gazeteer_distance  latitude  longitude  \n",
              "11027           35.97774   64.4112   -14.5624  \n",
              "11028           83.92592   65.0167   -16.7406  \n",
              "11029           84.36572   65.0216   -16.6849  \n",
              "11030           76.97209   65.9794   -21.4541  \n",
              "11032            6.46542   72.6275   -77.8416  "
            ],
            "text/html": [
              "\n",
              "  <div id=\"df-1728269a-0b54-4487-8e61-88e68573769c\" class=\"colab-df-container\">\n",
              "    <div>\n",
              "<style scoped>\n",
              "    .dataframe tbody tr th:only-of-type {\n",
              "        vertical-align: middle;\n",
              "    }\n",
              "\n",
              "    .dataframe tbody tr th {\n",
              "        vertical-align: top;\n",
              "    }\n",
              "\n",
              "    .dataframe thead th {\n",
              "        text-align: right;\n",
              "    }\n",
              "</style>\n",
              "<table border=\"1\" class=\"dataframe\">\n",
              "  <thead>\n",
              "    <tr style=\"text-align: right;\">\n",
              "      <th></th>\n",
              "      <th>location_accuracy</th>\n",
              "      <th>landslide_size</th>\n",
              "      <th>admin_division_population</th>\n",
              "      <th>gazeteer_distance</th>\n",
              "      <th>latitude</th>\n",
              "      <th>longitude</th>\n",
              "    </tr>\n",
              "  </thead>\n",
              "  <tbody>\n",
              "    <tr>\n",
              "      <th>11027</th>\n",
              "      <td>25</td>\n",
              "      <td>medium</td>\n",
              "      <td>1690.0</td>\n",
              "      <td>35.97774</td>\n",
              "      <td>64.4112</td>\n",
              "      <td>-14.5624</td>\n",
              "    </tr>\n",
              "    <tr>\n",
              "      <th>11028</th>\n",
              "      <td>1</td>\n",
              "      <td>large</td>\n",
              "      <td>1001.0</td>\n",
              "      <td>83.92592</td>\n",
              "      <td>65.0167</td>\n",
              "      <td>-16.7406</td>\n",
              "    </tr>\n",
              "    <tr>\n",
              "      <th>11029</th>\n",
              "      <td>1</td>\n",
              "      <td>large</td>\n",
              "      <td>1001.0</td>\n",
              "      <td>84.36572</td>\n",
              "      <td>65.0216</td>\n",
              "      <td>-16.6849</td>\n",
              "    </tr>\n",
              "    <tr>\n",
              "      <th>11030</th>\n",
              "      <td>5</td>\n",
              "      <td>small</td>\n",
              "      <td>2624.0</td>\n",
              "      <td>76.97209</td>\n",
              "      <td>65.9794</td>\n",
              "      <td>-21.4541</td>\n",
              "    </tr>\n",
              "    <tr>\n",
              "      <th>11032</th>\n",
              "      <td>10</td>\n",
              "      <td>small</td>\n",
              "      <td>0.0</td>\n",
              "      <td>6.46542</td>\n",
              "      <td>72.6275</td>\n",
              "      <td>-77.8416</td>\n",
              "    </tr>\n",
              "  </tbody>\n",
              "</table>\n",
              "</div>\n",
              "    <div class=\"colab-df-buttons\">\n",
              "\n",
              "  <div class=\"colab-df-container\">\n",
              "    <button class=\"colab-df-convert\" onclick=\"convertToInteractive('df-1728269a-0b54-4487-8e61-88e68573769c')\"\n",
              "            title=\"Convert this dataframe to an interactive table.\"\n",
              "            style=\"display:none;\">\n",
              "\n",
              "  <svg xmlns=\"http://www.w3.org/2000/svg\" height=\"24px\" viewBox=\"0 -960 960 960\">\n",
              "    <path d=\"M120-120v-720h720v720H120Zm60-500h600v-160H180v160Zm220 220h160v-160H400v160Zm0 220h160v-160H400v160ZM180-400h160v-160H180v160Zm440 0h160v-160H620v160ZM180-180h160v-160H180v160Zm440 0h160v-160H620v160Z\"/>\n",
              "  </svg>\n",
              "    </button>\n",
              "\n",
              "  <style>\n",
              "    .colab-df-container {\n",
              "      display:flex;\n",
              "      gap: 12px;\n",
              "    }\n",
              "\n",
              "    .colab-df-convert {\n",
              "      background-color: #E8F0FE;\n",
              "      border: none;\n",
              "      border-radius: 50%;\n",
              "      cursor: pointer;\n",
              "      display: none;\n",
              "      fill: #1967D2;\n",
              "      height: 32px;\n",
              "      padding: 0 0 0 0;\n",
              "      width: 32px;\n",
              "    }\n",
              "\n",
              "    .colab-df-convert:hover {\n",
              "      background-color: #E2EBFA;\n",
              "      box-shadow: 0px 1px 2px rgba(60, 64, 67, 0.3), 0px 1px 3px 1px rgba(60, 64, 67, 0.15);\n",
              "      fill: #174EA6;\n",
              "    }\n",
              "\n",
              "    .colab-df-buttons div {\n",
              "      margin-bottom: 4px;\n",
              "    }\n",
              "\n",
              "    [theme=dark] .colab-df-convert {\n",
              "      background-color: #3B4455;\n",
              "      fill: #D2E3FC;\n",
              "    }\n",
              "\n",
              "    [theme=dark] .colab-df-convert:hover {\n",
              "      background-color: #434B5C;\n",
              "      box-shadow: 0px 1px 3px 1px rgba(0, 0, 0, 0.15);\n",
              "      filter: drop-shadow(0px 1px 2px rgba(0, 0, 0, 0.3));\n",
              "      fill: #FFFFFF;\n",
              "    }\n",
              "  </style>\n",
              "\n",
              "    <script>\n",
              "      const buttonEl =\n",
              "        document.querySelector('#df-1728269a-0b54-4487-8e61-88e68573769c button.colab-df-convert');\n",
              "      buttonEl.style.display =\n",
              "        google.colab.kernel.accessAllowed ? 'block' : 'none';\n",
              "\n",
              "      async function convertToInteractive(key) {\n",
              "        const element = document.querySelector('#df-1728269a-0b54-4487-8e61-88e68573769c');\n",
              "        const dataTable =\n",
              "          await google.colab.kernel.invokeFunction('convertToInteractive',\n",
              "                                                    [key], {});\n",
              "        if (!dataTable) return;\n",
              "\n",
              "        const docLinkHtml = 'Like what you see? Visit the ' +\n",
              "          '<a target=\"_blank\" href=https://colab.research.google.com/notebooks/data_table.ipynb>data table notebook</a>'\n",
              "          + ' to learn more about interactive tables.';\n",
              "        element.innerHTML = '';\n",
              "        dataTable['output_type'] = 'display_data';\n",
              "        await google.colab.output.renderOutput(dataTable, element);\n",
              "        const docLink = document.createElement('div');\n",
              "        docLink.innerHTML = docLinkHtml;\n",
              "        element.appendChild(docLink);\n",
              "      }\n",
              "    </script>\n",
              "  </div>\n",
              "\n",
              "\n",
              "<div id=\"df-2e6bcdee-1230-4061-af38-b81ea5a60802\">\n",
              "  <button class=\"colab-df-quickchart\" onclick=\"quickchart('df-2e6bcdee-1230-4061-af38-b81ea5a60802')\"\n",
              "            title=\"Suggest charts\"\n",
              "            style=\"display:none;\">\n",
              "\n",
              "<svg xmlns=\"http://www.w3.org/2000/svg\" height=\"24px\"viewBox=\"0 0 24 24\"\n",
              "     width=\"24px\">\n",
              "    <g>\n",
              "        <path d=\"M19 3H5c-1.1 0-2 .9-2 2v14c0 1.1.9 2 2 2h14c1.1 0 2-.9 2-2V5c0-1.1-.9-2-2-2zM9 17H7v-7h2v7zm4 0h-2V7h2v10zm4 0h-2v-4h2v4z\"/>\n",
              "    </g>\n",
              "</svg>\n",
              "  </button>\n",
              "\n",
              "<style>\n",
              "  .colab-df-quickchart {\n",
              "      --bg-color: #E8F0FE;\n",
              "      --fill-color: #1967D2;\n",
              "      --hover-bg-color: #E2EBFA;\n",
              "      --hover-fill-color: #174EA6;\n",
              "      --disabled-fill-color: #AAA;\n",
              "      --disabled-bg-color: #DDD;\n",
              "  }\n",
              "\n",
              "  [theme=dark] .colab-df-quickchart {\n",
              "      --bg-color: #3B4455;\n",
              "      --fill-color: #D2E3FC;\n",
              "      --hover-bg-color: #434B5C;\n",
              "      --hover-fill-color: #FFFFFF;\n",
              "      --disabled-bg-color: #3B4455;\n",
              "      --disabled-fill-color: #666;\n",
              "  }\n",
              "\n",
              "  .colab-df-quickchart {\n",
              "    background-color: var(--bg-color);\n",
              "    border: none;\n",
              "    border-radius: 50%;\n",
              "    cursor: pointer;\n",
              "    display: none;\n",
              "    fill: var(--fill-color);\n",
              "    height: 32px;\n",
              "    padding: 0;\n",
              "    width: 32px;\n",
              "  }\n",
              "\n",
              "  .colab-df-quickchart:hover {\n",
              "    background-color: var(--hover-bg-color);\n",
              "    box-shadow: 0 1px 2px rgba(60, 64, 67, 0.3), 0 1px 3px 1px rgba(60, 64, 67, 0.15);\n",
              "    fill: var(--button-hover-fill-color);\n",
              "  }\n",
              "\n",
              "  .colab-df-quickchart-complete:disabled,\n",
              "  .colab-df-quickchart-complete:disabled:hover {\n",
              "    background-color: var(--disabled-bg-color);\n",
              "    fill: var(--disabled-fill-color);\n",
              "    box-shadow: none;\n",
              "  }\n",
              "\n",
              "  .colab-df-spinner {\n",
              "    border: 2px solid var(--fill-color);\n",
              "    border-color: transparent;\n",
              "    border-bottom-color: var(--fill-color);\n",
              "    animation:\n",
              "      spin 1s steps(1) infinite;\n",
              "  }\n",
              "\n",
              "  @keyframes spin {\n",
              "    0% {\n",
              "      border-color: transparent;\n",
              "      border-bottom-color: var(--fill-color);\n",
              "      border-left-color: var(--fill-color);\n",
              "    }\n",
              "    20% {\n",
              "      border-color: transparent;\n",
              "      border-left-color: var(--fill-color);\n",
              "      border-top-color: var(--fill-color);\n",
              "    }\n",
              "    30% {\n",
              "      border-color: transparent;\n",
              "      border-left-color: var(--fill-color);\n",
              "      border-top-color: var(--fill-color);\n",
              "      border-right-color: var(--fill-color);\n",
              "    }\n",
              "    40% {\n",
              "      border-color: transparent;\n",
              "      border-right-color: var(--fill-color);\n",
              "      border-top-color: var(--fill-color);\n",
              "    }\n",
              "    60% {\n",
              "      border-color: transparent;\n",
              "      border-right-color: var(--fill-color);\n",
              "    }\n",
              "    80% {\n",
              "      border-color: transparent;\n",
              "      border-right-color: var(--fill-color);\n",
              "      border-bottom-color: var(--fill-color);\n",
              "    }\n",
              "    90% {\n",
              "      border-color: transparent;\n",
              "      border-bottom-color: var(--fill-color);\n",
              "    }\n",
              "  }\n",
              "</style>\n",
              "\n",
              "  <script>\n",
              "    async function quickchart(key) {\n",
              "      const quickchartButtonEl =\n",
              "        document.querySelector('#' + key + ' button');\n",
              "      quickchartButtonEl.disabled = true;  // To prevent multiple clicks.\n",
              "      quickchartButtonEl.classList.add('colab-df-spinner');\n",
              "      try {\n",
              "        const charts = await google.colab.kernel.invokeFunction(\n",
              "            'suggestCharts', [key], {});\n",
              "      } catch (error) {\n",
              "        console.error('Error during call to suggestCharts:', error);\n",
              "      }\n",
              "      quickchartButtonEl.classList.remove('colab-df-spinner');\n",
              "      quickchartButtonEl.classList.add('colab-df-quickchart-complete');\n",
              "    }\n",
              "    (() => {\n",
              "      let quickchartButtonEl =\n",
              "        document.querySelector('#df-2e6bcdee-1230-4061-af38-b81ea5a60802 button');\n",
              "      quickchartButtonEl.style.display =\n",
              "        google.colab.kernel.accessAllowed ? 'block' : 'none';\n",
              "    })();\n",
              "  </script>\n",
              "</div>\n",
              "\n",
              "    </div>\n",
              "  </div>\n"
            ],
            "application/vnd.google.colaboratory.intrinsic+json": {
              "type": "dataframe",
              "summary": "{\n  \"name\": \"dataset\",\n  \"rows\": 5,\n  \"fields\": [\n    {\n      \"column\": \"location_accuracy\",\n      \"properties\": {\n        \"dtype\": \"number\",\n        \"std\": 9,\n        \"min\": 1,\n        \"max\": 25,\n        \"num_unique_values\": 4,\n        \"samples\": [\n          1,\n          10,\n          25\n        ],\n        \"semantic_type\": \"\",\n        \"description\": \"\"\n      }\n    },\n    {\n      \"column\": \"landslide_size\",\n      \"properties\": {\n        \"dtype\": \"string\",\n        \"num_unique_values\": 3,\n        \"samples\": [\n          \"medium\",\n          \"large\",\n          \"small\"\n        ],\n        \"semantic_type\": \"\",\n        \"description\": \"\"\n      }\n    },\n    {\n      \"column\": \"admin_division_population\",\n      \"properties\": {\n        \"dtype\": \"number\",\n        \"std\": 970.4518019973996,\n        \"min\": 0.0,\n        \"max\": 2624.0,\n        \"num_unique_values\": 4,\n        \"samples\": [\n          1001.0,\n          0.0,\n          1690.0\n        ],\n        \"semantic_type\": \"\",\n        \"description\": \"\"\n      }\n    },\n    {\n      \"column\": \"gazeteer_distance\",\n      \"properties\": {\n        \"dtype\": \"number\",\n        \"std\": 34.88189329194475,\n        \"min\": 6.46542,\n        \"max\": 84.36572,\n        \"num_unique_values\": 5,\n        \"samples\": [\n          83.92592,\n          6.46542,\n          84.36572\n        ],\n        \"semantic_type\": \"\",\n        \"description\": \"\"\n      }\n    },\n    {\n      \"column\": \"latitude\",\n      \"properties\": {\n        \"dtype\": \"number\",\n        \"std\": 3.409702894241666,\n        \"min\": 64.4112,\n        \"max\": 72.6275,\n        \"num_unique_values\": 5,\n        \"samples\": [\n          65.0167,\n          72.6275,\n          65.0216\n        ],\n        \"semantic_type\": \"\",\n        \"description\": \"\"\n      }\n    },\n    {\n      \"column\": \"longitude\",\n      \"properties\": {\n        \"dtype\": \"number\",\n        \"std\": 27.165227781614494,\n        \"min\": -77.8416,\n        \"max\": -14.5624,\n        \"num_unique_values\": 5,\n        \"samples\": [\n          -16.7406,\n          -77.8416,\n          -16.6849\n        ],\n        \"semantic_type\": \"\",\n        \"description\": \"\"\n      }\n    }\n  ]\n}"
            }
          },
          "metadata": {},
          "execution_count": 166
        }
      ]
    },
    {
      "cell_type": "markdown",
      "source": [
        "#Exploratory Data Analysis"
      ],
      "metadata": {
        "id": "WMSqDy5EloEF"
      }
    },
    {
      "cell_type": "code",
      "source": [
        "# Summary Statistics\n",
        "dataset.describe()"
      ],
      "metadata": {
        "colab": {
          "base_uri": "https://localhost:8080/",
          "height": 300
        },
        "id": "Yo_U6aMGMtmd",
        "outputId": "deea6edb-c3e6-470d-ef9e-f7100bf9053e"
      },
      "execution_count": 167,
      "outputs": [
        {
          "output_type": "execute_result",
          "data": {
            "text/plain": [
              "       location_accuracy  admin_division_population  gazeteer_distance  \\\n",
              "count        8931.000000               8.931000e+03        8931.000000   \n",
              "mean           11.625126               1.616933e+05          11.618759   \n",
              "std            16.603967               8.430960e+05          15.339423   \n",
              "min             0.000000               0.000000e+00           0.000030   \n",
              "25%             1.000000               2.033000e+03           2.300295   \n",
              "50%             5.000000               7.609000e+03           6.020580   \n",
              "75%            10.000000               3.493850e+04          15.451790   \n",
              "max           250.000000               1.269184e+07         199.448930   \n",
              "\n",
              "          latitude    longitude  \n",
              "count  8931.000000  8931.000000  \n",
              "mean     25.796193     0.495218  \n",
              "std      20.574631   100.498511  \n",
              "min     -46.774800  -170.799800  \n",
              "25%      13.510700  -107.224800  \n",
              "50%      30.409100     7.465400  \n",
              "75%      41.856850    93.361300  \n",
              "max      72.627500   179.410400  "
            ],
            "text/html": [
              "\n",
              "  <div id=\"df-bc1ae975-1b53-4f91-adb3-15ddc1c0fef9\" class=\"colab-df-container\">\n",
              "    <div>\n",
              "<style scoped>\n",
              "    .dataframe tbody tr th:only-of-type {\n",
              "        vertical-align: middle;\n",
              "    }\n",
              "\n",
              "    .dataframe tbody tr th {\n",
              "        vertical-align: top;\n",
              "    }\n",
              "\n",
              "    .dataframe thead th {\n",
              "        text-align: right;\n",
              "    }\n",
              "</style>\n",
              "<table border=\"1\" class=\"dataframe\">\n",
              "  <thead>\n",
              "    <tr style=\"text-align: right;\">\n",
              "      <th></th>\n",
              "      <th>location_accuracy</th>\n",
              "      <th>admin_division_population</th>\n",
              "      <th>gazeteer_distance</th>\n",
              "      <th>latitude</th>\n",
              "      <th>longitude</th>\n",
              "    </tr>\n",
              "  </thead>\n",
              "  <tbody>\n",
              "    <tr>\n",
              "      <th>count</th>\n",
              "      <td>8931.000000</td>\n",
              "      <td>8.931000e+03</td>\n",
              "      <td>8931.000000</td>\n",
              "      <td>8931.000000</td>\n",
              "      <td>8931.000000</td>\n",
              "    </tr>\n",
              "    <tr>\n",
              "      <th>mean</th>\n",
              "      <td>11.625126</td>\n",
              "      <td>1.616933e+05</td>\n",
              "      <td>11.618759</td>\n",
              "      <td>25.796193</td>\n",
              "      <td>0.495218</td>\n",
              "    </tr>\n",
              "    <tr>\n",
              "      <th>std</th>\n",
              "      <td>16.603967</td>\n",
              "      <td>8.430960e+05</td>\n",
              "      <td>15.339423</td>\n",
              "      <td>20.574631</td>\n",
              "      <td>100.498511</td>\n",
              "    </tr>\n",
              "    <tr>\n",
              "      <th>min</th>\n",
              "      <td>0.000000</td>\n",
              "      <td>0.000000e+00</td>\n",
              "      <td>0.000030</td>\n",
              "      <td>-46.774800</td>\n",
              "      <td>-170.799800</td>\n",
              "    </tr>\n",
              "    <tr>\n",
              "      <th>25%</th>\n",
              "      <td>1.000000</td>\n",
              "      <td>2.033000e+03</td>\n",
              "      <td>2.300295</td>\n",
              "      <td>13.510700</td>\n",
              "      <td>-107.224800</td>\n",
              "    </tr>\n",
              "    <tr>\n",
              "      <th>50%</th>\n",
              "      <td>5.000000</td>\n",
              "      <td>7.609000e+03</td>\n",
              "      <td>6.020580</td>\n",
              "      <td>30.409100</td>\n",
              "      <td>7.465400</td>\n",
              "    </tr>\n",
              "    <tr>\n",
              "      <th>75%</th>\n",
              "      <td>10.000000</td>\n",
              "      <td>3.493850e+04</td>\n",
              "      <td>15.451790</td>\n",
              "      <td>41.856850</td>\n",
              "      <td>93.361300</td>\n",
              "    </tr>\n",
              "    <tr>\n",
              "      <th>max</th>\n",
              "      <td>250.000000</td>\n",
              "      <td>1.269184e+07</td>\n",
              "      <td>199.448930</td>\n",
              "      <td>72.627500</td>\n",
              "      <td>179.410400</td>\n",
              "    </tr>\n",
              "  </tbody>\n",
              "</table>\n",
              "</div>\n",
              "    <div class=\"colab-df-buttons\">\n",
              "\n",
              "  <div class=\"colab-df-container\">\n",
              "    <button class=\"colab-df-convert\" onclick=\"convertToInteractive('df-bc1ae975-1b53-4f91-adb3-15ddc1c0fef9')\"\n",
              "            title=\"Convert this dataframe to an interactive table.\"\n",
              "            style=\"display:none;\">\n",
              "\n",
              "  <svg xmlns=\"http://www.w3.org/2000/svg\" height=\"24px\" viewBox=\"0 -960 960 960\">\n",
              "    <path d=\"M120-120v-720h720v720H120Zm60-500h600v-160H180v160Zm220 220h160v-160H400v160Zm0 220h160v-160H400v160ZM180-400h160v-160H180v160Zm440 0h160v-160H620v160ZM180-180h160v-160H180v160Zm440 0h160v-160H620v160Z\"/>\n",
              "  </svg>\n",
              "    </button>\n",
              "\n",
              "  <style>\n",
              "    .colab-df-container {\n",
              "      display:flex;\n",
              "      gap: 12px;\n",
              "    }\n",
              "\n",
              "    .colab-df-convert {\n",
              "      background-color: #E8F0FE;\n",
              "      border: none;\n",
              "      border-radius: 50%;\n",
              "      cursor: pointer;\n",
              "      display: none;\n",
              "      fill: #1967D2;\n",
              "      height: 32px;\n",
              "      padding: 0 0 0 0;\n",
              "      width: 32px;\n",
              "    }\n",
              "\n",
              "    .colab-df-convert:hover {\n",
              "      background-color: #E2EBFA;\n",
              "      box-shadow: 0px 1px 2px rgba(60, 64, 67, 0.3), 0px 1px 3px 1px rgba(60, 64, 67, 0.15);\n",
              "      fill: #174EA6;\n",
              "    }\n",
              "\n",
              "    .colab-df-buttons div {\n",
              "      margin-bottom: 4px;\n",
              "    }\n",
              "\n",
              "    [theme=dark] .colab-df-convert {\n",
              "      background-color: #3B4455;\n",
              "      fill: #D2E3FC;\n",
              "    }\n",
              "\n",
              "    [theme=dark] .colab-df-convert:hover {\n",
              "      background-color: #434B5C;\n",
              "      box-shadow: 0px 1px 3px 1px rgba(0, 0, 0, 0.15);\n",
              "      filter: drop-shadow(0px 1px 2px rgba(0, 0, 0, 0.3));\n",
              "      fill: #FFFFFF;\n",
              "    }\n",
              "  </style>\n",
              "\n",
              "    <script>\n",
              "      const buttonEl =\n",
              "        document.querySelector('#df-bc1ae975-1b53-4f91-adb3-15ddc1c0fef9 button.colab-df-convert');\n",
              "      buttonEl.style.display =\n",
              "        google.colab.kernel.accessAllowed ? 'block' : 'none';\n",
              "\n",
              "      async function convertToInteractive(key) {\n",
              "        const element = document.querySelector('#df-bc1ae975-1b53-4f91-adb3-15ddc1c0fef9');\n",
              "        const dataTable =\n",
              "          await google.colab.kernel.invokeFunction('convertToInteractive',\n",
              "                                                    [key], {});\n",
              "        if (!dataTable) return;\n",
              "\n",
              "        const docLinkHtml = 'Like what you see? Visit the ' +\n",
              "          '<a target=\"_blank\" href=https://colab.research.google.com/notebooks/data_table.ipynb>data table notebook</a>'\n",
              "          + ' to learn more about interactive tables.';\n",
              "        element.innerHTML = '';\n",
              "        dataTable['output_type'] = 'display_data';\n",
              "        await google.colab.output.renderOutput(dataTable, element);\n",
              "        const docLink = document.createElement('div');\n",
              "        docLink.innerHTML = docLinkHtml;\n",
              "        element.appendChild(docLink);\n",
              "      }\n",
              "    </script>\n",
              "  </div>\n",
              "\n",
              "\n",
              "<div id=\"df-9a9e8106-c12b-476f-97bc-877b53dad4bf\">\n",
              "  <button class=\"colab-df-quickchart\" onclick=\"quickchart('df-9a9e8106-c12b-476f-97bc-877b53dad4bf')\"\n",
              "            title=\"Suggest charts\"\n",
              "            style=\"display:none;\">\n",
              "\n",
              "<svg xmlns=\"http://www.w3.org/2000/svg\" height=\"24px\"viewBox=\"0 0 24 24\"\n",
              "     width=\"24px\">\n",
              "    <g>\n",
              "        <path d=\"M19 3H5c-1.1 0-2 .9-2 2v14c0 1.1.9 2 2 2h14c1.1 0 2-.9 2-2V5c0-1.1-.9-2-2-2zM9 17H7v-7h2v7zm4 0h-2V7h2v10zm4 0h-2v-4h2v4z\"/>\n",
              "    </g>\n",
              "</svg>\n",
              "  </button>\n",
              "\n",
              "<style>\n",
              "  .colab-df-quickchart {\n",
              "      --bg-color: #E8F0FE;\n",
              "      --fill-color: #1967D2;\n",
              "      --hover-bg-color: #E2EBFA;\n",
              "      --hover-fill-color: #174EA6;\n",
              "      --disabled-fill-color: #AAA;\n",
              "      --disabled-bg-color: #DDD;\n",
              "  }\n",
              "\n",
              "  [theme=dark] .colab-df-quickchart {\n",
              "      --bg-color: #3B4455;\n",
              "      --fill-color: #D2E3FC;\n",
              "      --hover-bg-color: #434B5C;\n",
              "      --hover-fill-color: #FFFFFF;\n",
              "      --disabled-bg-color: #3B4455;\n",
              "      --disabled-fill-color: #666;\n",
              "  }\n",
              "\n",
              "  .colab-df-quickchart {\n",
              "    background-color: var(--bg-color);\n",
              "    border: none;\n",
              "    border-radius: 50%;\n",
              "    cursor: pointer;\n",
              "    display: none;\n",
              "    fill: var(--fill-color);\n",
              "    height: 32px;\n",
              "    padding: 0;\n",
              "    width: 32px;\n",
              "  }\n",
              "\n",
              "  .colab-df-quickchart:hover {\n",
              "    background-color: var(--hover-bg-color);\n",
              "    box-shadow: 0 1px 2px rgba(60, 64, 67, 0.3), 0 1px 3px 1px rgba(60, 64, 67, 0.15);\n",
              "    fill: var(--button-hover-fill-color);\n",
              "  }\n",
              "\n",
              "  .colab-df-quickchart-complete:disabled,\n",
              "  .colab-df-quickchart-complete:disabled:hover {\n",
              "    background-color: var(--disabled-bg-color);\n",
              "    fill: var(--disabled-fill-color);\n",
              "    box-shadow: none;\n",
              "  }\n",
              "\n",
              "  .colab-df-spinner {\n",
              "    border: 2px solid var(--fill-color);\n",
              "    border-color: transparent;\n",
              "    border-bottom-color: var(--fill-color);\n",
              "    animation:\n",
              "      spin 1s steps(1) infinite;\n",
              "  }\n",
              "\n",
              "  @keyframes spin {\n",
              "    0% {\n",
              "      border-color: transparent;\n",
              "      border-bottom-color: var(--fill-color);\n",
              "      border-left-color: var(--fill-color);\n",
              "    }\n",
              "    20% {\n",
              "      border-color: transparent;\n",
              "      border-left-color: var(--fill-color);\n",
              "      border-top-color: var(--fill-color);\n",
              "    }\n",
              "    30% {\n",
              "      border-color: transparent;\n",
              "      border-left-color: var(--fill-color);\n",
              "      border-top-color: var(--fill-color);\n",
              "      border-right-color: var(--fill-color);\n",
              "    }\n",
              "    40% {\n",
              "      border-color: transparent;\n",
              "      border-right-color: var(--fill-color);\n",
              "      border-top-color: var(--fill-color);\n",
              "    }\n",
              "    60% {\n",
              "      border-color: transparent;\n",
              "      border-right-color: var(--fill-color);\n",
              "    }\n",
              "    80% {\n",
              "      border-color: transparent;\n",
              "      border-right-color: var(--fill-color);\n",
              "      border-bottom-color: var(--fill-color);\n",
              "    }\n",
              "    90% {\n",
              "      border-color: transparent;\n",
              "      border-bottom-color: var(--fill-color);\n",
              "    }\n",
              "  }\n",
              "</style>\n",
              "\n",
              "  <script>\n",
              "    async function quickchart(key) {\n",
              "      const quickchartButtonEl =\n",
              "        document.querySelector('#' + key + ' button');\n",
              "      quickchartButtonEl.disabled = true;  // To prevent multiple clicks.\n",
              "      quickchartButtonEl.classList.add('colab-df-spinner');\n",
              "      try {\n",
              "        const charts = await google.colab.kernel.invokeFunction(\n",
              "            'suggestCharts', [key], {});\n",
              "      } catch (error) {\n",
              "        console.error('Error during call to suggestCharts:', error);\n",
              "      }\n",
              "      quickchartButtonEl.classList.remove('colab-df-spinner');\n",
              "      quickchartButtonEl.classList.add('colab-df-quickchart-complete');\n",
              "    }\n",
              "    (() => {\n",
              "      let quickchartButtonEl =\n",
              "        document.querySelector('#df-9a9e8106-c12b-476f-97bc-877b53dad4bf button');\n",
              "      quickchartButtonEl.style.display =\n",
              "        google.colab.kernel.accessAllowed ? 'block' : 'none';\n",
              "    })();\n",
              "  </script>\n",
              "</div>\n",
              "\n",
              "    </div>\n",
              "  </div>\n"
            ],
            "application/vnd.google.colaboratory.intrinsic+json": {
              "type": "dataframe",
              "summary": "{\n  \"name\": \"dataset\",\n  \"rows\": 8,\n  \"fields\": [\n    {\n      \"column\": \"location_accuracy\",\n      \"properties\": {\n        \"dtype\": \"number\",\n        \"std\": 3143.87593719071,\n        \"min\": 0.0,\n        \"max\": 8931.0,\n        \"num_unique_values\": 8,\n        \"samples\": [\n          11.62512596573732,\n          5.0,\n          8931.0\n        ],\n        \"semantic_type\": \"\",\n        \"description\": \"\"\n      }\n    },\n    {\n      \"column\": \"admin_division_population\",\n      \"properties\": {\n        \"dtype\": \"number\",\n        \"std\": 4443096.351008466,\n        \"min\": 0.0,\n        \"max\": 12691836.0,\n        \"num_unique_values\": 8,\n        \"samples\": [\n          161693.31116336357,\n          7609.0,\n          8931.0\n        ],\n        \"semantic_type\": \"\",\n        \"description\": \"\"\n      }\n    },\n    {\n      \"column\": \"gazeteer_distance\",\n      \"properties\": {\n        \"dtype\": \"number\",\n        \"std\": 3145.664445721543,\n        \"min\": 3e-05,\n        \"max\": 8931.0,\n        \"num_unique_values\": 8,\n        \"samples\": [\n          11.618758785130446,\n          6.02058,\n          8931.0\n        ],\n        \"semantic_type\": \"\",\n        \"description\": \"\"\n      }\n    },\n    {\n      \"column\": \"latitude\",\n      \"properties\": {\n        \"dtype\": \"number\",\n        \"std\": 3149.7830111912435,\n        \"min\": -46.7748,\n        \"max\": 8931.0,\n        \"num_unique_values\": 8,\n        \"samples\": [\n          25.796192828615606,\n          30.4091,\n          8931.0\n        ],\n        \"semantic_type\": \"\",\n        \"description\": \"\"\n      }\n    },\n    {\n      \"column\": \"longitude\",\n      \"properties\": {\n        \"dtype\": \"number\",\n        \"std\": 3154.4159705768084,\n        \"min\": -170.7998,\n        \"max\": 8931.0,\n        \"num_unique_values\": 8,\n        \"samples\": [\n          0.4952184344491141,\n          7.4654,\n          8931.0\n        ],\n        \"semantic_type\": \"\",\n        \"description\": \"\"\n      }\n    }\n  ]\n}"
            }
          },
          "metadata": {},
          "execution_count": 167
        }
      ]
    },
    {
      "cell_type": "code",
      "source": [
        "plt.figure(figsize=(8,5))\n",
        "sns.countplot(x=\"landslide_size\", hue=\"landslide_size\", data=dataset, palette=\"viridis\")\n",
        "plt.title(\"Distribution of Landslide Sizes\")\n",
        "plt.xlabel(\"Landslide sizes\")\n",
        "plt.ylabel(\"Occurance Count\")\n",
        "plt.show()"
      ],
      "metadata": {
        "colab": {
          "base_uri": "https://localhost:8080/",
          "height": 487
        },
        "id": "uUnx_K4FoHdm",
        "outputId": "d37ab8b7-3fcc-48a6-96ca-1a21df1be49a"
      },
      "execution_count": 168,
      "outputs": [
        {
          "output_type": "display_data",
          "data": {
            "text/plain": [
              "<Figure size 800x500 with 1 Axes>"
            ],
            "image/png": "[encoded data removed]"
          },
          "metadata": {}
        }
      ]
    },
    {
      "cell_type": "code",
      "source": [
        "plt.figure(figsize=(8, 5))\n",
        "sns.histplot(dataset['location_accuracy'], bins='auto', kde=True, color='blue')\n",
        "\n",
        "plt.title('Distribution of location accuracy in km', fontsize=14)\n",
        "plt.xlabel('Accuracy of landslide location', fontsize=12)\n",
        "plt.ylabel('Count of Records', fontsize=12)\n",
        "plt.grid(axis='y', linestyle='--', alpha=0.7)\n",
        "\n",
        "plt.show()"
      ],
      "metadata": {
        "colab": {
          "base_uri": "https://localhost:8080/",
          "height": 492
        },
        "id": "uRBkzzzUqk3G",
        "outputId": "eca4f59f-3546-4f36-a322-69c7f67aaf81"
      },
      "execution_count": 169,
      "outputs": [
        {
          "output_type": "display_data",
          "data": {
            "text/plain": [
              "<Figure size 800x500 with 1 Axes>"
            ],
            "image/png": "[encoded data removed]"
          },
          "metadata": {}
        }
      ]
    },
    {
      "cell_type": "code",
      "source": [
        "plt.figure(figsize=(10, 6))\n",
        "sns.barplot(data=dataset, x='landslide_size', y='admin_division_population', hue='landslide_size', estimator='mean')\n",
        "\n",
        "plt.xlabel(\"Landslide Size\", fontsize=12)\n",
        "plt.ylabel(\"Average Population in Admin Division\", fontsize=12)\n",
        "plt.title(\"Average Population by Landslide Size\", fontsize=14)\n",
        "\n",
        "plt.show()"
      ],
      "metadata": {
        "colab": {
          "base_uri": "https://localhost:8080/",
          "height": 569
        },
        "outputId": "48f07574-520b-47f5-e991-72d0d21ebc4b",
        "id": "jh8gxAturffG"
      },
      "execution_count": 170,
      "outputs": [
        {
          "output_type": "display_data",
          "data": {
            "text/plain": [
              "<Figure size 1000x600 with 1 Axes>"
            ],
            "image/png": "[encoded data removed]"
          },
          "metadata": {}
        }
      ]
    },
    {
      "cell_type": "markdown",
      "source": [
        "#Logistic Regression from Scratch\n"
      ],
      "metadata": {
        "id": "CbgY-OtJtkbw"
      }
    },
    {
      "cell_type": "markdown",
      "source": [
        "##Helper functions"
      ],
      "metadata": {
        "id": "RhUSpTfwtqw5"
      }
    },
    {
      "cell_type": "markdown",
      "source": [
        "###Softmax\n",
        "The softmax function is defined as:\n",
        "\n",
        "$$ \\text{softmax}(z)_i = \\frac{\\exp(z_i)}{\\sum_{j=1}^n \\exp(z_j)} $$\n",
        "\n",
        "where $z \\in \\mathbb{R}^n. $"
      ],
      "metadata": {
        "id": "prjtSYegt9JA"
      }
    },
    {
      "cell_type": "code",
      "source": [
        "import numpy as np\n",
        "\n",
        "def softmax(z):\n",
        "  \"\"\"\n",
        "  Compute the softmax of a 2D numpy array along the specified axis.\n",
        "  Parameters:\n",
        "  z (numpy.ndarray): Input array of shape (m, n) where m is the number of samples\n",
        "\n",
        "  and n is the number of classes.\n",
        "\n",
        "  Returns:\n",
        "  numpy.ndarray: Softmax probabilities of the same shape as input (m, n), where\n",
        "  each row sums to 1 and represents the probability distribution\n",
        "  over classes for a sample.\n",
        "\n",
        "  Notes:\n",
        "  - Applies a normalization trick to prevent numerical instability by subtracting\n",
        "  the max value in each row before exponentiation.\n",
        "  \"\"\"\n",
        "  exp_z = np.exp(z - np.max(z, axis=1, keepdims=True))\n",
        "  return exp_z / np.sum(exp_z, axis=1, keepdims=True)"
      ],
      "metadata": {
        "id": "7ag1vd4hMtei"
      },
      "execution_count": 171,
      "outputs": []
    },
    {
      "cell_type": "markdown",
      "source": [
        "###Categorical Log-Loss\n",
        "The categorical log-loss for softmax regression is given by:\n",
        "\n",
        "$$\n",
        "L(y, \\hat{y}) = -\\frac{1}{n} \\sum_{i=1}^n \\sum_{c=1}^C y_{i,c} \\log(\\hat{y}_{i,c})\n",
        "$$\n",
        "\n",
        "where:\n",
        "\n",
        "- $y$ : One-hot encoded true target values of shape  $(n, C)$\n",
        "- $\\hat{y}$: Predicted probabilities from softmax of shape $(n, C)$\n"
      ],
      "metadata": {
        "id": "xa7s5wTNuJmn"
      }
    },
    {
      "cell_type": "code",
      "source": [
        "# Loss Function for a Single Observation\n",
        "def loss_softmax(y_true, y_pred):\n",
        "  \"\"\"\n",
        "  Compute the cross-entropy loss for a single observation.\n",
        "  Parameters:\n",
        "  y_true (numpy.ndarray): True labels (one-hot encoded) of shape (c,).\n",
        "  y_pred (numpy.ndarray): Predicted probabilities of shape (c,).\n",
        "  Returns:\n",
        "  float: Cross-entropy loss for the observation.\n",
        "  \"\"\"\n",
        "  return -np.sum(y_true * np.log(y_pred + 1e-10)) # Add epsilon to prevent log(0)"
      ],
      "metadata": {
        "id": "VCwZv-btMtZ6"
      },
      "execution_count": 172,
      "outputs": []
    },
    {
      "cell_type": "markdown",
      "source": [
        "###Cost Function\n",
        "The categorical log-loss for a single observation is:\n",
        "\n",
        "$$\n",
        "L(y, \\hat{y}) = -\\frac{1}{n} \\sum_{i=1}^n \\sum_{c=1}^C y_{i,c} \\log(\\hat{y}_{i,c})\n",
        "$$\n",
        "\n",
        "where:\n",
        "\n",
        "- $y_{i, c}$ : True one-hot value for class $c$\n",
        "- $\\hat{y}_{i, c}$: Predicted probability for class $c$\n",
        "\n",
        "For $n$ observations, the cost function is:\n",
        "\n",
        "$$\n",
        "\\text{cost}(y, \\hat{y}) = \\frac{1}{n} \\sum_{i=1}^n L(y_i, \\hat{y}_i)\n",
        "$$\n",
        "\n",
        "Substituting $L(y_i, \\hat{y}_i) :$\n",
        "\n",
        "$$\n",
        "\\text{cost}(y, \\hat{y}) = -\\frac{1}{n} \\sum_{i=1}^n \\sum_{c=1}^C y_{i,c} \\log(\\hat{y}_{i,c})\n",
        "$$\n"
      ],
      "metadata": {
        "id": "odE-5u41uaON"
      }
    },
    {
      "cell_type": "code",
      "source": [
        "# Cost Function for Softmax (Average Loss)\n",
        "def cost_softmax(X, y, W, b):\n",
        "  \"\"\"\n",
        "  Compute the average cross-entropy cost over all samples.\n",
        "  Parameters:\n",
        "  X (numpy.ndarray): Feature matrix of shape (n, d).\n",
        "  y (numpy.ndarray): True labels (one-hot encoded) of shape (n, c).\n",
        "  W (numpy.ndarray): Weight matrix of shape (d, c).\n",
        "  b (numpy.ndarray): Bias vector of shape (c,).\n",
        "  Returns:\n",
        "  float: Average cross-entropy cost over all samples.\n",
        "  \"\"\"\n",
        "  n, d = X.shape\n",
        "  z = np.dot(X, W) + b\n",
        "  y_pred = softmax(z)\n",
        "  return -np.sum(y * np.log(y_pred + 1e-10)) / n"
      ],
      "metadata": {
        "id": "UCcudM1RMtVN"
      },
      "execution_count": 173,
      "outputs": []
    },
    {
      "cell_type": "markdown",
      "source": [
        "###Gradients\n",
        "For the categorical cross-entropy loss, the gradients are:\n",
        "\n",
        "$$\n",
        "\\frac{\\partial \\text{Categorical Log Loss}}{\\partial w_c} = -\\frac{1}{n} \\sum_{i=1}^n (y_{i,c} - \\hat{y}_{i,c}) x_i, \\quad \\forall c \\in \\{1, \\dots, C\\}, \\tag{1}\n",
        "$$\n",
        "\n",
        "$$\n",
        "\\frac{\\partial \\text{Categorical Log Loss}}{\\partial b_c} = -\\frac{1}{n} \\sum_{i=1}^n (y_{i,c} - \\hat{y}_{i,c}), \\quad \\forall c \\in \\{1, \\dots, C\\}. \\tag{2}\n",
        "$$\n",
        "\n",
        "The weights \\( w_c \\) and biases \\( b_c \\) for each class \\( c \\) are updated as:\n",
        "\n",
        "$$\n",
        "w_c \\leftarrow w_c - \\alpha \\frac{\\partial \\text{Categorical Log Loss}}{\\partial w_c}, \\quad\n",
        "b_c \\leftarrow b_c - \\alpha \\frac{\\partial \\text{Categorical Log Loss}}{\\partial b_c}. \\tag{3}\n",
        "$$\n"
      ],
      "metadata": {
        "id": "WgZM0SQyuj2X"
      }
    },
    {
      "cell_type": "code",
      "source": [
        "# Gradient Computation\n",
        "def compute_gradient_softmax(X, y, W, b):\n",
        "  \"\"\"\n",
        "  Compute the gradients of the cost function with respect to weights and biases.\n",
        "  Parameters:\n",
        "  X (numpy.ndarray): Feature matrix of shape (n, d).\n",
        "  y (numpy.ndarray): True labels (one-hot encoded) of shape (n, c).\n",
        "  W (numpy.ndarray): Weight matrix of shape (d, c).\n",
        "  b (numpy.ndarray): Bias vector of shape (c,).\n",
        "  Returns:\n",
        "  tuple: Gradients with respect to weights (d, c) and biases (c,).\n",
        "  \"\"\"\n",
        "  n, d = X.shape\n",
        "  z = np.dot(X, W) + b\n",
        "  y_pred = softmax(z)\n",
        "  grad_W = np.dot(X.T, (y_pred - y)) / n\n",
        "  grad_b = np.sum(y_pred - y, axis=0) / n\n",
        "  return grad_W, grad_b"
      ],
      "metadata": {
        "id": "nXNNhJT7MtOR"
      },
      "execution_count": 174,
      "outputs": []
    },
    {
      "cell_type": "markdown",
      "source": [
        "###Gradient Descent"
      ],
      "metadata": {
        "id": "wNdvQF4kuoZu"
      }
    },
    {
      "cell_type": "code",
      "source": [
        "def gradient_descent_softmax(X, y, W, b, alpha, n_iter, show_cost=False):\n",
        "  \"\"\"\n",
        "  Perform gradient descent to optimize the weights and biases.\n",
        "  Parameters:\n",
        "  X (numpy.ndarray): Feature matrix of shape (n, d).\n",
        "  y (numpy.ndarray): True labels (one-hot encoded) of shape (n, c).\n",
        "  W (numpy.ndarray): Weight matrix of shape (d, c).\n",
        "  b (numpy.ndarray): Bias vector of shape (c,).\n",
        "  alpha (float): Learning rate.\n",
        "  n_iter (int): Number of iterations.\n",
        "  show_cost (bool): Whether to display the cost at intervals.\n",
        "  Returns:\n",
        "  tuple: Optimized weights, biases, and cost history.\n",
        "  \"\"\"\n",
        "  cost_history = []\n",
        "\n",
        "  for i in range(n_iter):\n",
        "    grad_W, grad_b = compute_gradient_softmax(X, y, W, b)\n",
        "    W -= alpha * grad_W\n",
        "    b -= alpha * grad_b\n",
        "    cost = cost_softmax(X, y, W, b)\n",
        "    cost_history.append(cost)\n",
        "\n",
        "    if show_cost and (i % 100 == 0 or i == n_iter - 1):\n",
        "      print(f\"Iteration {i}: Cost = {cost:.6f}\")\n",
        "\n",
        "  return W, b, cost_history"
      ],
      "metadata": {
        "id": "Fhya1-wMMtGz"
      },
      "execution_count": 175,
      "outputs": []
    },
    {
      "cell_type": "markdown",
      "source": [
        "###Decision Rule\n",
        "\n",
        "1. **Prediction**:  \n",
        "   - Using the trained weights and bias, the model calculates the probabilities $y_{\\text{prob}}$ for each sample in the test set. These probabilities are computed using the softmax function and indicate the likelihood of belonging to each of the $c$ classes.  \n",
        "   - The softmax probabilities for a sample $i$ are given by:\n",
        "\n",
        "   $$\n",
        "   y_{\\text{prob},i,j} = \\frac{\\exp(z_{i,j})}{\\sum_{k=1}^c \\exp(z_{i,k})}, \\quad \\text{for } j \\in \\{1, 2, \\dots, c\\},\n",
        "   $$\n",
        "\n",
        "   where $z_{i,j}$ is the unnormalized logit for class $j$, and $c$ is the total number of classes.\n",
        "\n",
        "2. **Decision Rule**:  \n",
        "   - The predicted probabilities $y_{\\text{prob},i,j}$ are converted into a discrete class label$\\hat{y}_i$ by selecting the class with the highest probability. This decision rule is given by:\n",
        "\n",
        "   $$\n",
        "   \\hat{y}_i = \\underset{j \\in \\{1, 2, \\dots, c\\}}{\\arg\\max} \\, y_{\\text{prob},i,j}.\n",
        "   $$\n",
        "\n",
        "   - For each sample, the class label $\\hat{y}_i$ corresponds to the index of the maximum softmax probability, which indicates the most likely class.\n"
      ],
      "metadata": {
        "id": "tu8MQQffu2LJ"
      }
    },
    {
      "cell_type": "code",
      "source": [
        "# Prediction Function\n",
        "def predict_softmax(X, W, b):\n",
        "  \"\"\"\n",
        "  Predict the class labels for input data.\n",
        "  Parameters:\n",
        "  X (numpy.ndarray): Feature matrix of shape (n, d).\n",
        "  W (numpy.ndarray): Weight matrix of shape (d, c).\n",
        "  b (numpy.ndarray): Bias vector of shape (c,).\n",
        "  Returns:\n",
        "  numpy.ndarray: Predicted class labels of shape (n,).\n",
        "  \"\"\"\n",
        "  z = np.dot(X, W) + b\n",
        "  y_pred = softmax(z)\n",
        "\n",
        "  return np.argmax(y_pred, axis=1)\n"
      ],
      "metadata": {
        "id": "U--MPqaCSVNa"
      },
      "execution_count": 176,
      "outputs": []
    },
    {
      "cell_type": "markdown",
      "source": [
        "###Evaluation Metrics"
      ],
      "metadata": {
        "id": "GUy93VkavCeH"
      }
    },
    {
      "cell_type": "code",
      "source": [
        "# # Evaluation Function\n",
        "# def evaluate_classification(y_true, y_pred):\n",
        "#   \"\"\"\n",
        "#   Evaluate the classification performance using confusion matrix, precision, recall, and F1-score.\n",
        "#   Parameters:\n",
        "#   y_true (numpy.ndarray): True class labels of shape (n,).\n",
        "#   y_pred (numpy.ndarray): Predicted class labels of shape (n,).\n",
        "#   Returns:\n",
        "#   tuple: Confusion matrix, precision, recall, and F1-score.\n",
        "#   \"\"\"\n",
        "#   from sklearn.metrics import confusion_matrix, precision_score, recall_score, f1_score\n",
        "#   cm = confusion_matrix(y_true, y_pred)\n",
        "#   precision = precision_score(y_true, y_pred, average=\"weighted\", zero_division=0)\n",
        "#   recall = recall_score(y_true, y_pred, average=\"weighted\", zero_division=0)\n",
        "#   f1 = f1_score(y_true, y_pred, average=\"weighted\", zero_division=0)\n",
        "#   return cm, precision, recall, f1\n",
        "\n",
        "\n",
        "def evaluate_classification(y_true, y_pred):\n",
        "  \"\"\"\n",
        "  Evaluate the classification performance using confusion matrix, precision, recall, and F1-score.\n",
        "\n",
        "  Parameters:\n",
        "  y_true (numpy.ndarray): True class labels of shape (n,).\n",
        "  y_pred (numpy.ndarray): Predicted class labels of shape (n,).\n",
        "\n",
        "  Returns:\n",
        "  tuple: Confusion matrix, precision, recall, and F1-score.\n",
        "  \"\"\"\n",
        "  unique_classes = np.unique(np.concatenate((y_true, y_pred)))  # Get all unique classes\n",
        "  num_classes = len(unique_classes)\n",
        "\n",
        "  # Create a confusion matrix\n",
        "  cm = np.zeros((num_classes, num_classes), dtype=int)\n",
        "  for i in range(len(y_true)):\n",
        "      true_idx = np.where(unique_classes == y_true[i])[0][0]\n",
        "      pred_idx = np.where(unique_classes == y_pred[i])[0][0]\n",
        "      cm[true_idx, pred_idx] += 1\n",
        "\n",
        "  # Calculate Precision, Recall, and F1-score (weighted)\n",
        "  precision, recall, f1 = 0, 0, 0\n",
        "  total_samples = len(y_true)\n",
        "\n",
        "  for i, cls in enumerate(unique_classes):\n",
        "      TP = cm[i, i]  # True Positives\n",
        "      FP = np.sum(cm[:, i]) - TP  # False Positives\n",
        "      FN = np.sum(cm[i, :]) - TP  # False Negatives\n",
        "      TN = total_samples - (TP + FP + FN)  # True Negatives\n",
        "\n",
        "      # Precision: TP / (TP + FP)\n",
        "      class_precision = TP / (TP + FP) if (TP + FP) > 0 else 0\n",
        "\n",
        "      # Recall: TP / (TP + FN)\n",
        "      class_recall = TP / (TP + FN) if (TP + FN) > 0 else 0\n",
        "\n",
        "      # F1-score: 2 * (precision * recall) / (precision + recall)\n",
        "      class_f1 = (2 * class_precision * class_recall) / (class_precision + class_recall) if (class_precision + class_recall) > 0 else 0\n",
        "\n",
        "      # Weighted Sum\n",
        "      class_weight = np.sum(cm[i, :]) / total_samples\n",
        "      precision += class_precision * class_weight\n",
        "      recall += class_recall * class_weight\n",
        "      f1 += class_f1 * class_weight\n",
        "\n",
        "  return cm, precision, recall, f1\n"
      ],
      "metadata": {
        "id": "RCWNXzPaSU7x"
      },
      "execution_count": 177,
      "outputs": []
    },
    {
      "cell_type": "markdown",
      "source": [
        "###Train Test Split"
      ],
      "metadata": {
        "id": "khjVIG77wF0n"
      }
    },
    {
      "cell_type": "code",
      "execution_count": 178,
      "metadata": {
        "id": "FR0tSbVBw4nK"
      },
      "outputs": [],
      "source": [
        "def custom_train_test_split(input_matrix, output_array, test_size=0.3, random_state = 42):\n",
        "  \"\"\"\n",
        "  Splits dataset into 4 parts input_matrix_train, input_matrix_test, output_array_train, output_array_test\n",
        "\n",
        "  Parameters:\n",
        "  input_matrix (np.ndarray): Feature matrix\n",
        "  output_array (np.ndarray): Label vector\n",
        "  test_proportion (float): proportion of dataset to include test split (0 < test_proportion < 1)\n",
        "  random_seed (int) : seed for reproducibility\n",
        "\n",
        "  Returns:\n",
        "  input_matrix_train (np.ndarray): Training feature matrix\n",
        "  input_matrix_test (np.ndarray): Testing feature matrix\n",
        "  output_array_train (np.ndarray): Training label vector\n",
        "\n",
        "  output_array_test (np.ndarray): Testing label vector\n",
        "  \"\"\"\n",
        "  # Setting a random seed for reproducibility\n",
        "  np.random.seed(random_state)\n",
        "\n",
        "  # Listing out all of the indices of feature matrix\n",
        "  indices = np.arange(input_matrix.shape[0])\n",
        "\n",
        "  # Shuffling indices to be randomly oriented\n",
        "  np.random.shuffle(indices)\n",
        "\n",
        "  # Calculating size of test according to proportion\n",
        "  test_split_size = int(len(input_matrix) * test_size)\n",
        "\n",
        "  # Separatring indices of test and indices of train\n",
        "  test_indices = indices[:test_split_size]\n",
        "  train_indices = indices[test_split_size:]\n",
        "\n",
        "  # Storing train and test data according to indices (Perform the train-test split)\n",
        "  input_matrix_train = input_matrix[train_indices]\n",
        "  input_matrix_test = input_matrix[test_indices]\n",
        "  output_array_train = output_array[train_indices]\n",
        "  output_array_test = output_array[test_indices]\n",
        "\n",
        "  return input_matrix_train, input_matrix_test, output_array_train, output_array_test"
      ]
    },
    {
      "cell_type": "markdown",
      "source": [
        "###Min Max Scaling"
      ],
      "metadata": {
        "id": "vXl_ThlkwJbw"
      }
    },
    {
      "cell_type": "code",
      "source": [
        "# Manually implement Min-Max Scaling\n",
        "def min_max_scaling(X):\n",
        "  \"\"\"\n",
        "  Scales the feature matrix X using Min-Max scaling to the range [0, 1].\n",
        "\n",
        "  Parameters:\n",
        "  X (numpy array): Feature matrix (2D numpy array)\n",
        "\n",
        "  Returns:\n",
        "  X_scaled (numpy array): Scaled feature matrix\n",
        "  \"\"\"\n",
        "  # Calculate min and max values for each feature (column)\n",
        "  X_min = np.min(X, axis=0)\n",
        "  X_max = np.max(X, axis=0)\n",
        "\n",
        "  # Apply Min-Max scaling to each feature (column)\n",
        "  X_scaled = (X - X_min) / (X_max - X_min)\n",
        "\n",
        "  return X_scaled"
      ],
      "metadata": {
        "id": "s04fBHTpoTyz"
      },
      "execution_count": 179,
      "outputs": []
    },
    {
      "cell_type": "code",
      "source": [
        "import numpy as np\n",
        "import pandas as pd\n",
        "from sklearn.model_selection import train_test_split\n",
        "from sklearn.preprocessing import StandardScaler, OneHotEncoder\n",
        "import matplotlib.pyplot as plt"
      ],
      "metadata": {
        "id": "UM82Y9kTSUqT"
      },
      "execution_count": 180,
      "outputs": []
    },
    {
      "cell_type": "markdown",
      "source": [
        "##Softmax Regression from Scratch"
      ],
      "metadata": {
        "id": "DKYvvOsBz3eA"
      }
    },
    {
      "cell_type": "code",
      "source": [
        "# Feature matrix X and label vector y\n",
        "\n",
        "X = dataset.drop(columns=['landslide_size'])\n",
        "y = dataset['landslide_size']\n",
        "\n",
        "X = min_max_scaling(X).to_numpy()\n",
        "y_onehot = pd.get_dummies(y, drop_first=False).to_numpy()\n",
        "\n",
        "\n",
        "# Split data into train and test sets\n",
        "X_train, X_test, y_train, y_test = custom_train_test_split(X, y_onehot, test_size=0.2, random_state=42)\n",
        "\n",
        "# Intitalizations:\n",
        "num_classes = y_train.shape[1]\n",
        "num_features = X_train.shape[1]\n",
        "W = np.zeros((num_features, num_classes))\n",
        "b = np.zeros(num_classes)\n",
        "alpha = 0.1\n",
        "n_iter = 200\n",
        "\n",
        "print(num_classes)\n",
        "print(num_features)\n",
        "\n",
        "print(\"\\nTraining Softmax Regression Model:\")\n",
        "W, b, cost_history = gradient_descent_softmax(X_train, y_train, W, b, alpha, n_iter, show_cost=False)\n",
        "\n",
        "#Plot Cost Vs. Iterations:\n",
        "plt.figure(figsize=(9, 6))\n",
        "plt.plot(cost_history)\n",
        "plt.xlabel(\"Iteration\", fontsize=14)\n",
        "plt.ylabel(\"Cost\", fontsize=14)\n",
        "plt.title(\"Cost vs Iteration\", fontsize=14)\n",
        "plt.tight_layout()\n",
        "plt.show()\n"
      ],
      "metadata": {
        "colab": {
          "base_uri": "https://localhost:8080/",
          "height": 676
        },
        "id": "Axsds8VaMs-g",
        "outputId": "a711e55d-ca0e-4f0c-9c70-02ce84bd70bc"
      },
      "execution_count": 181,
      "outputs": [
        {
          "output_type": "stream",
          "name": "stdout",
          "text": [
            "4\n",
            "5\n",
            "\n",
            "Training Softmax Regression Model:\n"
          ]
        },
        {
          "output_type": "display_data",
          "data": {
            "text/plain": [
              "<Figure size 900x600 with 1 Axes>"
            ],
            "image/png": "[encoded data removed]"
          },
          "metadata": {}
        }
      ]
    },
    {
      "cell_type": "code",
      "source": [
        "# Test model\n",
        "y_train_pred = predict_softmax(X_train, W, b)\n",
        "y_test_pred = predict_softmax(X_test, W, b)\n",
        "\n",
        "# Convert actual y test to 1D array\n",
        "y_test_true = np.argmax(y_test, axis=1)\n",
        "\n",
        "# Evaluate train and test performance\n",
        "train_cost = cost_softmax(X_train, y_train, W, b)\n",
        "test_cost = cost_softmax(X_test, y_test, W, b)\n",
        "\n",
        "print(f\"\\nTrain Loss (Cost): {train_cost:.4f}\")\n",
        "print(f\"Test Loss (Cost): {test_cost:.4f}\")\n"
      ],
      "metadata": {
        "colab": {
          "base_uri": "https://localhost:8080/"
        },
        "id": "_dUvejk22F96",
        "outputId": "29e3408b-137b-4807-d0fe-ba7a66d4e6d6"
      },
      "execution_count": 182,
      "outputs": [
        {
          "output_type": "stream",
          "name": "stdout",
          "text": [
            "\n",
            "Train Loss (Cost): 0.7624\n",
            "Test Loss (Cost): 0.7963\n"
          ]
        }
      ]
    },
    {
      "cell_type": "code",
      "source": [
        "print(\"Shape of X_test:\", X_test.shape)\n",
        "print(\"Shape of W:\", W.shape)\n",
        "print(y_test_pred.shape)\n",
        "print(y_test_true.shape)\n"
      ],
      "metadata": {
        "colab": {
          "base_uri": "https://localhost:8080/"
        },
        "id": "v5Al4qj73Zra",
        "outputId": "4e34cb26-8709-4f8a-df0a-3a7840fb9748"
      },
      "execution_count": 183,
      "outputs": [
        {
          "output_type": "stream",
          "name": "stdout",
          "text": [
            "Shape of X_test: (1786, 5)\n",
            "Shape of W: (5, 4)\n",
            "(1786,)\n",
            "(1786,)\n"
          ]
        }
      ]
    },
    {
      "cell_type": "code",
      "source": [
        "# Accuracy on test data\n",
        "test_accuracy = np.mean(y_test_pred == y_test_true) * 100\n",
        "print(f\"\\nTest Accuracy: {test_accuracy:.2f}%\")\n",
        "\n",
        "# Evaluation\n",
        "cm, precision, recall, f1 = evaluate_classification(y_test_true, y_test_pred)\n",
        "\n",
        "# print(cm)\n",
        "print(f\"Precision: {precision:.2f}\")\n",
        "print(f\"Recall: {recall:.2f}\")\n",
        "print(f\"F1-Score: {f1:.2f}\")\n",
        "print(f\"\\nConfusion Matrix:\\n{cm}\")\n"
      ],
      "metadata": {
        "colab": {
          "base_uri": "https://localhost:8080/"
        },
        "id": "HYUrYJ8e3k0i",
        "outputId": "3a77b215-06a4-49c1-9dbd-316762c1cee6"
      },
      "execution_count": 184,
      "outputs": [
        {
          "output_type": "stream",
          "name": "stdout",
          "text": [
            "\n",
            "Test Accuracy: 70.27%\n",
            "Precision: 0.49\n",
            "Recall: 0.70\n",
            "F1-Score: 0.58\n",
            "\n",
            "Confusion Matrix:\n",
            "[[   0  110    0    0]\n",
            " [   0 1255    0    0]\n",
            " [   0  402    0    0]\n",
            " [   0   19    0    0]]\n"
          ]
        }
      ]
    },
    {
      "cell_type": "code",
      "source": [
        "# Visualizing Confusion Matrix\n",
        "# Visualization\n",
        "fig, ax = plt.subplots(figsize=(6, 6))\n",
        "ax.imshow(cm, cmap='Blues') # Use a color map for better visualization\n",
        "\n",
        "# Set tick labels for the axes\n",
        "ax.set_xticks(range(4))\n",
        "ax.set_yticks(range(4))\n",
        "ax.set_xticklabels(['Predicted 0', 'Predicted 1', 'Predicted 2', 'Predicted 3'])\n",
        "ax.set_yticklabels(['Actual 0', 'Actual 1', 'Actual 2', 'Actual 3'])\n",
        "\n",
        "# Add labels to each cell in the confusion matrix\n",
        "for i in range(cm.shape[0]):\n",
        "  for j in range(cm.shape[1]):\n",
        "    ax.text(j, i, cm[i, j], ha='center', va='center', color='white' if cm[i, j] > np.max(cm) / 2 else'black')\n",
        "\n",
        "# Add grid lines and axis labels\n",
        "ax.grid(False)\n",
        "plt.title('Confusion Matrix', fontsize=14)\n",
        "plt.xlabel('Predicted Label', fontsize=12)\n",
        "plt.ylabel('Actual Label', fontsize=12)\n",
        "plt.tight_layout()\n",
        "plt.show()"
      ],
      "metadata": {
        "colab": {
          "base_uri": "https://localhost:8080/",
          "height": 588
        },
        "id": "yNNMLDy734by",
        "outputId": "9b73d954-380d-4fc4-939f-241947a9fac2"
      },
      "execution_count": 185,
      "outputs": [
        {
          "output_type": "display_data",
          "data": {
            "text/plain": [
              "<Figure size 600x600 with 1 Axes>"
            ],
            "image/png": "[encoded data removed]"
          },
          "metadata": {}
        }
      ]
    },
    {
      "cell_type": "markdown",
      "source": [
        "#Primary Models"
      ],
      "metadata": {
        "id": "7E-0KRyRXAXT"
      }
    },
    {
      "cell_type": "code",
      "source": [
        "dataset.info()"
      ],
      "metadata": {
        "colab": {
          "base_uri": "https://localhost:8080/"
        },
        "id": "GBh6lT5G7biG",
        "outputId": "e318cc08-28c0-460d-a55b-685c7e8a1651"
      },
      "execution_count": 186,
      "outputs": [
        {
          "output_type": "stream",
          "name": "stdout",
          "text": [
            "<class 'pandas.core.frame.DataFrame'>\n",
            "Index: 8931 entries, 0 to 11032\n",
            "Data columns (total 6 columns):\n",
            " #   Column                     Non-Null Count  Dtype  \n",
            "---  ------                     --------------  -----  \n",
            " 0   location_accuracy          8931 non-null   int64  \n",
            " 1   landslide_size             8931 non-null   object \n",
            " 2   admin_division_population  8931 non-null   float64\n",
            " 3   gazeteer_distance          8931 non-null   float64\n",
            " 4   latitude                   8931 non-null   float64\n",
            " 5   longitude                  8931 non-null   float64\n",
            "dtypes: float64(4), int64(1), object(1)\n",
            "memory usage: 488.4+ KB\n"
          ]
        }
      ]
    },
    {
      "cell_type": "code",
      "source": [
        "from sklearn.model_selection import train_test_split, GridSearchCV\n",
        "from sklearn.tree import DecisionTreeClassifier\n",
        "from sklearn.ensemble import RandomForestClassifier\n",
        "from sklearn.metrics import classification_report, accuracy_score, ConfusionMatrixDisplay, confusion_matrix\n",
        "from sklearn.feature_selection import RFE\n",
        "from sklearn.preprocessing import OneHotEncoder\n"
      ],
      "metadata": {
        "id": "KEbJr7TH_hSa"
      },
      "execution_count": 187,
      "outputs": []
    },
    {
      "cell_type": "code",
      "source": [
        "X = dataset.drop(columns=['landslide_size']).to_numpy()\n",
        "y = dataset['landslide_size'].to_numpy().reshape(-1,1)\n",
        "\n",
        "# Create an instance of OneHotEncoder\n",
        "encoder = OneHotEncoder(sparse_output=False)\n",
        "\n",
        "# Apply OneHotEncoder to the target column (landslide_size)\n",
        "y_onehot = encoder.fit_transform(y)\n",
        "\n",
        "# Split the data into train and test sets\n",
        "X_train, X_test, y_train, y_test = train_test_split(X, y_onehot, test_size=0.2, random_state=42)\n",
        "\n",
        "# Verify data split\n",
        "print(f\"Training data shape: {X_train.shape}\")\n",
        "print(f\"Test data shape: {X_test.shape}\")"
      ],
      "metadata": {
        "id": "SRvwwjfQXJ58",
        "colab": {
          "base_uri": "https://localhost:8080/"
        },
        "outputId": "e170faa0-cfab-407e-acbb-dac88b62223a"
      },
      "execution_count": 188,
      "outputs": [
        {
          "output_type": "stream",
          "name": "stdout",
          "text": [
            "Training data shape: (7144, 5)\n",
            "Test data shape: (1787, 5)\n"
          ]
        }
      ]
    },
    {
      "cell_type": "code",
      "source": [
        "# --- Initialize Classifiers with default hyperparameters ---\n",
        "dt_model = DecisionTreeClassifier(random_state=42)\n",
        "rf_model = RandomForestClassifier(random_state=42)\n",
        "\n",
        "# --- Train the models ---\n",
        "# Decision Tree Model\n",
        "dt_model.fit(X_train, y_train)\n",
        "y_pred_dt = dt_model.predict(X_test)\n",
        "\n",
        "# Random Forest Model\n",
        "rf_model.fit(X_train, y_train)\n",
        "y_pred_rf = rf_model.predict(X_test)\n"
      ],
      "metadata": {
        "id": "tRfYvSKlXJqP"
      },
      "execution_count": 189,
      "outputs": []
    },
    {
      "cell_type": "code",
      "source": [
        "# --- Evaluation for Decision Tree ---\n",
        "print(\"DecisionTreeClassifier Evaluation:\")\n",
        "print(\"Accuracy:\", accuracy_score(y_test, y_pred_dt))\n",
        "print(classification_report(y_test, y_pred_dt, zero_division=0))  # Handle undefined precision\n",
        "\n",
        "# Confusion Matrix for Decision Tree\n",
        "cm_dt = confusion_matrix(y_test.argmax(axis=1), y_pred_dt.argmax(axis=1))  # Convert one-hot to label\n",
        "disp_dt = ConfusionMatrixDisplay(confusion_matrix=cm_dt, display_labels=encoder.categories_[0])\n",
        "disp_dt.plot(cmap='Blues')\n",
        "plt.title(\"Confusion Matrix - DecisionTreeClassifier\")\n",
        "plt.show()"
      ],
      "metadata": {
        "id": "7vfCKNn8XJZJ",
        "colab": {
          "base_uri": "https://localhost:8080/",
          "height": 715
        },
        "outputId": "d9f38fbb-4c42-425c-d0d7-9cb33f6a3830"
      },
      "execution_count": 190,
      "outputs": [
        {
          "output_type": "stream",
          "name": "stdout",
          "text": [
            "DecisionTreeClassifier Evaluation:\n",
            "Accuracy: 0.6357022943480694\n",
            "              precision    recall  f1-score   support\n",
            "\n",
            "           0       0.16      0.22      0.19       110\n",
            "           1       0.76      0.76      0.76      1256\n",
            "           2       0.43      0.40      0.41       402\n",
            "           3       0.00      0.00      0.00        19\n",
            "\n",
            "   micro avg       0.64      0.64      0.64      1787\n",
            "   macro avg       0.34      0.34      0.34      1787\n",
            "weighted avg       0.64      0.64      0.64      1787\n",
            " samples avg       0.64      0.64      0.64      1787\n",
            "\n"
          ]
        },
        {
          "output_type": "display_data",
          "data": {
            "text/plain": [
              "<Figure size 640x480 with 2 Axes>"
            ],
            "image/png": "[encoded data removed]"
          },
          "metadata": {}
        }
      ]
    },
    {
      "cell_type": "code",
      "source": [
        "# --- Evaluation for Random Forest ---\n",
        "print(\"RandomForestClassifier Evaluation:\")\n",
        "print(\"Accuracy:\", accuracy_score(y_test, y_pred_rf))\n",
        "print(classification_report(y_test, y_pred_rf, zero_division=0))\n",
        "\n",
        "# Confusion Matrix for Random Forest\n",
        "cm_rf = confusion_matrix(y_test.argmax(axis=1), y_pred_rf.argmax(axis=1))  # Convert one-hot to label\n",
        "disp_rf = ConfusionMatrixDisplay(confusion_matrix=cm_rf, display_labels=encoder.categories_[0])\n",
        "disp_rf.plot(cmap='Blues')\n",
        "plt.title(\"Confusion Matrix - RandomForestClassifier\")\n",
        "plt.show()"
      ],
      "metadata": {
        "id": "GGMfE0goXJKQ",
        "colab": {
          "base_uri": "https://localhost:8080/",
          "height": 715
        },
        "outputId": "0fad26b4-fa31-406f-9c49-98d011478825"
      },
      "execution_count": 191,
      "outputs": [
        {
          "output_type": "stream",
          "name": "stdout",
          "text": [
            "RandomForestClassifier Evaluation:\n",
            "Accuracy: 0.6955791829882485\n",
            "              precision    recall  f1-score   support\n",
            "\n",
            "           0       0.28      0.05      0.08       110\n",
            "           1       0.76      0.87      0.81      1256\n",
            "           2       0.57      0.37      0.45       402\n",
            "           3       0.00      0.00      0.00        19\n",
            "\n",
            "   micro avg       0.73      0.70      0.71      1787\n",
            "   macro avg       0.40      0.32      0.33      1787\n",
            "weighted avg       0.68      0.70      0.68      1787\n",
            " samples avg       0.70      0.70      0.70      1787\n",
            "\n"
          ]
        },
        {
          "output_type": "display_data",
          "data": {
            "text/plain": [
              "<Figure size 640x480 with 2 Axes>"
            ],
            "image/png": "[encoded data removed]"
          },
          "metadata": {}
        }
      ]
    },
    {
      "cell_type": "markdown",
      "source": [
        "#Hyper-parameter Optimization with GridSearchCV"
      ],
      "metadata": {
        "id": "21q9eC0UH7ad"
      }
    },
    {
      "cell_type": "code",
      "source": [
        "# --- Initialize Classifiers ---\n",
        "dt_model = DecisionTreeClassifier(class_weight='balanced', random_state=42)\n",
        "rf_model = RandomForestClassifier(class_weight='balanced', random_state=42)\n",
        "\n",
        "# --- Hyperparameter Grid Search ---\n",
        "dt_param_grid = {\n",
        "    'min_samples_split': [2, 5, 10],\n",
        "    'min_samples_leaf': [1, 2, 4]\n",
        "}\n",
        "\n",
        "rf_param_grid = {\n",
        "    'n_estimators': [100, 200, 300],\n",
        "    'min_samples_split': [2, 5, 10],\n",
        "    'min_samples_leaf': [1, 2, 4]\n",
        "}\n",
        "\n",
        "# --- Perform GridSearchCV ---\n",
        "# Grid Search for Decision Tree\n",
        "dt_grid_search = GridSearchCV(dt_model, dt_param_grid, cv=5, n_jobs=-1, verbose=2)\n",
        "dt_grid_search.fit(X_train, y_train)\n",
        "\n",
        "# Grid Search for Random Forest\n",
        "rf_grid_search = GridSearchCV(rf_model, rf_param_grid, cv=5, n_jobs=-1, verbose=2)\n",
        "rf_grid_search.fit(X_train, y_train)\n",
        "\n",
        "# Print Best Parameters from GridSearch for both models\n",
        "print(\"Best Parameters for Decision Tree: \")\n",
        "for para, val in dt_grid_search.best_params_.items():\n",
        "  print(f\"{para}: {val}\")\n",
        "\n",
        "print(\"\\n\")\n",
        "\n",
        "print(\"Best Parameters for Random Forest: \")\n",
        "for para, val in rf_grid_search.best_params_.items():\n",
        "  print(f\"{para}: {val}\")\n"
      ],
      "metadata": {
        "colab": {
          "base_uri": "https://localhost:8080/"
        },
        "id": "4dapArgaDIfd",
        "outputId": "48fd68fe-42f0-42bd-edae-ded1cafdf65c"
      },
      "execution_count": 192,
      "outputs": [
        {
          "output_type": "stream",
          "name": "stdout",
          "text": [
            "Fitting 5 folds for each of 9 candidates, totalling 45 fits\n",
            "Fitting 5 folds for each of 27 candidates, totalling 135 fits\n",
            "Best Parameters for Decision Tree: \n",
            "min_samples_leaf: 1\n",
            "min_samples_split: 2\n",
            "\n",
            "\n",
            "Best Parameters for Random Forest: \n",
            "min_samples_leaf: 1\n",
            "min_samples_split: 2\n",
            "n_estimators: 200\n"
          ]
        }
      ]
    },
    {
      "cell_type": "markdown",
      "source": [
        "#Feature Selection Using Recursive Feature Elimination"
      ],
      "metadata": {
        "id": "-0XOK1gOIFa_"
      }
    },
    {
      "cell_type": "code",
      "source": [
        "# --- Apply RFE for Feature Selection ---\n",
        "# Use best model from GridSearchCV for RFE\n",
        "dt_best_model = dt_grid_search.best_estimator_\n",
        "rf_best_model = rf_grid_search.best_estimator_\n",
        "\n",
        "# Apply RFE for Decision Tree and Random Forest\n",
        "rfe_dt = RFE(estimator=dt_best_model, n_features_to_select=4)\n",
        "rfe_rf = RFE(estimator=rf_best_model, n_features_to_select=4)\n",
        "\n",
        "X_train_rfe_dt = rfe_dt.fit_transform(X_train, y_train)\n",
        "X_train_rfe_rf = rfe_rf.fit_transform(X_train, y_train)\n",
        "\n",
        "# Verify the number of selected features\n",
        "print(f\"Selected features by RFE for Decision Tree: {rfe_dt.support_}\")\n",
        "print(f\"Selected features by RFE for Random Forest: {rfe_rf.support_}\")\n"
      ],
      "metadata": {
        "colab": {
          "base_uri": "https://localhost:8080/"
        },
        "id": "EGFPuzxJDHGq",
        "outputId": "b9bd9009-d783-4041-845e-831c4d606a3b"
      },
      "execution_count": 193,
      "outputs": [
        {
          "output_type": "stream",
          "name": "stdout",
          "text": [
            "Selected features by RFE for Decision Tree: [False  True  True  True  True]\n",
            "Selected features by RFE for Random Forest: [False  True  True  True  True]\n"
          ]
        }
      ]
    },
    {
      "cell_type": "markdown",
      "source": [
        "#Final Model"
      ],
      "metadata": {
        "id": "Qja3lcq3IQV3"
      }
    },
    {
      "cell_type": "code",
      "source": [
        "# Choose to Random Forest Classifier as the final model\n",
        "\n",
        "# --- Rebuild Random Forest Model with Optimized Hyperparameters ---\n",
        "best_rf_params = rf_grid_search.best_params_\n",
        "\n",
        "# Initialize the final model with the best parameters from GridSearchCV\n",
        "final_rf_model = RandomForestClassifier(\n",
        "    n_estimators=best_rf_params['n_estimators'],\n",
        "    min_samples_split=best_rf_params['min_samples_split'],\n",
        "    min_samples_leaf=best_rf_params['min_samples_leaf'],\n",
        "    random_state=42\n",
        ")\n",
        "\n",
        "# Fit the model with the selected features\n",
        "X_train_rf = X_train[:,rfe_rf.support_]\n",
        "X_test_rf = X_test[:,rfe_rf.support_]\n",
        "final_rf_model.fit(X_train_rf, y_train)\n",
        "\n",
        "# Predict on the test set\n",
        "y_pred_rf = final_rf_model.predict(X_test_rf)"
      ],
      "metadata": {
        "id": "MaXwJZtdDFyk"
      },
      "execution_count": 194,
      "outputs": []
    },
    {
      "cell_type": "code",
      "source": [
        "# --- Evaluation for Random Forest ---\n",
        "print(\"Final Model: RandomForestClassifier where hyper-parameters are optimized using GridSearchCV, and 5 best features are selected using RFE \")\n",
        "print(\"Accuracy:\", accuracy_score(y_test, y_pred_rf))\n",
        "print(classification_report(y_test, y_pred_rf, zero_division=1))  # Handle undefined precision\n",
        "\n",
        "# Confusion Matrix for Random Forest\n",
        "cm_rf = confusion_matrix(y_test.argmax(axis=1), y_pred_rf.argmax(axis=1))  # Convert one-hot to label\n",
        "disp_rf = ConfusionMatrixDisplay(confusion_matrix=cm_rf, display_labels=encoder.categories_[0])\n",
        "disp_rf.plot(cmap='Blues')\n",
        "plt.title(\"Confusion Matrix - RandomForestClassifier\")\n",
        "plt.show()"
      ],
      "metadata": {
        "colab": {
          "base_uri": "https://localhost:8080/",
          "height": 715
        },
        "id": "TQOX4rlwDDF8",
        "outputId": "2c6ecafb-db41-4cb4-cb99-0f4017af9e99"
      },
      "execution_count": 195,
      "outputs": [
        {
          "output_type": "stream",
          "name": "stdout",
          "text": [
            "Final Model: RandomForestClassifier where hyper-parameters are optimized using GridSearchCV, and 5 best features are selected using RFE \n",
            "Accuracy: 0.6922216004476777\n",
            "              precision    recall  f1-score   support\n",
            "\n",
            "           0       0.19      0.05      0.07       110\n",
            "           1       0.76      0.86      0.81      1256\n",
            "           2       0.55      0.37      0.44       402\n",
            "           3       0.00      0.00      0.00        19\n",
            "\n",
            "   micro avg       0.72      0.69      0.71      1787\n",
            "   macro avg       0.38      0.32      0.33      1787\n",
            "weighted avg       0.67      0.69      0.67      1787\n",
            " samples avg       0.73      0.69      0.69      1787\n",
            "\n"
          ]
        },
        {
          "output_type": "display_data",
          "data": {
            "text/plain": [
              "<Figure size 640x480 with 2 Axes>"
            ],
            "image/png": "[encoded data removed]"
          },
          "metadata": {}
        }
      ]
    },
    {
      "cell_type": "code",
      "source": [],
      "metadata": {
        "id": "kTFUBQ4qINZ1"
      },
      "execution_count": 195,
      "outputs": []
    }
  ]
}