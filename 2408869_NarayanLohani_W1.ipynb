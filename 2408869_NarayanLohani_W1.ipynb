{
 "cells": [
  {
   "cell_type": "markdown",
   "metadata": {},
   "source": [
    "# 5CS037 - Concepts and Technologies of AI.\n",
    "\n",
    "Worksheet - 1: A coding exercises on Numpy."
   ]
  },
  {
   "cell_type": "code",
   "execution_count": 1,
   "metadata": {
    "executionInfo": {
     "elapsed": 394,
     "status": "ok",
     "timestamp": 1732899715132,
     "user": {
      "displayName": "Narayan Lohani",
      "userId": "05206214946001426679"
     },
     "user_tz": -345
    },
    "id": "eFQipuhNTnkl"
   },
   "outputs": [],
   "source": [
    "import numpy as np"
   ]
  },
  {
   "cell_type": "markdown",
   "metadata": {
    "id": "L2qunSnsTdcv"
   },
   "source": [
    "# 4.1\n",
    "# Warming Up Exercise: Basic Vector and Matrix Operation with Numpy.  \n",
    "Problem - 1: Array Creation:\n",
    "Complete the following Tasks:\n",
    "1. Initialize an empty array with size 2X2.\n",
    "2. Initialize an all one array with size 4X2.\n",
    "3. Return a new array of given shape and type, filled with fill value.{Hint: np.full}\n",
    "4. Return a new array of zeros with same shape and type as a given array.{Hint: np.zeros like}\n",
    "5. Return a new array of ones with same shape and type as a given array.{Hint: np.ones like}\n",
    "6. For an existing list new_list = [1,2,3,4] convert to an numpy array.{Hint: np.array()}"
   ]
  },
  {
   "cell_type": "code",
   "execution_count": 2,
   "metadata": {
    "colab": {
     "base_uri": "https://localhost:8080/"
    },
    "executionInfo": {
     "elapsed": 23,
     "status": "ok",
     "timestamp": 1732899715757,
     "user": {
      "displayName": "Narayan Lohani",
      "userId": "05206214946001426679"
     },
     "user_tz": -345
    },
    "id": "ug4-kzAfDAUY",
    "outputId": "e9a52ac4-9e7a-416c-884b-4ba20d331420"
   },
   "outputs": [
    {
     "name": "stdout",
     "output_type": "stream",
     "text": [
      "Empty array :\n",
      "[[5.03402283e-310 0.00000000e+000]\n",
      " [3.45845952e-323             nan]]\n",
      "Ones array :\n",
      "[[1. 1.]\n",
      " [1. 1.]\n",
      " [1. 1.]\n",
      " [1. 1.]]\n",
      "5 Filled array :\n",
      " [[5 5]\n",
      " [5 5]]\n",
      "Zeros like array :\n",
      " [[0 0]\n",
      " [0 0]]\n",
      "Ones like array :\n",
      " [[1 1]\n",
      " [1 1]]\n",
      "python list : [1, 2, 3, 4] => type : <class 'list'>\n",
      "To numpy array : [1 2 3 4] => type : <class 'numpy.ndarray'>\n"
     ]
    }
   ],
   "source": [
    "empty = np.empty((2,2)) # Empty array of shape (2,2)\n",
    "ones = np.ones((4,2)) # Array filled with 1 of shape (2,2)\n",
    "filled = np.full((2,2), 5)  # Array filled with 5 of shape (2,2)\n",
    "zeros_like = np.zeros_like(filled) # Converts filled array into array containing 0\n",
    "ones_like = np.ones_like(filled) # Converts filled array into array containing 1\n",
    "\n",
    "new_list = [1, 2, 3, 4]\n",
    "list_to_arr = np.array(new_list) # Converts python list to numpy array\n",
    "\n",
    "print(f\"Empty array :\\n{empty}\")\n",
    "print(f\"Ones array :\\n{ones}\")\n",
    "print(f\"5 Filled array :\\n {filled}\")\n",
    "print(f\"Zeros like array :\\n {zeros_like}\")\n",
    "print(f\"Ones like array :\\n {ones_like}\")\n",
    "print(f\"python list : {new_list} => type : {type(new_list)}\\nTo numpy array : {list_to_arr} => type : {type(list_to_arr)}\")"
   ]
  },
  {
   "cell_type": "markdown",
   "metadata": {
    "id": "njPzZjEVW0IB"
   },
   "source": [
    "\n",
    "\n",
    "---\n",
    "\n",
    "# 4.1.1\n",
    "Problem - 2: Array Manipulation: Numerical Ranges and Array indexing:\n",
    "Complete the following tasks:\n",
    "1. Create an array with values ranging from 10 to 49. {Hint:np.arrange()}.\n",
    "2. Create a 3X3 matrix with values ranging from 0 to 8.\n",
    "{Hint:look for np.reshape()}\n",
    "3. Create a 3X3 identity matrix.{Hint:np.eye()}\n",
    "4. Create a random array of size 30 and find the mean of the array.\n",
    "{Hint:check for np.random.random() and array.mean() function}\n",
    "5. Create a 10X10 array with random values and find the minimum and maximum values.\n",
    "6. Create a zero array of size 10 and replace 5th element with 1.\n",
    "7. Reverse an array arr = [1,2,0,0,4,0].\n",
    "8. Create a 2d array with 1 on border and 0 inside.\n",
    "9. Create a 8X8 matrix and fill it with a checkerboard pattern."
   ]
  },
  {
   "cell_type": "code",
   "execution_count": 3,
   "metadata": {
    "colab": {
     "base_uri": "https://localhost:8080/"
    },
    "executionInfo": {
     "elapsed": 17,
     "status": "ok",
     "timestamp": 1732899715757,
     "user": {
      "displayName": "Narayan Lohani",
      "userId": "05206214946001426679"
     },
     "user_tz": -345
    },
    "id": "yLLhv1ZfXHGa",
    "outputId": "b0974c14-0f7a-4d4e-ac38-632b68b11e74"
   },
   "outputs": [
    {
     "name": "stdout",
     "output_type": "stream",
     "text": [
      "Array of Values ranging from 10 to 49 : \n",
      " [10 11 12 13 14 15 16 17 18 19 20 21 22 23 24 25 26 27 28 29 30 31 32 33\n",
      " 34 35 36 37 38 39 40 41 42 43 44 45 46 47 48]\n",
      "\n",
      "3X3 matrix with values ranging from 0 to 8 : \n",
      " [[0 1 2]\n",
      " [3 4 5]\n",
      " [6 7 8]]\n",
      "\n",
      "3X3 Identity matrix : \n",
      " [[1. 0. 0.]\n",
      " [0. 1. 0.]\n",
      " [0. 0. 1.]]\n",
      "\n",
      "Average of random array of size 30 : \n",
      "0.4628116765856738\n",
      "\n",
      "Minimum and Maximum of 10X10 array with random values : \n",
      "Min : 0.01, Max : 0.99\n",
      "\n",
      "Zero array of size 10 where 5th element replaced with 1 : \n",
      "[0. 0. 0. 0. 5. 0. 0. 0. 0. 0.]\n",
      "\n",
      "Reversed array of [1, 2, 0, 0, 4, 0] : \n",
      "[0, 4, 0, 0, 2, 1]\n",
      "\n",
      "2d array of zeros with 1 in border : \n",
      "[[1. 1. 1. 1. 1. 1.]\n",
      " [1. 0. 0. 0. 0. 1.]\n",
      " [1. 0. 0. 0. 0. 1.]\n",
      " [1. 0. 0. 0. 0. 1.]\n",
      " [1. 0. 0. 0. 0. 1.]\n",
      " [1. 1. 1. 1. 1. 1.]]\n",
      "\n",
      "8X8 Matrix with checkerboard pattern : \n",
      "[['O' 'X' 'O' 'X' 'O' 'X' 'O' 'X']\n",
      " ['X' 'O' 'X' 'O' 'X' 'O' 'X' 'O']\n",
      " ['O' 'X' 'O' 'X' 'O' 'X' 'O' 'X']\n",
      " ['X' 'O' 'X' 'O' 'X' 'O' 'X' 'O']\n",
      " ['O' 'X' 'O' 'X' 'O' 'X' 'O' 'X']\n",
      " ['X' 'O' 'X' 'O' 'X' 'O' 'X' 'O']\n",
      " ['O' 'X' 'O' 'X' 'O' 'X' 'O' 'X']\n",
      " ['X' 'O' 'X' 'O' 'X' 'O' 'X' 'O']]\n",
      "\n"
     ]
    }
   ],
   "source": [
    "aranged_arr = np.arange(10, 49)\n",
    "reshape_mat0_8 = np.arange(0,9).reshape(3,3)\n",
    "identity3 = np.eye(3)\n",
    "average_random = np.random.random(30).mean()\n",
    "array_10_10 = np.random.random(100).reshape(10, 10)\n",
    "min_value, max_value = array_10_10.min(), array_10_10.max()\n",
    "zero_10 = np.zeros(10)\n",
    "zero_10[4] = 5\n",
    "arr = [1, 2, 0, 0, 4, 0]\n",
    "reversed_arr = arr[::-1]\n",
    "array_2d = np.ones((6,6))\n",
    "array_2d[1:-1, 1:-1] = 0\n",
    "checkerboard = np.full((8,8), 'O')\n",
    "checkerboard[1::2, ::2] = 'X'\n",
    "checkerboard[::2, 1::2] = 'X'\n",
    "\n",
    "\n",
    "print(f'Array of Values ranging from 10 to 49 : \\n {aranged_arr}\\n')\n",
    "print(f'3X3 matrix with values ranging from 0 to 8 : \\n {reshape_mat0_8}\\n')\n",
    "print(f'3X3 Identity matrix : \\n {identity3}\\n')\n",
    "print(f'Average of random array of size 30 : \\n{average_random}\\n')\n",
    "print(f'Minimum and Maximum of 10X10 array with random values : \\nMin : {min_value:.2f}, Max : {max_value:.2f}\\n')\n",
    "print(f'Zero array of size 10 where 5th element replaced with 1 : \\n{zero_10}\\n')\n",
    "print(f'Reversed array of {arr} : \\n{reversed_arr}\\n')\n",
    "print(f'2d array of zeros with 1 in border : \\n{array_2d}\\n')\n",
    "print(f'8X8 Matrix with checkerboard pattern : \\n{checkerboard}\\n')"
   ]
  },
  {
   "cell_type": "markdown",
   "metadata": {
    "id": "1uf2gIro3lXn"
   },
   "source": [
    "---\n",
    "Problem - 3: Array Operations:  \n",
    "For the following arrays:  \n",
    "x = np.array([[1,2],[3,5]]) and y = np.array([[5,6],[7,8]]);  \n",
    "v = np.array([9,10]) and w = np.array([11,12]);  \n",
    "Complete all the task using numpy:  \n",
    "1. Add the two array.  \n",
    "2. Subtract the two array.  \n",
    "3. Multiply the array with any integers of your choice.  \n",
    "4. Find the square of each element of the array.  \n",
    "5. Find the dot product between: v(and)w ; x(and)v ; x(and)y.  \n",
    "6. Concatenate x(and)y along row and Concatenate v(and)w along column.  \n",
    "{Hint:try np.concatenate() or np.vstack() functions.}  \n",
    "7. Concatenate x(and)v; if you get an error, observe and explain why did you get the error?  "
   ]
  },
  {
   "cell_type": "code",
   "execution_count": 4,
   "metadata": {
    "colab": {
     "base_uri": "https://localhost:8080/"
    },
    "executionInfo": {
     "elapsed": 10,
     "status": "ok",
     "timestamp": 1732899715757,
     "user": {
      "displayName": "Narayan Lohani",
      "userId": "05206214946001426679"
     },
     "user_tz": -345
    },
    "id": "OkLktdAY3lXo",
    "outputId": "a70d3b6d-984c-4751-f0fa-ee9ffccd8d49"
   },
   "outputs": [
    {
     "name": "stdout",
     "output_type": "stream",
     "text": [
      " Matrix X :\n",
      "[[1 2]\n",
      " [3 5]]\n",
      "Matrix Y :\n",
      "[[5 6]\n",
      " [7 8]]\n",
      "Matrix V :\n",
      "[ 9 10]\n",
      "Matrix W :\n",
      "[11 12]\n",
      "\n",
      "Sum of X and Y : \n",
      "[[ 6  8]\n",
      " [10 13]]\n",
      "\n",
      "Sum of V and W : \n",
      "[20 22]\n",
      "\n",
      "Difference of X and Y : \n",
      "[[-4 -4]\n",
      " [-4 -3]]\n",
      "\n",
      "Difference of V and W : \n",
      "[-2 -2]\n",
      "\n",
      "Scalar multiplication of X with 11 : \n",
      "[[11 22]\n",
      " [33 55]]\n",
      "\n",
      "Dot product of X and Y : \n",
      "[[19 22]\n",
      " [50 58]]\n",
      "\n",
      "Dot product of X and V : \n",
      "[29 77]\n",
      "\n",
      "Dot product of V and W : \n",
      "219\n",
      "\n",
      "Concatenation of X and Y along row : \n",
      "[[1 2 5 6]\n",
      " [3 5 7 8]]\n",
      "\n",
      "Concatenation of V and W along column : \n",
      "[[ 9 10]\n",
      " [11 12]]\n",
      "\n",
      "Concatenation of X and V is ValueError. The reason is shape incompatibility. Shape of : \n",
      "X is (2, 2) and\n",
      "V is (2,)\n"
     ]
    }
   ],
   "source": [
    "x = np.array([[1,2],[3,5]])\n",
    "y = np.array([[5,6],[7,8]])\n",
    "v = np.array([9,10])\n",
    "w = np.array([11,12])\n",
    "\n",
    "sum_x_y = x + y\n",
    "sum_v_w = v + w\n",
    "\n",
    "diff_x_y = x - y\n",
    "diff_v_w = v - w\n",
    "\n",
    "scalar_x_11 = x * 11\n",
    "\n",
    "x_squared = np.square(x)\n",
    "\n",
    "dot_v_w = np.dot(v, w)\n",
    "dot_x_v = np.dot(x, v)\n",
    "dot_x_y = np.dot(x, y)\n",
    "\n",
    "concat_x_y = np.concatenate((x, y), axis=1)\n",
    "concat_v_w = np.vstack((v,w))\n",
    "\n",
    "# concat_x_v = np.concatenate((x, v), axis=1)\n",
    "# ValueError: all the input arrays must have same number of dimensions, but the array at index 0 (x) has 2 dimensions and the array at index 1 (v) has 1 dimension\n",
    "\n",
    "print(f' Matrix X :\\n{x}\\nMatrix Y :\\n{y}\\nMatrix V :\\n{v}\\nMatrix W :\\n{w}\\n')\n",
    "print(f'Sum of X and Y : \\n{sum_x_y}\\n')\n",
    "print(f'Sum of V and W : \\n{sum_v_w}\\n')\n",
    "print(f'Difference of X and Y : \\n{diff_x_y}\\n')\n",
    "print(f'Difference of V and W : \\n{diff_v_w}\\n')\n",
    "print(f'Scalar multiplication of X with 11 : \\n{scalar_x_11}\\n')\n",
    "print(f'Dot product of X and Y : \\n{dot_x_y}\\n')\n",
    "print(f'Dot product of X and V : \\n{dot_x_v}\\n')\n",
    "print(f'Dot product of V and W : \\n{dot_v_w}\\n')\n",
    "print(f'Concatenation of X and Y along row : \\n{concat_x_y}\\n')\n",
    "print(f'Concatenation of V and W along column : \\n{concat_v_w}\\n')\n",
    "print(f'Concatenation of X and V is ValueError. The reason is shape incompatibility. Shape of : \\nX is {x.shape} and\\nV is {v.shape}')"
   ]
  },
  {
   "cell_type": "markdown",
   "metadata": {
    "id": "6WYHF0Xg3lXp"
   },
   "source": [
    "---\n",
    "Problem - 4: Matrix Operations:\n",
    "• For the following arrays:  \n",
    "A = np.array([[3,4],[7,8]])  \n",
    "B = np.array([[5,3],[2,1]]);  \n",
    "Prove following with Numpy:  \n",
    "1. Prove A.A−1 = I.  \n",
    "2. Prove AB ̸= BA.  \n",
    "3. Prove (AB)  \n",
    "\n",
    "T = B(T)AT  \n",
    "\n",
    "• Solve the following system of Linear equation using Inverse Methods.  \n",
    "\n",
    "2x − 3y + z = −1  \n",
    "x − y + 2z = −3  \n",
    "3x + y − z = 9  \n",
    "\n",
    "{Hint: First use Numpy array to represent the equation in Matrix form. Then Solve for: AX = B}  \n",
    "• Now: solve the above equation using np.linalg.inv function.{Explore more about ”linalg” function of Numpy}"
   ]
  },
  {
   "cell_type": "code",
   "execution_count": 5,
   "metadata": {
    "colab": {
     "base_uri": "https://localhost:8080/"
    },
    "executionInfo": {
     "elapsed": 7,
     "status": "ok",
     "timestamp": 1732899715757,
     "user": {
      "displayName": "Narayan Lohani",
      "userId": "05206214946001426679"
     },
     "user_tz": -345
    },
    "id": "JMGfJDwf3lXq",
    "outputId": "81665472-b193-4764-a5de-4f020b7af08c"
   },
   "outputs": [
    {
     "name": "stdout",
     "output_type": "stream",
     "text": [
      "1.\n",
      "[[3 4]\n",
      " [7 8]] (A)\n",
      "*\n",
      "[[-2.    1.  ]\n",
      " [ 1.75 -0.75]] (A inverse)\n",
      "=\n",
      "[[1 0]\n",
      " [0 1]] Identity Matrix\n",
      "\n",
      "2.\n",
      "AB =\n",
      "[[23 13]\n",
      " [51 29]]\n",
      "BA =\n",
      "[[36 44]\n",
      " [13 16]]\n",
      "AB is not equal to BA\n",
      "\n",
      "3.\n",
      "(A * B) transpose =\n",
      "[[23 51]\n",
      " [13 29]]\n",
      "B transpose * A transpose =\n",
      "[[23 51]\n",
      " [13 29]]\n",
      "(A * B) transpose = B transpose * A transpose\n",
      "\n",
      "Using AX = B, the soulution of given system of linear equations is [ 2.  1. -2.].\n",
      "\n",
      "Using numpy.linalg.inv, the soulution of given system of linear equations is [ 2.  1. -2.].\n"
     ]
    }
   ],
   "source": [
    "A = np.array([[3,4],[7,8]])\n",
    "B = np.array([[5,3],[2,1]])\n",
    "\n",
    "inv_A = np.linalg.inv(A)\n",
    "\n",
    "A_inv_A = np.round(np.matmul(A, inv_A)).astype(int)\n",
    "\n",
    "print(f'1.\\n{A} (A)\\n*\\n{inv_A} (A inverse)\\n=\\n{A_inv_A} Identity Matrix\\n')\n",
    "\n",
    "A_B = np.matmul(A, B)\n",
    "B_A = np.matmul(B, A)\n",
    "\n",
    "print(f'2.\\nAB =\\n{A_B}\\nBA =\\n{B_A}\\nAB is not equal to BA\\n')\n",
    "\n",
    "A_Trans = np.transpose(A)\n",
    "B_Trans = np.transpose(B)\n",
    "AB_Trans = np.transpose(A_B)\n",
    "B_Trans_A_Trans = np.matmul(B_Trans, A_Trans)\n",
    "\n",
    "print(f'3.\\n(A * B) transpose =\\n{AB_Trans}\\nB transpose * A transpose =\\n{B_Trans_A_Trans}')\n",
    "print('(A * B) transpose = B transpose * A transpose\\n')\n",
    "\n",
    "# 2x − 3y + z = −1\n",
    "# x − y + 2z = −3\n",
    "# 3x + y − z = 9\n",
    "# Matrix form of above linear equation :\n",
    "A = np.array([[2, -3, 1],\n",
    "    [1, -1, 2],\n",
    "    [3, 1, -1]])\n",
    "B = np.array([-1, -3, 9])\n",
    "# Now we have AX = B , where X = [x, y, z]\n",
    "# Then, X = A-inverse * B\n",
    "A_inv = np.linalg.inv(A)\n",
    "A_inv_B = np.matmul(A_inv, B)\n",
    "# X = A_inv_B\n",
    "print(f'Using AX = B, the soulution of given system of linear equations is {A_inv_B}.\\n')\n",
    "A_inv_B = np.linalg.solve(A, B)\n",
    "print(f'Using numpy.linalg.inv, the soulution of given system of linear equations is {A_inv_B}.')\n",
    "\n",
    "\n"
   ]
  },
  {
   "cell_type": "markdown",
   "metadata": {
    "id": "pkJaRE6D3lXq"
   },
   "source": [
    "---\n",
    "4.2 Experiment: How Fast is Numpy?  \n",
    "In this exercise, you will compare the performance and implementation of operations using plain Python lists (arrays) and NumPy arrays. Follow the instructions:  \n",
    "1. Element-wise Addition:  \n",
    "• Using Python Lists, perform element-wise addition of two lists of size 1, 000, 000. Measure and Print the time taken for this operation.  \n",
    "• Using Numpy Arrays, Repeat the calculation and measure and print the time taken for this operation.  \n",
    "2. Element-wise Multiplication  \n",
    "• Using Python Lists, perform element-wise multiplication of two lists of size 1, 000, 000. Measure and Print the time taken for this operation.\n",
    "• Using Numpy Arrays, Repeat the calculation and measure and print the time taken for this operation.  \n",
    "3. Dot Product  \n",
    "• Using Python Lists, compute the dot product of two lists of size 1, 000, 000. Measure and Print the time taken for this operation.  \n",
    "• Using Numpy Arrays, Repeat the calculation and measure and print the time taken for this operation.  \n",
    "4. Matrix Multiplication  \n",
    "• Using Python lists, perform matrix multiplication of two matrices of size 1000x1000. Measure and print the time taken for this operation.  \n",
    "• Using NumPy arrays, perform matrix multiplication of two matrices of size 1000x1000. Measure and print the time taken for this operation.  "
   ]
  },
  {
   "cell_type": "code",
   "execution_count": 8,
   "metadata": {
    "colab": {
     "base_uri": "https://localhost:8080/"
    },
    "executionInfo": {
     "elapsed": 1883736,
     "status": "ok",
     "timestamp": 1732901675474,
     "user": {
      "displayName": "Narayan Lohani",
      "userId": "05206214946001426679"
     },
     "user_tz": -345
    },
    "id": "ne5LGDx03lXr",
    "outputId": "11788844-97ee-4406-dcc6-e79e93765be6"
   },
   "outputs": [
    {
     "name": "stdout",
     "output_type": "stream",
     "text": [
      "Element-wise Addition\n",
      "Python lists: 0.8669 sec, NumPy arrays: 0.0160 sec\n",
      "Element-wise Multiplication\n",
      "Python lists: 0.8983 sec, NumPy arrays: 0.0161 sec\n",
      "Dot Product\n",
      "Python lists: 1.0492 sec, NumPy arrays: 0.0120 sec\n",
      "Matrix Multiplication\n",
      "Python lists: 1865.1110 sec, NumPy arrays: 15.1491 sec\n"
     ]
    }
   ],
   "source": [
    "from timeit import timeit\n",
    "\n",
    "size = 1000000\n",
    "\n",
    "list1 = list(range(size))\n",
    "list2 = list(range(size))\n",
    "\n",
    "array1 = np.arange(size)\n",
    "array2 = np.arange(size)\n",
    "\n",
    "\n",
    "list_addition_time = timeit(\"[x + y for x, y in zip(list1, list2)]\", globals=globals(), number=10)\n",
    "array_addition_time = timeit(\"array1 + array2\", globals=globals(), number=10)\n",
    "print(f\"Element-wise Addition\\nPython lists: {list_addition_time:.4f} sec, NumPy arrays: {array_addition_time:.4f} sec\")\n",
    "\n",
    "list_multiplication_time = timeit(\"[x * y for x, y in zip(list1, list2)]\", globals=globals(), number=10)\n",
    "array_multiplication_time = timeit(\"array1 * array2\", globals=globals(), number=10)\n",
    "print(f\"Element-wise Multiplication\\nPython lists: {list_multiplication_time:.4f} sec, NumPy arrays: {array_multiplication_time:.4f} sec\")\n",
    "\n",
    "list_dot_product_time = timeit(\"sum(x * y for x, y in zip(list1, list2))\", globals=globals(), number= 10)\n",
    "array_dot_product_time = timeit(\"np.dot(array1, array2)\", globals=globals(), number=10)\n",
    "print(f\"Dot Product\\nPython lists: {list_dot_product_time:.4f} sec, NumPy arrays: {array_dot_product_time:.4f} sec\")\n",
    "\n",
    "matrix_size = 1000\n",
    "# With size 1000, Matrix Multiplication takes\n",
    "# Python lists: 1865.1110 sec, NumPy arrays: 15.1491 sec\n",
    "\n",
    "matrix1 = [[i for i in range(matrix_size)] for _ in range(matrix_size)]\n",
    "matrix2 = [[i for i in range(matrix_size)] for _ in range(matrix_size)]\n",
    "\n",
    "def list_matrix_multiplication(matA, matB):\n",
    "    \"\"\"\n",
    "    Function for cross product of two 2D python lists matA and matB\n",
    "\n",
    "    Parameters:\n",
    "        matA : First nested list of AB cross product\n",
    "        matB : Second nested list of AB cross product\n",
    "    Returns:\n",
    "        A python list that is cross product of parameter nested lists\n",
    "    \"\"\"\n",
    "    result = []\n",
    "    for row in matA:\n",
    "        row_result = []\n",
    "        for col in zip(*matB):\n",
    "            row_result.append(sum(a*b for a, b in zip(row, col)))\n",
    "        result.append(row_result)\n",
    "    return result\n",
    "def array_matrix_multiplication(matA, matB):\n",
    "    return np.matmul(matA, matB)\n",
    "\n",
    "\n",
    "list_matrix_multiplication_time = timeit(\"list_matrix_multiplication(matrix1, matrix2)\", globals=globals(), number= 10)\n",
    "array_matrix_multiplication_time = timeit(\"array_matrix_multiplication(matrix1, matrix2)\", globals=globals(), number=10)\n",
    "\n",
    "print(f\"Matrix Multiplication\\nPython lists: {list_matrix_multiplication_time:.4f} sec, NumPy arrays: {array_matrix_multiplication_time:.4f} sec\")\n"
   ]
  }
 ],
 "metadata": {
  "colab": {
   "provenance": []
  },
  "kernelspec": {
   "display_name": "Python 3",
   "name": "python3"
  },
  "language_info": {
   "codemirror_mode": {
    "name": "ipython",
    "version": 3
   },
   "file_extension": ".py",
   "mimetype": "text/x-python",
   "name": "python",
   "nbconvert_exporter": "python",
   "pygments_lexer": "ipython3",
   "version": "3.13.0"
  }
 },
 "nbformat": 4,
 "nbformat_minor": 0
}
