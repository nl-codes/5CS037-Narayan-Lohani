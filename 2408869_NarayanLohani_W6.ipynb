{
  "nbformat": 4,
  "nbformat_minor": 0,
  "metadata": {
    "colab": {
      "provenance": []
    },
    "kernelspec": {
      "name": "python3",
      "display_name": "Python 3"
    },
    "language_info": {
      "name": "python"
    }
  },
  "cells": [
    {
      "cell_type": "markdown",
      "source": [
        "# Implementation of Softmax Regression from Scratch."
      ],
      "metadata": {
        "id": "S9D6k5t5G1Vz"
      }
    },
    {
      "cell_type": "code",
      "source": [
        "import numpy as np\n",
        "import matplotlib.pyplot as plt"
      ],
      "metadata": {
        "id": "3qWh8L89HF6a"
      },
      "execution_count": null,
      "outputs": []
    },
    {
      "cell_type": "markdown",
      "source": [
        "# Building Helper Functions"
      ],
      "metadata": {
        "id": "tl-I8h-jjG0P"
      }
    },
    {
      "cell_type": "markdown",
      "source": [
        "## 1. Implementing Softmax Function:"
      ],
      "metadata": {
        "id": "0q1JonIHJQ14"
      }
    },
    {
      "cell_type": "markdown",
      "source": [
        "The softmax function is defined as:\n",
        "\n",
        "$$ \\text{softmax}(z)_i = \\frac{\\exp(z_i)}{\\sum_{j=1}^n \\exp(z_j)} $$\n",
        "\n",
        "where $z \\in \\mathbb{R}^n. $"
      ],
      "metadata": {
        "id": "gcSNQu30HVOc"
      }
    },
    {
      "cell_type": "code",
      "source": [
        "def softmax(z):\n",
        "  \"\"\"\n",
        "  Compute the softmax of a 2D numpy array along the specified axis.\n",
        "  Parameters:\n",
        "  z (numpy.ndarray): Input array of shape (m, n) where m is the number of samples\n",
        "\n",
        "  and n is the number of classes.\n",
        "\n",
        "  Returns:\n",
        "  numpy.ndarray: Softmax probabilities of the same shape as input (m, n), where\n",
        "  each row sums to 1 and represents the probability distribution\n",
        "  over classes for a sample.\n",
        "\n",
        "  Notes:\n",
        "  - Applies a normalization trick to prevent numerical instability by subtracting\n",
        "  the max value in each row before exponentiation.\n",
        "  \"\"\"\n",
        "  exp_z = np.exp(z - np.max(z, axis=1, keepdims=True))\n",
        "  return exp_z / np.sum(exp_z, axis=1, keepdims=True)"
      ],
      "metadata": {
        "id": "Zrx6Cqj-NFVv"
      },
      "execution_count": null,
      "outputs": []
    },
    {
      "cell_type": "code",
      "source": [
        "# Test case for softmax function\n",
        "def test_softmax():\n",
        "  \"\"\"\n",
        "  Perform basic assertion tests on the softmax function to validate its correctness.\n",
        "  Tests:\n",
        "  - Ensure that the output probabilities sum to 1 for each row.\n",
        "  - Ensure non-negative values (all probabilities should be >= 0).\n",
        "  - Test on edge cases (e.g., all zeros, very large or small values).\n",
        "  \"\"\"\n",
        "  # Test input\n",
        "  test_cases = [\n",
        "  (np.array([[0, 0, 0]]), \"All zeros\"),\n",
        "  (np.array([[1, 2, 3]]), \"Simple case\"),\n",
        "  (np.array([[1000, 1000, 1000]]), \"Large identical values\"),\n",
        "  (np.array([[-1000, -1000, -1000]]), \"Small identical values\"),\n",
        "  (np.array([[1, 0, -1]]), \"Mixed positive and negative\")]\n",
        "\n",
        "  for i, (z, description) in enumerate(test_cases):\n",
        "    print(f\"Test {i + 1}: {description}\")\n",
        "    result = softmax(z)\n",
        "    # Check that probabilities sum to 1\n",
        "    assert np.allclose(result.sum(axis=1), 1), f\"Failed: Probabilities do not sum to 1 in {description}\"\n",
        "    # Check non-negativity\n",
        "    assert np.all(result >= 0), f\"Failed: Negative probabilities in {description}\"\n",
        "    print(\"Passed.\")\n",
        "\n",
        "  print(\"All tests passed for softmax function.\")\n",
        "\n",
        "test_softmax()\n"
      ],
      "metadata": {
        "colab": {
          "base_uri": "https://localhost:8080/"
        },
        "id": "qrGGanIFInAY",
        "outputId": "c70d215f-3c19-4031-e9cb-ce37ff901090"
      },
      "execution_count": null,
      "outputs": [
        {
          "output_type": "stream",
          "name": "stdout",
          "text": [
            "Test 1: All zeros\n",
            "Passed.\n",
            "Test 2: Simple case\n",
            "Passed.\n",
            "Test 3: Large identical values\n",
            "Passed.\n",
            "Test 4: Small identical values\n",
            "Passed.\n",
            "Test 5: Mixed positive and negative\n",
            "Passed.\n",
            "All tests passed for softmax function.\n"
          ]
        }
      ]
    },
    {
      "cell_type": "markdown",
      "source": [
        "## 2. Implementing Categorical Log-Loss Function:"
      ],
      "metadata": {
        "id": "PpytG810Jo76"
      }
    },
    {
      "cell_type": "markdown",
      "source": [
        "The categorical log-loss for softmax regression is given by:\n",
        "\n",
        "$$\n",
        "L(y, \\hat{y}) = -\\frac{1}{n} \\sum_{i=1}^n \\sum_{c=1}^C y_{i,c} \\log(\\hat{y}_{i,c})\n",
        "$$\n",
        "\n",
        "where:\n",
        "\n",
        "- $y$ : One-hot encoded true target values of shape  $(n, C)$\n",
        "- $\\hat{y}$: Predicted probabilities from softmax of shape $(n, C)$\n"
      ],
      "metadata": {
        "id": "9A51kqQHJnaJ"
      }
    },
    {
      "cell_type": "code",
      "source": [
        "# Loss Function for a Single Observation\n",
        "def loss_softmax(y_true, y_pred):\n",
        "  \"\"\"\n",
        "  Compute the cross-entropy loss for a single observation.\n",
        "  Parameters:\n",
        "  y_true (numpy.ndarray): True labels (one-hot encoded) of shape (c,).\n",
        "  y_pred (numpy.ndarray): Predicted probabilities of shape (c,).\n",
        "  Returns:\n",
        "  float: Cross-entropy loss for the observation.\n",
        "  \"\"\"\n",
        "  return -np.sum(y_true * np.log(y_pred + 1e-10)) # Add epsilon to prevent log(0)"
      ],
      "metadata": {
        "id": "BVjNRBNzKYF5"
      },
      "execution_count": null,
      "outputs": []
    },
    {
      "cell_type": "code",
      "source": [
        "def test_loss_softmax():\n",
        "  \"\"\"\n",
        "  Test the loss_softmax function using a known input and output.\n",
        "  \"\"\"\n",
        "  # Test Case 1: Perfect prediction\n",
        "  y_true = np.array([0, 1, 0]) # True label (one-hot encoded)\n",
        "  y_pred = np.array([0.1, 0.8, 0.1]) # Predicted probabilities\n",
        "  expected_loss = -np.log(0.8) # Expected loss for perfect prediction\n",
        "  assert np.isclose(loss_softmax(y_true, y_pred), expected_loss), \"Test Case 1 Failed\"\n",
        "\n",
        "  # Test Case 2: Incorrect prediction\n",
        "  y_true = np.array([1, 0, 0]) # True label (one-hot encoded)\n",
        "  y_pred = np.array([0.3, 0.4, 0.3]) # Predicted probabilities\n",
        "  expected_loss = -np.log(0.3) # Expected loss for incorrect prediction\n",
        "  assert np.isclose(loss_softmax(y_true, y_pred), expected_loss), \"Test Case 2 Failed\"\n",
        "\n",
        "  # Test Case 3: Edge case with near-zero probability\n",
        "  y_true = np.array([0, 1, 0]) # True label (one-hot encoded)\n",
        "  y_pred = np.array([0.01, 0.98, 0.01]) # Predicted probabilities\n",
        "  expected_loss = -np.log(0.98) # Expected loss for edge case\n",
        "  assert np.isclose(loss_softmax(y_true, y_pred), expected_loss), \"Test Case 3 Failed\"\n",
        "\n",
        "  print(\"All test cases passed!\")\n",
        "\n",
        "# Run the test\n",
        "test_loss_softmax()"
      ],
      "metadata": {
        "colab": {
          "base_uri": "https://localhost:8080/"
        },
        "id": "jMwtWbZTKd4v",
        "outputId": "86342d34-1b0e-4680-d5e5-2996b8a3f2ac"
      },
      "execution_count": null,
      "outputs": [
        {
          "output_type": "stream",
          "name": "stdout",
          "text": [
            "All test cases passed!\n"
          ]
        }
      ]
    },
    {
      "cell_type": "markdown",
      "source": [
        "## 3. Implementing Cost Function with Categorical Log Loss:"
      ],
      "metadata": {
        "id": "8YihB_BeLCxn"
      }
    },
    {
      "cell_type": "markdown",
      "source": [
        "The categorical log-loss for a single observation is:\n",
        "\n",
        "$$\n",
        "L(y, \\hat{y}) = -\\frac{1}{n} \\sum_{i=1}^n \\sum_{c=1}^C y_{i,c} \\log(\\hat{y}_{i,c})\n",
        "$$\n",
        "\n",
        "where:\n",
        "\n",
        "- $y_{i, c}$ : True one-hot value for class $c$\n",
        "- $\\hat{y}_{i, c}$: Predicted probability for class $c$\n",
        "\n",
        "For $n$ observations, the cost function is:\n",
        "\n",
        "$$\n",
        "\\text{cost}(y, \\hat{y}) = \\frac{1}{n} \\sum_{i=1}^n L(y_i, \\hat{y}_i)\n",
        "$$\n",
        "\n",
        "Substituting $L(y_i, \\hat{y}_i) :$\n",
        "\n",
        "$$\n",
        "\\text{cost}(y, \\hat{y}) = -\\frac{1}{n} \\sum_{i=1}^n \\sum_{c=1}^C y_{i,c} \\log(\\hat{y}_{i,c})\n",
        "$$\n"
      ],
      "metadata": {
        "id": "LBS_Zv31LJXX"
      }
    },
    {
      "cell_type": "code",
      "source": [
        "# Cost Function for Softmax (Average Loss)\n",
        "def cost_softmax(X, y, W, b):\n",
        "  \"\"\"\n",
        "  Compute the average cross-entropy cost over all samples.\n",
        "  Parameters:\n",
        "  X (numpy.ndarray): Feature matrix of shape (n, d).\n",
        "  y (numpy.ndarray): True labels (one-hot encoded) of shape (n, c).\n",
        "  W (numpy.ndarray): Weight matrix of shape (d, c).\n",
        "  b (numpy.ndarray): Bias vector of shape (c,).\n",
        "  Returns:\n",
        "  float: Average cross-entropy cost over all samples.\n",
        "  \"\"\"\n",
        "  n, d = X.shape\n",
        "  z = np.dot(X, W) + b\n",
        "  y_pred = softmax(z)\n",
        "  return -np.sum(y * np.log(y_pred + 1e-10)) / n"
      ],
      "metadata": {
        "id": "KeCHZvKgdbRW"
      },
      "execution_count": null,
      "outputs": []
    },
    {
      "cell_type": "code",
      "source": [
        "def test_cost_softmax():\n",
        "  \"\"\"\n",
        "  Test the cost_softmax function using a known input and output.\n",
        "  \"\"\"\n",
        "  # Test Case 1: Small dataset with perfect predictions\n",
        "  X = np.array([[1, 2], [2, 3], [3, 4]]) # Feature matrix (n=3, d=2)\n",
        "  y = np.array([[1, 0], [0, 1], [1, 0]]) # True labels (n=3, c=2, one-hot encoded)\n",
        "  W = np.array([[1, -1], [-1, 1]]) # Weight matrix (d=2, c=2)\n",
        "  b = np.array([0, 0]) # Bias vector (c=2)\n",
        "  z = np.dot(X, W) + b\n",
        "  y_pred = softmax(z) # Predicted probabilities\n",
        "  expected_cost = -np.sum(y * np.log(y_pred + 1e-10)) / X.shape[0] # Compute expected cost\n",
        "  assert np.isclose(cost_softmax(X, y, W, b), expected_cost), \"Test Case 1 Failed\"\n",
        "\n",
        "  # Test Case 2: All-zero weights and bias\n",
        "  X = np.array([[1, 0], [0, 1], [1, 1]]) # Feature matrix (n=3, d=2)\n",
        "  y = np.array([[1, 0], [0, 1], [1, 0]]) # True labels (n=3, c=2, one-hot encoded)\n",
        "  W = np.zeros((2, 2)) # Zero weight matrix\n",
        "  b = np.zeros(2) # Zero bias vector\n",
        "  z = np.dot(X, W) + b\n",
        "  y_pred = softmax(z) # Predicted probabilities (uniform distribution)\n",
        "  expected_cost = -np.sum(y * np.log(y_pred + 1e-10)) / X.shape[0] # Compute expected cost\n",
        "  assert np.isclose(cost_softmax(X, y, W, b), expected_cost), \"Test Case 2 Failed\"\n",
        "  print(\"All test cases passed!\")\n",
        "\n",
        "# Run the test\n",
        "test_cost_softmax()"
      ],
      "metadata": {
        "colab": {
          "base_uri": "https://localhost:8080/"
        },
        "id": "YagNx3xTdiUk",
        "outputId": "9dfc6fa9-93e8-4865-b5c2-96e08dc1cf5f"
      },
      "execution_count": null,
      "outputs": [
        {
          "output_type": "stream",
          "name": "stdout",
          "text": [
            "All test cases passed!\n"
          ]
        }
      ]
    },
    {
      "cell_type": "markdown",
      "source": [
        "## 4. Computing Gradients of Weights and Biases:"
      ],
      "metadata": {
        "id": "bJSrFkvfd0M9"
      }
    },
    {
      "cell_type": "markdown",
      "source": [
        "For the categorical cross-entropy loss, the gradients are:\n",
        "\n",
        "$$\n",
        "\\frac{\\partial \\text{Categorical Log Loss}}{\\partial w_c} = -\\frac{1}{n} \\sum_{i=1}^n (y_{i,c} - \\hat{y}_{i,c}) x_i, \\quad \\forall c \\in \\{1, \\dots, C\\}, \\tag{1}\n",
        "$$\n",
        "\n",
        "$$\n",
        "\\frac{\\partial \\text{Categorical Log Loss}}{\\partial b_c} = -\\frac{1}{n} \\sum_{i=1}^n (y_{i,c} - \\hat{y}_{i,c}), \\quad \\forall c \\in \\{1, \\dots, C\\}. \\tag{2}\n",
        "$$\n",
        "\n",
        "The weights \\( w_c \\) and biases \\( b_c \\) for each class \\( c \\) are updated as:\n",
        "\n",
        "$$\n",
        "w_c \\leftarrow w_c - \\alpha \\frac{\\partial \\text{Categorical Log Loss}}{\\partial w_c}, \\quad\n",
        "b_c \\leftarrow b_c - \\alpha \\frac{\\partial \\text{Categorical Log Loss}}{\\partial b_c}. \\tag{3}\n",
        "$$\n"
      ],
      "metadata": {
        "id": "oqiBJNI1d1ia"
      }
    },
    {
      "cell_type": "code",
      "source": [
        "# Gradient Computation\n",
        "def compute_gradient_softmax(X, y, W, b):\n",
        "  \"\"\"\n",
        "  Compute the gradients of the cost function with respect to weights and biases.\n",
        "  Parameters:\n",
        "  X (numpy.ndarray): Feature matrix of shape (n, d).\n",
        "  y (numpy.ndarray): True labels (one-hot encoded) of shape (n, c).\n",
        "  W (numpy.ndarray): Weight matrix of shape (d, c).\n",
        "  b (numpy.ndarray): Bias vector of shape (c,).\n",
        "  Returns:\n",
        "  tuple: Gradients with respect to weights (d, c) and biases (c,).\n",
        "  \"\"\"\n",
        "  n, d = X.shape\n",
        "  z = np.dot(X, W) + b\n",
        "  y_pred = softmax(z)\n",
        "  grad_W = np.dot(X.T, (y_pred - y)) / n\n",
        "  grad_b = np.sum(y_pred - y, axis=0) / n\n",
        "  return grad_W, grad_b"
      ],
      "metadata": {
        "id": "wUblAfPgd1AL"
      },
      "execution_count": null,
      "outputs": []
    },
    {
      "cell_type": "code",
      "source": [
        "# Test function\n",
        "def test_compute_gradient_softmax():\n",
        "  \"\"\"\n",
        "  Test the compute_gradient_softmax function using a known input and output.\n",
        "  \"\"\"\n",
        "  # Define simple inputs\n",
        "  X = np.array([[1, 2], [3, 4]]) # Shape (2, 2)\n",
        "  y = np.array([[1, 0], [0, 1]]) # Shape (2, 2), one-hot encoded\n",
        "  W = np.array([[0.1, 0.2], [0.3, 0.4]]) # Shape (2, 2)\n",
        "  b = np.array([0.01, 0.02]) # Shape (2,)\n",
        "\n",
        "  # Expected gradients (calculated manually or using a reference implementation)\n",
        "  z = np.dot(X, W) + b\n",
        "  y_pred = softmax(z)\n",
        "  grad_W_expected = np.dot(X.T, (y_pred - y)) / X.shape[0]\n",
        "  grad_b_expected = np.sum(y_pred - y, axis=0) / X.shape[0]\n",
        "\n",
        "  # Compute gradients using the function\n",
        "  grad_W, grad_b = compute_gradient_softmax(X, y, W, b)\n",
        "\n",
        "  # Assertions\n",
        "  assert np.allclose(grad_W, grad_W_expected, atol=1e-6), \"Gradient W does not match expected values\"\n",
        "  assert np.allclose(grad_b, grad_b_expected, atol=1e-6), \"Gradient b does not match expected values\"\n",
        "\n",
        "  print(\"All tests passed for compute_gradient_softmax!\")\n",
        "# Run the test\n",
        "test_compute_gradient_softmax()"
      ],
      "metadata": {
        "colab": {
          "base_uri": "https://localhost:8080/"
        },
        "id": "PtRfnjSXeb0m",
        "outputId": "44e28447-a9e2-4406-b6b4-c087c2a42405"
      },
      "execution_count": null,
      "outputs": [
        {
          "output_type": "stream",
          "name": "stdout",
          "text": [
            "All tests passed for compute_gradient_softmax!\n"
          ]
        }
      ]
    },
    {
      "cell_type": "markdown",
      "source": [
        "## 5. Implementing Gradient Descent for Softmax Regression:"
      ],
      "metadata": {
        "id": "wmjaECGAe60t"
      }
    },
    {
      "cell_type": "code",
      "source": [
        "def gradient_descent_softmax(X, y, W, b, alpha, n_iter, show_cost=False):\n",
        "  \"\"\"\n",
        "  Perform gradient descent to optimize the weights and biases.\n",
        "  Parameters:\n",
        "  X (numpy.ndarray): Feature matrix of shape (n, d).\n",
        "  y (numpy.ndarray): True labels (one-hot encoded) of shape (n, c).\n",
        "  W (numpy.ndarray): Weight matrix of shape (d, c).\n",
        "  b (numpy.ndarray): Bias vector of shape (c,).\n",
        "  alpha (float): Learning rate.\n",
        "  n_iter (int): Number of iterations.\n",
        "  show_cost (bool): Whether to display the cost at intervals.\n",
        "  Returns:\n",
        "  tuple: Optimized weights, biases, and cost history.\n",
        "  \"\"\"\n",
        "  cost_history = []\n",
        "\n",
        "  for i in range(n_iter):\n",
        "    grad_W, grad_b = compute_gradient_softmax(X, y, W, b)\n",
        "    W -= alpha * grad_W\n",
        "    b -= alpha * grad_b\n",
        "    cost = cost_softmax(X, y, W, b)\n",
        "    cost_history.append(cost)\n",
        "\n",
        "    if show_cost and (i % 100 == 0 or i == n_iter - 1):\n",
        "      print(f\"Iteration {i}: Cost = {cost:.6f}\")\n",
        "\n",
        "  return W, b, cost_history"
      ],
      "metadata": {
        "id": "5NaTH84hfCjf"
      },
      "execution_count": null,
      "outputs": []
    },
    {
      "cell_type": "code",
      "source": [
        "# To test a Gradient Descent we plot the Cost vs. Iterations and observe the behaviour and flow of the plot.\n",
        "def test_gradient_descent_softmax_with_plot():\n",
        "  # Generate synthetic data for testing\n",
        "  np.random.seed(0)\n",
        "  n, d, c = 100, 5, 3 # 100 samples, 5 features, 3 classes\n",
        "  X = np.random.rand(n, d)\n",
        "  y_indices = np.random.randint(0, c, size=n)\n",
        "  y = np.zeros((n, c))\n",
        "  y[np.arange(n), y_indices] = 1 # One-hot encoding\n",
        "\n",
        "  # Initialize weights and biases\n",
        "  W = np.random.rand(d, c)\n",
        "  b = np.random.rand(c)\n",
        "\n",
        "  # Parameters for gradient descent\n",
        "  alpha = 0.01 # Learning rate\n",
        "  n_iter = 500 # Number of iterations\n",
        "\n",
        "  # Run gradient descent\n",
        "  W_opt, b_opt, cost_history = gradient_descent_softmax(X, y, W, b, alpha, n_iter, show_cost=False)\n",
        "\n",
        "  # Plot the cost history\n",
        "  plt.figure(figsize=(8, 6))\n",
        "  plt.plot(range(n_iter), cost_history, label=\"Cost\")\n",
        "  plt.xlabel(\"Iteration\")\n",
        "  plt.ylabel(\"Cost\")\n",
        "  plt.title(f\"Cost Reduction Over Iterations (Learning Rate: {alpha})\")\n",
        "  plt.legend()\n",
        "  plt.grid()\n",
        "  plt.show()\n",
        "\n",
        "  # Final cost should ideally be less than initial cost\n",
        "  print(f\"\\nInitial Cost: {cost_history[0]}\")\n",
        "  print(f\"Final Cost: {cost_history[-1]}\")\n",
        "\n",
        "test_gradient_descent_softmax_with_plot()"
      ],
      "metadata": {
        "colab": {
          "base_uri": "https://localhost:8080/",
          "height": 616
        },
        "id": "bpza9UIFfbgm",
        "outputId": "1bd2e865-edc2-4a61-b2b9-4542c457dd34"
      },
      "execution_count": null,
      "outputs": [
        {
          "output_type": "display_data",
          "data": {
            "text/plain": [
              "<Figure size 800x600 with 1 Axes>"
            ],
            "image/png": "[encoded data removed]"
          },
          "metadata": {}
        },
        {
          "output_type": "stream",
          "name": "stdout",
          "text": [
            "\n",
            "Initial Cost: 1.1158608479596404\n",
            "Final Cost: 1.0892233754862581\n"
          ]
        }
      ]
    },
    {
      "cell_type": "markdown",
      "source": [
        "## 6. Decision/Prediction Function for Softmax Regression for Multi-class Classification:"
      ],
      "metadata": {
        "id": "YsRlhtlXgIaC"
      }
    },
    {
      "cell_type": "markdown",
      "source": [
        "1. **Prediction**:  \n",
        "   - Using the trained weights and bias, the model calculates the probabilities $y_{\\text{prob}}$ for each sample in the test set. These probabilities are computed using the softmax function and indicate the likelihood of belonging to each of the $c$ classes.  \n",
        "   - The softmax probabilities for a sample $i$ are given by:\n",
        "\n",
        "   $$\n",
        "   y_{\\text{prob},i,j} = \\frac{\\exp(z_{i,j})}{\\sum_{k=1}^c \\exp(z_{i,k})}, \\quad \\text{for } j \\in \\{1, 2, \\dots, c\\},\n",
        "   $$\n",
        "\n",
        "   where $z_{i,j}$ is the unnormalized logit for class $j$, and $c$ is the total number of classes.\n",
        "\n",
        "2. **Decision Rule**:  \n",
        "   - The predicted probabilities $y_{\\text{prob},i,j}$ are converted into a discrete class label$\\hat{y}_i$ by selecting the class with the highest probability. This decision rule is given by:\n",
        "\n",
        "   $$\n",
        "   \\hat{y}_i = \\underset{j \\in \\{1, 2, \\dots, c\\}}{\\arg\\max} \\, y_{\\text{prob},i,j}.\n",
        "   $$\n",
        "\n",
        "   - For each sample, the class label $\\hat{y}_i$ corresponds to the index of the maximum softmax probability, which indicates the most likely class.\n"
      ],
      "metadata": {
        "id": "Ocf6yQLWgT3x"
      }
    },
    {
      "cell_type": "code",
      "source": [
        "# Prediction Function\n",
        "def predict_softmax(X, W, b):\n",
        "  \"\"\"\n",
        "  Predict the class labels for input data.\n",
        "  Parameters:\n",
        "  X (numpy.ndarray): Feature matrix of shape (n, d).\n",
        "  W (numpy.ndarray): Weight matrix of shape (d, c).\n",
        "  b (numpy.ndarray): Bias vector of shape (c,).\n",
        "  Returns:\n",
        "  numpy.ndarray: Predicted class labels of shape (n,).\n",
        "  \"\"\"\n",
        "  z = np.dot(X, W) + b\n",
        "  y_pred = softmax(z)\n",
        "\n",
        "  return np.argmax(y_pred, axis=1)"
      ],
      "metadata": {
        "id": "98-K1rMyg-0X"
      },
      "execution_count": null,
      "outputs": []
    },
    {
      "cell_type": "code",
      "source": [
        "def test_predict_softmax():\n",
        "  # Generate synthetic data for testing\n",
        "  np.random.seed(0)\n",
        "\n",
        "  n, d, c = 10, 5, 3 # 10 samples, 5 features, 3 classes\n",
        "  X = np.random.rand(n, d)\n",
        "  W = np.random.rand(d, c)\n",
        "  b = np.random.rand(c)\n",
        "\n",
        "  # Compute the predictions using the function\n",
        "  predictions = predict_softmax(X, W, b)\n",
        "\n",
        "  # Check the shape of the output\n",
        "  assert predictions.shape == (n,), f\"Shape mismatch: expected {(n,)}, got {predictions.shape}\"\n",
        "\n",
        "  # Verify that all predicted labels are within the range of class indices\n",
        "  assert np.all(predictions >= 0) and np.all(predictions < c), (f\"Predictions out of range: expected 0 to {c-1}, got {predictions}\")\n",
        "\n",
        "  # Check that the predicted labels are integers\n",
        "  assert np.issubdtype(predictions.dtype, np.integer), f\"Predictions are not integers: {predictions.dtype}\"\n",
        "  print(\"All tests passed for predict_softmax!\")\n",
        "\n",
        "# Run the test\n",
        "test_predict_softmax()"
      ],
      "metadata": {
        "colab": {
          "base_uri": "https://localhost:8080/"
        },
        "id": "ITz8OfbDhMki",
        "outputId": "eeb99a02-e3ad-4101-8e2e-03005a3b90c0"
      },
      "execution_count": null,
      "outputs": [
        {
          "output_type": "stream",
          "name": "stdout",
          "text": [
            "All tests passed for predict_softmax!\n"
          ]
        }
      ]
    },
    {
      "cell_type": "markdown",
      "source": [
        "## 7. Evaluating Classifier:"
      ],
      "metadata": {
        "id": "B1IS63M2hiQS"
      }
    },
    {
      "cell_type": "code",
      "source": [
        "# Evaluation Function\n",
        "def evaluate_classification(y_true, y_pred):\n",
        "  \"\"\"\n",
        "  Evaluate the classification performance using confusion matrix, precision, recall, and F1-score.\n",
        "  Parameters:\n",
        "  y_true (numpy.ndarray): True class labels of shape (n,).\n",
        "  y_pred (numpy.ndarray): Predicted class labels of shape (n,).\n",
        "  Returns:\n",
        "  tuple: Confusion matrix, precision, recall, and F1-score.\n",
        "  \"\"\"\n",
        "  from sklearn.metrics import confusion_matrix, precision_score, recall_score, f1_score\n",
        "  cm = confusion_matrix(y_true, y_pred)\n",
        "  precision = precision_score(y_true, y_pred, average=\"weighted\", zero_division=0)\n",
        "  recall = recall_score(y_true, y_pred, average=\"weighted\", zero_division=0)\n",
        "  f1 = f1_score(y_true, y_pred, average=\"weighted\", zero_division=0)\n",
        "  return cm, precision, recall, f1"
      ],
      "metadata": {
        "id": "WUIhbGNChj4V"
      },
      "execution_count": null,
      "outputs": []
    },
    {
      "cell_type": "markdown",
      "source": [
        "# Putting Helper Function to Action.\n",
        "\n",
        "Compiling and Training A softmax regression on Dataset."
      ],
      "metadata": {
        "id": "kjrjUt-GjV90"
      }
    },
    {
      "cell_type": "markdown",
      "source": [
        "## Some Basic Data operations, Loading, Analysis and Cleaning:"
      ],
      "metadata": {
        "id": "1BARU_3ijpqh"
      }
    },
    {
      "cell_type": "markdown",
      "source": [
        "### Necessary Imports and Loading of the Dataset:"
      ],
      "metadata": {
        "id": "aZzJXBqyjqsI"
      }
    },
    {
      "cell_type": "code",
      "source": [
        "# Load dataset\n",
        "import numpy as np\n",
        "import pandas as pd\n",
        "from sklearn.model_selection import train_test_split\n",
        "from sklearn.preprocessing import StandardScaler, OneHotEncoder\n",
        "import matplotlib.pyplot as plt\n",
        "url = \"https://raw.githubusercontent.com/nl-codes/5CS037-Narayan-Lohani/refs/heads/main/datasets/Titanic-Dataset.csv\""
      ],
      "metadata": {
        "id": "459SM0zCjsXD"
      },
      "execution_count": null,
      "outputs": []
    },
    {
      "cell_type": "code",
      "source": [
        "titanic_dataset = pd.read_csv(url)"
      ],
      "metadata": {
        "id": "G-EUWaIO8LO4"
      },
      "execution_count": null,
      "outputs": []
    },
    {
      "cell_type": "markdown",
      "source": [
        "### Some Basic Data Cleaning:"
      ],
      "metadata": {
        "id": "qC7I5VdHpNDP"
      }
    },
    {
      "cell_type": "code",
      "source": [
        "titanic_dataset.info()"
      ],
      "metadata": {
        "colab": {
          "base_uri": "https://localhost:8080/"
        },
        "id": "205Ur-lc2YYp",
        "outputId": "d97985c1-6e15-4524-b74c-838edad1f768"
      },
      "execution_count": null,
      "outputs": [
        {
          "output_type": "stream",
          "name": "stdout",
          "text": [
            "<class 'pandas.core.frame.DataFrame'>\n",
            "RangeIndex: 891 entries, 0 to 890\n",
            "Data columns (total 12 columns):\n",
            " #   Column       Non-Null Count  Dtype  \n",
            "---  ------       --------------  -----  \n",
            " 0   PassengerId  891 non-null    int64  \n",
            " 1   Survived     891 non-null    int64  \n",
            " 2   Pclass       891 non-null    int64  \n",
            " 3   Name         891 non-null    object \n",
            " 4   Sex          891 non-null    object \n",
            " 5   Age          714 non-null    float64\n",
            " 6   SibSp        891 non-null    int64  \n",
            " 7   Parch        891 non-null    int64  \n",
            " 8   Ticket       891 non-null    object \n",
            " 9   Fare         891 non-null    float64\n",
            " 10  Cabin        204 non-null    object \n",
            " 11  Embarked     889 non-null    object \n",
            "dtypes: float64(2), int64(5), object(5)\n",
            "memory usage: 83.7+ KB\n"
          ]
        }
      ]
    },
    {
      "cell_type": "code",
      "source": [
        "# Data cleaning\n",
        "titanic_dataset = titanic_dataset.drop(['PassengerId', 'Name', 'Ticket', 'Cabin'], axis=1)\n",
        "titanic_dataset = pd.get_dummies(titanic_dataset, columns=['Sex'], drop_first=True)\n",
        "bool_columns = titanic_dataset.select_dtypes(include=['bool']).columns\n",
        "titanic_dataset[bool_columns] = titanic_dataset[bool_columns].astype(int)\n",
        "titanic_dataset.dropna(inplace=True)"
      ],
      "metadata": {
        "id": "0z6HmThUpNkC"
      },
      "execution_count": null,
      "outputs": []
    },
    {
      "cell_type": "code",
      "source": [
        "titanic_dataset.info()"
      ],
      "metadata": {
        "colab": {
          "base_uri": "https://localhost:8080/"
        },
        "id": "us1-N6DYqUVr",
        "outputId": "8ff39279-e9f4-4002-97e1-4817074da15b"
      },
      "execution_count": null,
      "outputs": [
        {
          "output_type": "stream",
          "name": "stdout",
          "text": [
            "<class 'pandas.core.frame.DataFrame'>\n",
            "Index: 712 entries, 0 to 890\n",
            "Data columns (total 8 columns):\n",
            " #   Column    Non-Null Count  Dtype  \n",
            "---  ------    --------------  -----  \n",
            " 0   Survived  712 non-null    int64  \n",
            " 1   Pclass    712 non-null    int64  \n",
            " 2   Age       712 non-null    float64\n",
            " 3   SibSp     712 non-null    int64  \n",
            " 4   Parch     712 non-null    int64  \n",
            " 5   Fare      712 non-null    float64\n",
            " 6   Embarked  712 non-null    object \n",
            " 7   Sex_male  712 non-null    int64  \n",
            "dtypes: float64(2), int64(5), object(1)\n",
            "memory usage: 50.1+ KB\n"
          ]
        }
      ]
    },
    {
      "cell_type": "code",
      "source": [
        "titanic_dataset.head()"
      ],
      "metadata": {
        "colab": {
          "base_uri": "https://localhost:8080/",
          "height": 206
        },
        "id": "C25EP7aRqXRa",
        "outputId": "eb22e3e1-e412-48ed-cba0-a73e5e6b0f22"
      },
      "execution_count": null,
      "outputs": [
        {
          "output_type": "execute_result",
          "data": {
            "text/plain": [
              "   Survived  Pclass   Age  SibSp  Parch     Fare Embarked  Sex_male\n",
              "0         0       3  22.0      1      0   7.2500        S         1\n",
              "1         1       1  38.0      1      0  71.2833        C         0\n",
              "2         1       3  26.0      0      0   7.9250        S         0\n",
              "3         1       1  35.0      1      0  53.1000        S         0\n",
              "4         0       3  35.0      0      0   8.0500        S         1"
            ],
            "text/html": [
              "\n",
              "  <div id=\"df-5a58284d-8d87-49fe-8726-2f6a6c6f9d80\" class=\"colab-df-container\">\n",
              "    <div>\n",
              "<style scoped>\n",
              "    .dataframe tbody tr th:only-of-type {\n",
              "        vertical-align: middle;\n",
              "    }\n",
              "\n",
              "    .dataframe tbody tr th {\n",
              "        vertical-align: top;\n",
              "    }\n",
              "\n",
              "    .dataframe thead th {\n",
              "        text-align: right;\n",
              "    }\n",
              "</style>\n",
              "<table border=\"1\" class=\"dataframe\">\n",
              "  <thead>\n",
              "    <tr style=\"text-align: right;\">\n",
              "      <th></th>\n",
              "      <th>Survived</th>\n",
              "      <th>Pclass</th>\n",
              "      <th>Age</th>\n",
              "      <th>SibSp</th>\n",
              "      <th>Parch</th>\n",
              "      <th>Fare</th>\n",
              "      <th>Embarked</th>\n",
              "      <th>Sex_male</th>\n",
              "    </tr>\n",
              "  </thead>\n",
              "  <tbody>\n",
              "    <tr>\n",
              "      <th>0</th>\n",
              "      <td>0</td>\n",
              "      <td>3</td>\n",
              "      <td>22.0</td>\n",
              "      <td>1</td>\n",
              "      <td>0</td>\n",
              "      <td>7.2500</td>\n",
              "      <td>S</td>\n",
              "      <td>1</td>\n",
              "    </tr>\n",
              "    <tr>\n",
              "      <th>1</th>\n",
              "      <td>1</td>\n",
              "      <td>1</td>\n",
              "      <td>38.0</td>\n",
              "      <td>1</td>\n",
              "      <td>0</td>\n",
              "      <td>71.2833</td>\n",
              "      <td>C</td>\n",
              "      <td>0</td>\n",
              "    </tr>\n",
              "    <tr>\n",
              "      <th>2</th>\n",
              "      <td>1</td>\n",
              "      <td>3</td>\n",
              "      <td>26.0</td>\n",
              "      <td>0</td>\n",
              "      <td>0</td>\n",
              "      <td>7.9250</td>\n",
              "      <td>S</td>\n",
              "      <td>0</td>\n",
              "    </tr>\n",
              "    <tr>\n",
              "      <th>3</th>\n",
              "      <td>1</td>\n",
              "      <td>1</td>\n",
              "      <td>35.0</td>\n",
              "      <td>1</td>\n",
              "      <td>0</td>\n",
              "      <td>53.1000</td>\n",
              "      <td>S</td>\n",
              "      <td>0</td>\n",
              "    </tr>\n",
              "    <tr>\n",
              "      <th>4</th>\n",
              "      <td>0</td>\n",
              "      <td>3</td>\n",
              "      <td>35.0</td>\n",
              "      <td>0</td>\n",
              "      <td>0</td>\n",
              "      <td>8.0500</td>\n",
              "      <td>S</td>\n",
              "      <td>1</td>\n",
              "    </tr>\n",
              "  </tbody>\n",
              "</table>\n",
              "</div>\n",
              "    <div class=\"colab-df-buttons\">\n",
              "\n",
              "  <div class=\"colab-df-container\">\n",
              "    <button class=\"colab-df-convert\" onclick=\"convertToInteractive('df-5a58284d-8d87-49fe-8726-2f6a6c6f9d80')\"\n",
              "            title=\"Convert this dataframe to an interactive table.\"\n",
              "            style=\"display:none;\">\n",
              "\n",
              "  <svg xmlns=\"http://www.w3.org/2000/svg\" height=\"24px\" viewBox=\"0 -960 960 960\">\n",
              "    <path d=\"M120-120v-720h720v720H120Zm60-500h600v-160H180v160Zm220 220h160v-160H400v160Zm0 220h160v-160H400v160ZM180-400h160v-160H180v160Zm440 0h160v-160H620v160ZM180-180h160v-160H180v160Zm440 0h160v-160H620v160Z\"/>\n",
              "  </svg>\n",
              "    </button>\n",
              "\n",
              "  <style>\n",
              "    .colab-df-container {\n",
              "      display:flex;\n",
              "      gap: 12px;\n",
              "    }\n",
              "\n",
              "    .colab-df-convert {\n",
              "      background-color: #E8F0FE;\n",
              "      border: none;\n",
              "      border-radius: 50%;\n",
              "      cursor: pointer;\n",
              "      display: none;\n",
              "      fill: #1967D2;\n",
              "      height: 32px;\n",
              "      padding: 0 0 0 0;\n",
              "      width: 32px;\n",
              "    }\n",
              "\n",
              "    .colab-df-convert:hover {\n",
              "      background-color: #E2EBFA;\n",
              "      box-shadow: 0px 1px 2px rgba(60, 64, 67, 0.3), 0px 1px 3px 1px rgba(60, 64, 67, 0.15);\n",
              "      fill: #174EA6;\n",
              "    }\n",
              "\n",
              "    .colab-df-buttons div {\n",
              "      margin-bottom: 4px;\n",
              "    }\n",
              "\n",
              "    [theme=dark] .colab-df-convert {\n",
              "      background-color: #3B4455;\n",
              "      fill: #D2E3FC;\n",
              "    }\n",
              "\n",
              "    [theme=dark] .colab-df-convert:hover {\n",
              "      background-color: #434B5C;\n",
              "      box-shadow: 0px 1px 3px 1px rgba(0, 0, 0, 0.15);\n",
              "      filter: drop-shadow(0px 1px 2px rgba(0, 0, 0, 0.3));\n",
              "      fill: #FFFFFF;\n",
              "    }\n",
              "  </style>\n",
              "\n",
              "    <script>\n",
              "      const buttonEl =\n",
              "        document.querySelector('#df-5a58284d-8d87-49fe-8726-2f6a6c6f9d80 button.colab-df-convert');\n",
              "      buttonEl.style.display =\n",
              "        google.colab.kernel.accessAllowed ? 'block' : 'none';\n",
              "\n",
              "      async function convertToInteractive(key) {\n",
              "        const element = document.querySelector('#df-5a58284d-8d87-49fe-8726-2f6a6c6f9d80');\n",
              "        const dataTable =\n",
              "          await google.colab.kernel.invokeFunction('convertToInteractive',\n",
              "                                                    [key], {});\n",
              "        if (!dataTable) return;\n",
              "\n",
              "        const docLinkHtml = 'Like what you see? Visit the ' +\n",
              "          '<a target=\"_blank\" href=https://colab.research.google.com/notebooks/data_table.ipynb>data table notebook</a>'\n",
              "          + ' to learn more about interactive tables.';\n",
              "        element.innerHTML = '';\n",
              "        dataTable['output_type'] = 'display_data';\n",
              "        await google.colab.output.renderOutput(dataTable, element);\n",
              "        const docLink = document.createElement('div');\n",
              "        docLink.innerHTML = docLinkHtml;\n",
              "        element.appendChild(docLink);\n",
              "      }\n",
              "    </script>\n",
              "  </div>\n",
              "\n",
              "\n",
              "<div id=\"df-c7849949-57d1-48db-a59b-3a770f36690a\">\n",
              "  <button class=\"colab-df-quickchart\" onclick=\"quickchart('df-c7849949-57d1-48db-a59b-3a770f36690a')\"\n",
              "            title=\"Suggest charts\"\n",
              "            style=\"display:none;\">\n",
              "\n",
              "<svg xmlns=\"http://www.w3.org/2000/svg\" height=\"24px\"viewBox=\"0 0 24 24\"\n",
              "     width=\"24px\">\n",
              "    <g>\n",
              "        <path d=\"M19 3H5c-1.1 0-2 .9-2 2v14c0 1.1.9 2 2 2h14c1.1 0 2-.9 2-2V5c0-1.1-.9-2-2-2zM9 17H7v-7h2v7zm4 0h-2V7h2v10zm4 0h-2v-4h2v4z\"/>\n",
              "    </g>\n",
              "</svg>\n",
              "  </button>\n",
              "\n",
              "<style>\n",
              "  .colab-df-quickchart {\n",
              "      --bg-color: #E8F0FE;\n",
              "      --fill-color: #1967D2;\n",
              "      --hover-bg-color: #E2EBFA;\n",
              "      --hover-fill-color: #174EA6;\n",
              "      --disabled-fill-color: #AAA;\n",
              "      --disabled-bg-color: #DDD;\n",
              "  }\n",
              "\n",
              "  [theme=dark] .colab-df-quickchart {\n",
              "      --bg-color: #3B4455;\n",
              "      --fill-color: #D2E3FC;\n",
              "      --hover-bg-color: #434B5C;\n",
              "      --hover-fill-color: #FFFFFF;\n",
              "      --disabled-bg-color: #3B4455;\n",
              "      --disabled-fill-color: #666;\n",
              "  }\n",
              "\n",
              "  .colab-df-quickchart {\n",
              "    background-color: var(--bg-color);\n",
              "    border: none;\n",
              "    border-radius: 50%;\n",
              "    cursor: pointer;\n",
              "    display: none;\n",
              "    fill: var(--fill-color);\n",
              "    height: 32px;\n",
              "    padding: 0;\n",
              "    width: 32px;\n",
              "  }\n",
              "\n",
              "  .colab-df-quickchart:hover {\n",
              "    background-color: var(--hover-bg-color);\n",
              "    box-shadow: 0 1px 2px rgba(60, 64, 67, 0.3), 0 1px 3px 1px rgba(60, 64, 67, 0.15);\n",
              "    fill: var(--button-hover-fill-color);\n",
              "  }\n",
              "\n",
              "  .colab-df-quickchart-complete:disabled,\n",
              "  .colab-df-quickchart-complete:disabled:hover {\n",
              "    background-color: var(--disabled-bg-color);\n",
              "    fill: var(--disabled-fill-color);\n",
              "    box-shadow: none;\n",
              "  }\n",
              "\n",
              "  .colab-df-spinner {\n",
              "    border: 2px solid var(--fill-color);\n",
              "    border-color: transparent;\n",
              "    border-bottom-color: var(--fill-color);\n",
              "    animation:\n",
              "      spin 1s steps(1) infinite;\n",
              "  }\n",
              "\n",
              "  @keyframes spin {\n",
              "    0% {\n",
              "      border-color: transparent;\n",
              "      border-bottom-color: var(--fill-color);\n",
              "      border-left-color: var(--fill-color);\n",
              "    }\n",
              "    20% {\n",
              "      border-color: transparent;\n",
              "      border-left-color: var(--fill-color);\n",
              "      border-top-color: var(--fill-color);\n",
              "    }\n",
              "    30% {\n",
              "      border-color: transparent;\n",
              "      border-left-color: var(--fill-color);\n",
              "      border-top-color: var(--fill-color);\n",
              "      border-right-color: var(--fill-color);\n",
              "    }\n",
              "    40% {\n",
              "      border-color: transparent;\n",
              "      border-right-color: var(--fill-color);\n",
              "      border-top-color: var(--fill-color);\n",
              "    }\n",
              "    60% {\n",
              "      border-color: transparent;\n",
              "      border-right-color: var(--fill-color);\n",
              "    }\n",
              "    80% {\n",
              "      border-color: transparent;\n",
              "      border-right-color: var(--fill-color);\n",
              "      border-bottom-color: var(--fill-color);\n",
              "    }\n",
              "    90% {\n",
              "      border-color: transparent;\n",
              "      border-bottom-color: var(--fill-color);\n",
              "    }\n",
              "  }\n",
              "</style>\n",
              "\n",
              "  <script>\n",
              "    async function quickchart(key) {\n",
              "      const quickchartButtonEl =\n",
              "        document.querySelector('#' + key + ' button');\n",
              "      quickchartButtonEl.disabled = true;  // To prevent multiple clicks.\n",
              "      quickchartButtonEl.classList.add('colab-df-spinner');\n",
              "      try {\n",
              "        const charts = await google.colab.kernel.invokeFunction(\n",
              "            'suggestCharts', [key], {});\n",
              "      } catch (error) {\n",
              "        console.error('Error during call to suggestCharts:', error);\n",
              "      }\n",
              "      quickchartButtonEl.classList.remove('colab-df-spinner');\n",
              "      quickchartButtonEl.classList.add('colab-df-quickchart-complete');\n",
              "    }\n",
              "    (() => {\n",
              "      let quickchartButtonEl =\n",
              "        document.querySelector('#df-c7849949-57d1-48db-a59b-3a770f36690a button');\n",
              "      quickchartButtonEl.style.display =\n",
              "        google.colab.kernel.accessAllowed ? 'block' : 'none';\n",
              "    })();\n",
              "  </script>\n",
              "</div>\n",
              "\n",
              "    </div>\n",
              "  </div>\n"
            ],
            "application/vnd.google.colaboratory.intrinsic+json": {
              "type": "dataframe",
              "variable_name": "titanic_dataset",
              "summary": "{\n  \"name\": \"titanic_dataset\",\n  \"rows\": 712,\n  \"fields\": [\n    {\n      \"column\": \"Survived\",\n      \"properties\": {\n        \"dtype\": \"number\",\n        \"std\": 0,\n        \"min\": 0,\n        \"max\": 1,\n        \"num_unique_values\": 2,\n        \"samples\": [\n          1,\n          0\n        ],\n        \"semantic_type\": \"\",\n        \"description\": \"\"\n      }\n    },\n    {\n      \"column\": \"Pclass\",\n      \"properties\": {\n        \"dtype\": \"number\",\n        \"std\": 0,\n        \"min\": 1,\n        \"max\": 3,\n        \"num_unique_values\": 3,\n        \"samples\": [\n          3,\n          1\n        ],\n        \"semantic_type\": \"\",\n        \"description\": \"\"\n      }\n    },\n    {\n      \"column\": \"Age\",\n      \"properties\": {\n        \"dtype\": \"number\",\n        \"std\": 14.49293290032352,\n        \"min\": 0.42,\n        \"max\": 80.0,\n        \"num_unique_values\": 88,\n        \"samples\": [\n          0.75,\n          22.0\n        ],\n        \"semantic_type\": \"\",\n        \"description\": \"\"\n      }\n    },\n    {\n      \"column\": \"SibSp\",\n      \"properties\": {\n        \"dtype\": \"number\",\n        \"std\": 0,\n        \"min\": 0,\n        \"max\": 5,\n        \"num_unique_values\": 6,\n        \"samples\": [\n          1,\n          0\n        ],\n        \"semantic_type\": \"\",\n        \"description\": \"\"\n      }\n    },\n    {\n      \"column\": \"Parch\",\n      \"properties\": {\n        \"dtype\": \"number\",\n        \"std\": 0,\n        \"min\": 0,\n        \"max\": 6,\n        \"num_unique_values\": 7,\n        \"samples\": [\n          0,\n          1\n        ],\n        \"semantic_type\": \"\",\n        \"description\": \"\"\n      }\n    },\n    {\n      \"column\": \"Fare\",\n      \"properties\": {\n        \"dtype\": \"number\",\n        \"std\": 52.938648174710885,\n        \"min\": 0.0,\n        \"max\": 512.3292,\n        \"num_unique_values\": 219,\n        \"samples\": [\n          7.875,\n          146.5208\n        ],\n        \"semantic_type\": \"\",\n        \"description\": \"\"\n      }\n    },\n    {\n      \"column\": \"Embarked\",\n      \"properties\": {\n        \"dtype\": \"category\",\n        \"num_unique_values\": 3,\n        \"samples\": [\n          \"S\",\n          \"C\"\n        ],\n        \"semantic_type\": \"\",\n        \"description\": \"\"\n      }\n    },\n    {\n      \"column\": \"Sex_male\",\n      \"properties\": {\n        \"dtype\": \"number\",\n        \"std\": 0,\n        \"min\": 0,\n        \"max\": 1,\n        \"num_unique_values\": 2,\n        \"samples\": [\n          0,\n          1\n        ],\n        \"semantic_type\": \"\",\n        \"description\": \"\"\n      }\n    }\n  ]\n}"
            }
          },
          "metadata": {},
          "execution_count": 20
        }
      ]
    },
    {
      "cell_type": "code",
      "source": [
        "titanic_dataset.describe()"
      ],
      "metadata": {
        "colab": {
          "base_uri": "https://localhost:8080/",
          "height": 300
        },
        "id": "sQk6vS1dqdlh",
        "outputId": "d2d79837-dd98-4b2a-c084-68970c2758f9"
      },
      "execution_count": null,
      "outputs": [
        {
          "output_type": "execute_result",
          "data": {
            "text/plain": [
              "         Survived      Pclass         Age       SibSp       Parch        Fare  \\\n",
              "count  712.000000  712.000000  712.000000  712.000000  712.000000  712.000000   \n",
              "mean     0.404494    2.240169   29.642093    0.514045    0.432584   34.567251   \n",
              "std      0.491139    0.836854   14.492933    0.930692    0.854181   52.938648   \n",
              "min      0.000000    1.000000    0.420000    0.000000    0.000000    0.000000   \n",
              "25%      0.000000    1.000000   20.000000    0.000000    0.000000    8.050000   \n",
              "50%      0.000000    2.000000   28.000000    0.000000    0.000000   15.645850   \n",
              "75%      1.000000    3.000000   38.000000    1.000000    1.000000   33.000000   \n",
              "max      1.000000    3.000000   80.000000    5.000000    6.000000  512.329200   \n",
              "\n",
              "         Sex_male  \n",
              "count  712.000000  \n",
              "mean     0.636236  \n",
              "std      0.481420  \n",
              "min      0.000000  \n",
              "25%      0.000000  \n",
              "50%      1.000000  \n",
              "75%      1.000000  \n",
              "max      1.000000  "
            ],
            "text/html": [
              "\n",
              "  <div id=\"df-3efc1dbc-6e59-4104-a84b-fdfe913359d4\" class=\"colab-df-container\">\n",
              "    <div>\n",
              "<style scoped>\n",
              "    .dataframe tbody tr th:only-of-type {\n",
              "        vertical-align: middle;\n",
              "    }\n",
              "\n",
              "    .dataframe tbody tr th {\n",
              "        vertical-align: top;\n",
              "    }\n",
              "\n",
              "    .dataframe thead th {\n",
              "        text-align: right;\n",
              "    }\n",
              "</style>\n",
              "<table border=\"1\" class=\"dataframe\">\n",
              "  <thead>\n",
              "    <tr style=\"text-align: right;\">\n",
              "      <th></th>\n",
              "      <th>Survived</th>\n",
              "      <th>Pclass</th>\n",
              "      <th>Age</th>\n",
              "      <th>SibSp</th>\n",
              "      <th>Parch</th>\n",
              "      <th>Fare</th>\n",
              "      <th>Sex_male</th>\n",
              "    </tr>\n",
              "  </thead>\n",
              "  <tbody>\n",
              "    <tr>\n",
              "      <th>count</th>\n",
              "      <td>712.000000</td>\n",
              "      <td>712.000000</td>\n",
              "      <td>712.000000</td>\n",
              "      <td>712.000000</td>\n",
              "      <td>712.000000</td>\n",
              "      <td>712.000000</td>\n",
              "      <td>712.000000</td>\n",
              "    </tr>\n",
              "    <tr>\n",
              "      <th>mean</th>\n",
              "      <td>0.404494</td>\n",
              "      <td>2.240169</td>\n",
              "      <td>29.642093</td>\n",
              "      <td>0.514045</td>\n",
              "      <td>0.432584</td>\n",
              "      <td>34.567251</td>\n",
              "      <td>0.636236</td>\n",
              "    </tr>\n",
              "    <tr>\n",
              "      <th>std</th>\n",
              "      <td>0.491139</td>\n",
              "      <td>0.836854</td>\n",
              "      <td>14.492933</td>\n",
              "      <td>0.930692</td>\n",
              "      <td>0.854181</td>\n",
              "      <td>52.938648</td>\n",
              "      <td>0.481420</td>\n",
              "    </tr>\n",
              "    <tr>\n",
              "      <th>min</th>\n",
              "      <td>0.000000</td>\n",
              "      <td>1.000000</td>\n",
              "      <td>0.420000</td>\n",
              "      <td>0.000000</td>\n",
              "      <td>0.000000</td>\n",
              "      <td>0.000000</td>\n",
              "      <td>0.000000</td>\n",
              "    </tr>\n",
              "    <tr>\n",
              "      <th>25%</th>\n",
              "      <td>0.000000</td>\n",
              "      <td>1.000000</td>\n",
              "      <td>20.000000</td>\n",
              "      <td>0.000000</td>\n",
              "      <td>0.000000</td>\n",
              "      <td>8.050000</td>\n",
              "      <td>0.000000</td>\n",
              "    </tr>\n",
              "    <tr>\n",
              "      <th>50%</th>\n",
              "      <td>0.000000</td>\n",
              "      <td>2.000000</td>\n",
              "      <td>28.000000</td>\n",
              "      <td>0.000000</td>\n",
              "      <td>0.000000</td>\n",
              "      <td>15.645850</td>\n",
              "      <td>1.000000</td>\n",
              "    </tr>\n",
              "    <tr>\n",
              "      <th>75%</th>\n",
              "      <td>1.000000</td>\n",
              "      <td>3.000000</td>\n",
              "      <td>38.000000</td>\n",
              "      <td>1.000000</td>\n",
              "      <td>1.000000</td>\n",
              "      <td>33.000000</td>\n",
              "      <td>1.000000</td>\n",
              "    </tr>\n",
              "    <tr>\n",
              "      <th>max</th>\n",
              "      <td>1.000000</td>\n",
              "      <td>3.000000</td>\n",
              "      <td>80.000000</td>\n",
              "      <td>5.000000</td>\n",
              "      <td>6.000000</td>\n",
              "      <td>512.329200</td>\n",
              "      <td>1.000000</td>\n",
              "    </tr>\n",
              "  </tbody>\n",
              "</table>\n",
              "</div>\n",
              "    <div class=\"colab-df-buttons\">\n",
              "\n",
              "  <div class=\"colab-df-container\">\n",
              "    <button class=\"colab-df-convert\" onclick=\"convertToInteractive('df-3efc1dbc-6e59-4104-a84b-fdfe913359d4')\"\n",
              "            title=\"Convert this dataframe to an interactive table.\"\n",
              "            style=\"display:none;\">\n",
              "\n",
              "  <svg xmlns=\"http://www.w3.org/2000/svg\" height=\"24px\" viewBox=\"0 -960 960 960\">\n",
              "    <path d=\"M120-120v-720h720v720H120Zm60-500h600v-160H180v160Zm220 220h160v-160H400v160Zm0 220h160v-160H400v160ZM180-400h160v-160H180v160Zm440 0h160v-160H620v160ZM180-180h160v-160H180v160Zm440 0h160v-160H620v160Z\"/>\n",
              "  </svg>\n",
              "    </button>\n",
              "\n",
              "  <style>\n",
              "    .colab-df-container {\n",
              "      display:flex;\n",
              "      gap: 12px;\n",
              "    }\n",
              "\n",
              "    .colab-df-convert {\n",
              "      background-color: #E8F0FE;\n",
              "      border: none;\n",
              "      border-radius: 50%;\n",
              "      cursor: pointer;\n",
              "      display: none;\n",
              "      fill: #1967D2;\n",
              "      height: 32px;\n",
              "      padding: 0 0 0 0;\n",
              "      width: 32px;\n",
              "    }\n",
              "\n",
              "    .colab-df-convert:hover {\n",
              "      background-color: #E2EBFA;\n",
              "      box-shadow: 0px 1px 2px rgba(60, 64, 67, 0.3), 0px 1px 3px 1px rgba(60, 64, 67, 0.15);\n",
              "      fill: #174EA6;\n",
              "    }\n",
              "\n",
              "    .colab-df-buttons div {\n",
              "      margin-bottom: 4px;\n",
              "    }\n",
              "\n",
              "    [theme=dark] .colab-df-convert {\n",
              "      background-color: #3B4455;\n",
              "      fill: #D2E3FC;\n",
              "    }\n",
              "\n",
              "    [theme=dark] .colab-df-convert:hover {\n",
              "      background-color: #434B5C;\n",
              "      box-shadow: 0px 1px 3px 1px rgba(0, 0, 0, 0.15);\n",
              "      filter: drop-shadow(0px 1px 2px rgba(0, 0, 0, 0.3));\n",
              "      fill: #FFFFFF;\n",
              "    }\n",
              "  </style>\n",
              "\n",
              "    <script>\n",
              "      const buttonEl =\n",
              "        document.querySelector('#df-3efc1dbc-6e59-4104-a84b-fdfe913359d4 button.colab-df-convert');\n",
              "      buttonEl.style.display =\n",
              "        google.colab.kernel.accessAllowed ? 'block' : 'none';\n",
              "\n",
              "      async function convertToInteractive(key) {\n",
              "        const element = document.querySelector('#df-3efc1dbc-6e59-4104-a84b-fdfe913359d4');\n",
              "        const dataTable =\n",
              "          await google.colab.kernel.invokeFunction('convertToInteractive',\n",
              "                                                    [key], {});\n",
              "        if (!dataTable) return;\n",
              "\n",
              "        const docLinkHtml = 'Like what you see? Visit the ' +\n",
              "          '<a target=\"_blank\" href=https://colab.research.google.com/notebooks/data_table.ipynb>data table notebook</a>'\n",
              "          + ' to learn more about interactive tables.';\n",
              "        element.innerHTML = '';\n",
              "        dataTable['output_type'] = 'display_data';\n",
              "        await google.colab.output.renderOutput(dataTable, element);\n",
              "        const docLink = document.createElement('div');\n",
              "        docLink.innerHTML = docLinkHtml;\n",
              "        element.appendChild(docLink);\n",
              "      }\n",
              "    </script>\n",
              "  </div>\n",
              "\n",
              "\n",
              "<div id=\"df-4315b551-41c4-4578-ae9c-7ff74046241d\">\n",
              "  <button class=\"colab-df-quickchart\" onclick=\"quickchart('df-4315b551-41c4-4578-ae9c-7ff74046241d')\"\n",
              "            title=\"Suggest charts\"\n",
              "            style=\"display:none;\">\n",
              "\n",
              "<svg xmlns=\"http://www.w3.org/2000/svg\" height=\"24px\"viewBox=\"0 0 24 24\"\n",
              "     width=\"24px\">\n",
              "    <g>\n",
              "        <path d=\"M19 3H5c-1.1 0-2 .9-2 2v14c0 1.1.9 2 2 2h14c1.1 0 2-.9 2-2V5c0-1.1-.9-2-2-2zM9 17H7v-7h2v7zm4 0h-2V7h2v10zm4 0h-2v-4h2v4z\"/>\n",
              "    </g>\n",
              "</svg>\n",
              "  </button>\n",
              "\n",
              "<style>\n",
              "  .colab-df-quickchart {\n",
              "      --bg-color: #E8F0FE;\n",
              "      --fill-color: #1967D2;\n",
              "      --hover-bg-color: #E2EBFA;\n",
              "      --hover-fill-color: #174EA6;\n",
              "      --disabled-fill-color: #AAA;\n",
              "      --disabled-bg-color: #DDD;\n",
              "  }\n",
              "\n",
              "  [theme=dark] .colab-df-quickchart {\n",
              "      --bg-color: #3B4455;\n",
              "      --fill-color: #D2E3FC;\n",
              "      --hover-bg-color: #434B5C;\n",
              "      --hover-fill-color: #FFFFFF;\n",
              "      --disabled-bg-color: #3B4455;\n",
              "      --disabled-fill-color: #666;\n",
              "  }\n",
              "\n",
              "  .colab-df-quickchart {\n",
              "    background-color: var(--bg-color);\n",
              "    border: none;\n",
              "    border-radius: 50%;\n",
              "    cursor: pointer;\n",
              "    display: none;\n",
              "    fill: var(--fill-color);\n",
              "    height: 32px;\n",
              "    padding: 0;\n",
              "    width: 32px;\n",
              "  }\n",
              "\n",
              "  .colab-df-quickchart:hover {\n",
              "    background-color: var(--hover-bg-color);\n",
              "    box-shadow: 0 1px 2px rgba(60, 64, 67, 0.3), 0 1px 3px 1px rgba(60, 64, 67, 0.15);\n",
              "    fill: var(--button-hover-fill-color);\n",
              "  }\n",
              "\n",
              "  .colab-df-quickchart-complete:disabled,\n",
              "  .colab-df-quickchart-complete:disabled:hover {\n",
              "    background-color: var(--disabled-bg-color);\n",
              "    fill: var(--disabled-fill-color);\n",
              "    box-shadow: none;\n",
              "  }\n",
              "\n",
              "  .colab-df-spinner {\n",
              "    border: 2px solid var(--fill-color);\n",
              "    border-color: transparent;\n",
              "    border-bottom-color: var(--fill-color);\n",
              "    animation:\n",
              "      spin 1s steps(1) infinite;\n",
              "  }\n",
              "\n",
              "  @keyframes spin {\n",
              "    0% {\n",
              "      border-color: transparent;\n",
              "      border-bottom-color: var(--fill-color);\n",
              "      border-left-color: var(--fill-color);\n",
              "    }\n",
              "    20% {\n",
              "      border-color: transparent;\n",
              "      border-left-color: var(--fill-color);\n",
              "      border-top-color: var(--fill-color);\n",
              "    }\n",
              "    30% {\n",
              "      border-color: transparent;\n",
              "      border-left-color: var(--fill-color);\n",
              "      border-top-color: var(--fill-color);\n",
              "      border-right-color: var(--fill-color);\n",
              "    }\n",
              "    40% {\n",
              "      border-color: transparent;\n",
              "      border-right-color: var(--fill-color);\n",
              "      border-top-color: var(--fill-color);\n",
              "    }\n",
              "    60% {\n",
              "      border-color: transparent;\n",
              "      border-right-color: var(--fill-color);\n",
              "    }\n",
              "    80% {\n",
              "      border-color: transparent;\n",
              "      border-right-color: var(--fill-color);\n",
              "      border-bottom-color: var(--fill-color);\n",
              "    }\n",
              "    90% {\n",
              "      border-color: transparent;\n",
              "      border-bottom-color: var(--fill-color);\n",
              "    }\n",
              "  }\n",
              "</style>\n",
              "\n",
              "  <script>\n",
              "    async function quickchart(key) {\n",
              "      const quickchartButtonEl =\n",
              "        document.querySelector('#' + key + ' button');\n",
              "      quickchartButtonEl.disabled = true;  // To prevent multiple clicks.\n",
              "      quickchartButtonEl.classList.add('colab-df-spinner');\n",
              "      try {\n",
              "        const charts = await google.colab.kernel.invokeFunction(\n",
              "            'suggestCharts', [key], {});\n",
              "      } catch (error) {\n",
              "        console.error('Error during call to suggestCharts:', error);\n",
              "      }\n",
              "      quickchartButtonEl.classList.remove('colab-df-spinner');\n",
              "      quickchartButtonEl.classList.add('colab-df-quickchart-complete');\n",
              "    }\n",
              "    (() => {\n",
              "      let quickchartButtonEl =\n",
              "        document.querySelector('#df-4315b551-41c4-4578-ae9c-7ff74046241d button');\n",
              "      quickchartButtonEl.style.display =\n",
              "        google.colab.kernel.accessAllowed ? 'block' : 'none';\n",
              "    })();\n",
              "  </script>\n",
              "</div>\n",
              "\n",
              "    </div>\n",
              "  </div>\n"
            ],
            "application/vnd.google.colaboratory.intrinsic+json": {
              "type": "dataframe",
              "summary": "{\n  \"name\": \"titanic_dataset\",\n  \"rows\": 8,\n  \"fields\": [\n    {\n      \"column\": \"Survived\",\n      \"properties\": {\n        \"dtype\": \"number\",\n        \"std\": 251.584105225274,\n        \"min\": 0.0,\n        \"max\": 712.0,\n        \"num_unique_values\": 5,\n        \"samples\": [\n          0.4044943820224719,\n          1.0,\n          0.4911389472541192\n        ],\n        \"semantic_type\": \"\",\n        \"description\": \"\"\n      }\n    },\n    {\n      \"column\": \"Pclass\",\n      \"properties\": {\n        \"dtype\": \"number\",\n        \"std\": 251.07102937672383,\n        \"min\": 0.8368543166903479,\n        \"max\": 712.0,\n        \"num_unique_values\": 6,\n        \"samples\": [\n          712.0,\n          2.240168539325843,\n          3.0\n        ],\n        \"semantic_type\": \"\",\n        \"description\": \"\"\n      }\n    },\n    {\n      \"column\": \"Age\",\n      \"properties\": {\n        \"dtype\": \"number\",\n        \"std\": 242.213720048082,\n        \"min\": 0.42,\n        \"max\": 712.0,\n        \"num_unique_values\": 8,\n        \"samples\": [\n          29.64209269662921,\n          28.0,\n          712.0\n        ],\n        \"semantic_type\": \"\",\n        \"description\": \"\"\n      }\n    },\n    {\n      \"column\": \"SibSp\",\n      \"properties\": {\n        \"dtype\": \"number\",\n        \"std\": 251.35945781112477,\n        \"min\": 0.0,\n        \"max\": 712.0,\n        \"num_unique_values\": 6,\n        \"samples\": [\n          712.0,\n          0.5140449438202247,\n          5.0\n        ],\n        \"semantic_type\": \"\",\n        \"description\": \"\"\n      }\n    },\n    {\n      \"column\": \"Parch\",\n      \"properties\": {\n        \"dtype\": \"number\",\n        \"std\": 251.31945767630862,\n        \"min\": 0.0,\n        \"max\": 712.0,\n        \"num_unique_values\": 6,\n        \"samples\": [\n          712.0,\n          0.43258426966292135,\n          6.0\n        ],\n        \"semantic_type\": \"\",\n        \"description\": \"\"\n      }\n    },\n    {\n      \"column\": \"Fare\",\n      \"properties\": {\n        \"dtype\": \"number\",\n        \"std\": 277.9289682225015,\n        \"min\": 0.0,\n        \"max\": 712.0,\n        \"num_unique_values\": 8,\n        \"samples\": [\n          34.567251404494385,\n          15.64585,\n          712.0\n        ],\n        \"semantic_type\": \"\",\n        \"description\": \"\"\n      }\n    },\n    {\n      \"column\": \"Sex_male\",\n      \"properties\": {\n        \"dtype\": \"number\",\n        \"std\": 251.52238594031792,\n        \"min\": 0.0,\n        \"max\": 712.0,\n        \"num_unique_values\": 5,\n        \"samples\": [\n          0.6362359550561798,\n          1.0,\n          0.48142006354143724\n        ],\n        \"semantic_type\": \"\",\n        \"description\": \"\"\n      }\n    }\n  ]\n}"
            }
          },
          "metadata": {},
          "execution_count": 21
        }
      ]
    },
    {
      "cell_type": "markdown",
      "source": [
        "### One Hot Encoding for Label Vector"
      ],
      "metadata": {
        "id": "oKbiWDRP5c5X"
      }
    },
    {
      "cell_type": "code",
      "source": [
        "X = titanic_dataset.drop(columns=['Embarked'])\n",
        "y = titanic_dataset['Embarked']\n",
        "encoder = OneHotEncoder(sparse_output=False)\n",
        "y_onehot = encoder.fit_transform(y.to_numpy().reshape(-1,1))"
      ],
      "metadata": {
        "id": "HZrs_lZg5imr"
      },
      "execution_count": null,
      "outputs": []
    },
    {
      "cell_type": "markdown",
      "source": [
        "###Train Test Split and Standard Scaling of the Data:"
      ],
      "metadata": {
        "id": "ckDKDYXf1pNy"
      }
    },
    {
      "cell_type": "code",
      "source": [
        "# Split data into train and test sets\n",
        "X_train, X_test, y_train, y_test = train_test_split(X, y_onehot, test_size=0.2, random_state=42, stratify=y)\n",
        "\n",
        "# Initialize the scaler and scale the data\n",
        "scaler = StandardScaler()\n",
        "\n",
        "X_train_scaled = scaler.fit_transform(X_train)\n",
        "X_test_scaled = scaler.transform(X_test)\n",
        "\n",
        "# Assertions to check the shape of X_train_scaled and X_test_scaled\n",
        "assert X_train_scaled.shape == (X_train.shape[0], X_train.shape[1]), f\"X_train_scaled shape mismatch: {X_train_scaled.shape}\"\n",
        "assert X_test_scaled.shape == (X_test.shape[0], X_test.shape[1]), f\"X_test_scaled shape mismatch: {X_test_scaled.shape}\"\n",
        "\n",
        "print(\"Shape assertions passed!\")"
      ],
      "metadata": {
        "colab": {
          "base_uri": "https://localhost:8080/"
        },
        "id": "F6m-KR5z0igT",
        "outputId": "a41e11b3-538b-40b1-960d-70bd0e4d4a8e"
      },
      "execution_count": null,
      "outputs": [
        {
          "output_type": "stream",
          "name": "stdout",
          "text": [
            "Shape assertions passed!\n"
          ]
        }
      ]
    },
    {
      "cell_type": "markdown",
      "source": [
        "### Training of the Softmax Regression:"
      ],
      "metadata": {
        "id": "Ix6kMY1E1sC6"
      }
    },
    {
      "cell_type": "code",
      "source": [
        "# Intitalizations:\n",
        "num_classes = y_train.shape[1]\n",
        "num_features = X_train_scaled.shape[1]\n",
        "W = np.zeros((num_features, num_classes))\n",
        "b = np.zeros(num_classes)\n",
        "alpha = 0.1\n",
        "n_iter = 1000\n",
        "\n",
        "print(\"\\nTraining Softmax Regression Model:\")\n",
        "W, b, cost_history = gradient_descent_softmax(X_train_scaled, y_train, W, b, alpha, n_iter, show_cost=True)\n",
        "\n",
        "#Plot Cost Vs. Iterations:\n",
        "plt.figure(figsize=(9, 6))\n",
        "plt.plot(cost_history)\n",
        "plt.xlabel(\"Iteration\", fontsize=14)\n",
        "plt.ylabel(\"Cost\", fontsize=14)\n",
        "plt.title(\"Cost vs Iteration\", fontsize=14)\n",
        "plt.tight_layout()\n",
        "plt.show()"
      ],
      "metadata": {
        "colab": {
          "base_uri": "https://localhost:8080/",
          "height": 833
        },
        "id": "sr4EKRlR1Pu8",
        "outputId": "ff47ab0c-cdb2-4aa7-cfc2-72cc5d313ebc"
      },
      "execution_count": null,
      "outputs": [
        {
          "output_type": "stream",
          "name": "stdout",
          "text": [
            "\n",
            "Training Softmax Regression Model:\n",
            "Iteration 0: Cost = 1.063144\n",
            "Iteration 100: Cost = 0.588803\n",
            "Iteration 200: Cost = 0.577105\n",
            "Iteration 300: Cost = 0.573599\n",
            "Iteration 400: Cost = 0.572011\n",
            "Iteration 500: Cost = 0.571151\n",
            "Iteration 600: Cost = 0.570632\n",
            "Iteration 700: Cost = 0.570299\n",
            "Iteration 800: Cost = 0.570074\n",
            "Iteration 900: Cost = 0.569917\n",
            "Iteration 999: Cost = 0.569805\n"
          ]
        },
        {
          "output_type": "display_data",
          "data": {
            "text/plain": [
              "<Figure size 900x600 with 1 Axes>"
            ],
            "image/png": "[encoded data removed]"
          },
          "metadata": {}
        }
      ]
    },
    {
      "cell_type": "markdown",
      "source": [
        "### Did the Model Overfitt or Underfitt?"
      ],
      "metadata": {
        "id": "d69kPvWZ1yg9"
      }
    },
    {
      "cell_type": "code",
      "source": [
        "# Test model\n",
        "y_train_pred = predict_softmax(X_train_scaled, W, b)\n",
        "y_test_pred = predict_softmax(X_test_scaled, W, b)\n",
        "\n",
        "# Convert actual y test to 1D array\n",
        "y_test_true = np.argmax(y_test, axis=1)\n",
        "\n",
        "# Evaluate train and test performance\n",
        "train_cost = cost_softmax(X_train_scaled, y_train, W, b)\n",
        "test_cost = cost_softmax(X_test_scaled, y_test, W, b)\n",
        "\n",
        "print(f\"\\nTrain Loss (Cost): {train_cost:.4f}\")\n",
        "print(f\"Test Loss (Cost): {test_cost:.4f}\")"
      ],
      "metadata": {
        "colab": {
          "base_uri": "https://localhost:8080/"
        },
        "id": "NRrxN4DB10hY",
        "outputId": "432931d2-c045-4f62-fdf0-3b94513f7a03"
      },
      "execution_count": null,
      "outputs": [
        {
          "output_type": "stream",
          "name": "stdout",
          "text": [
            "\n",
            "Train Loss (Cost): 0.5698\n",
            "Test Loss (Cost): 0.5609\n"
          ]
        }
      ]
    },
    {
      "cell_type": "code",
      "source": [
        "print(\"Shape of X_test_scaled:\", X_test_scaled.shape)\n",
        "print(\"Shape of W:\", W.shape)\n",
        "print(y_test_pred.shape)\n",
        "print(y_test_true.shape)"
      ],
      "metadata": {
        "colab": {
          "base_uri": "https://localhost:8080/"
        },
        "id": "4_Ani49oDQm2",
        "outputId": "26f3a1de-bf7c-4735-a287-a1f3b593c992"
      },
      "execution_count": null,
      "outputs": [
        {
          "output_type": "stream",
          "name": "stdout",
          "text": [
            "Shape of X_test_scaled: (143, 7)\n",
            "Shape of W: (7, 3)\n",
            "(143,)\n",
            "(143,)\n"
          ]
        }
      ]
    },
    {
      "cell_type": "markdown",
      "source": [
        "### How well my model did?"
      ],
      "metadata": {
        "id": "N0ZN0p5c14jG"
      }
    },
    {
      "cell_type": "code",
      "source": [
        "# Accuracy on test data\n",
        "test_accuracy = np.mean(y_test_pred == y_test_true) * 100\n",
        "print(f\"\\nTest Accuracy: {test_accuracy:.2f}%\")\n",
        "\n",
        "# Evaluation\n",
        "cm, precision, recall, f1 = evaluate_classification(y_test_true, y_test_pred)\n",
        "\n",
        "print(\"\\nConfusion Matrix:\")\n",
        "print(cm)\n",
        "print(f\"Precision: {precision:.2f}\")\n",
        "print(f\"Recall: {recall:.2f}\")\n",
        "print(f\"F1-Score: {f1:.2f}\")\n",
        "\n",
        "# Visualizing Confusion Matrix\n",
        "# Visualization\n",
        "fig, ax = plt.subplots(figsize=(6, 6))\n",
        "ax.imshow(cm, cmap='Blues') # Use a color map for better visualization\n",
        "\n",
        "# Set tick labels for the axes\n",
        "ax.set_xticks(range(3))\n",
        "ax.set_yticks(range(3))\n",
        "ax.set_xticklabels(['Predicted 0', 'Predicted 1', 'Predicted 2'])\n",
        "ax.set_yticklabels(['Actual 0', 'Actual 1', 'Actual 2'])\n",
        "\n",
        "# Add labels to each cell in the confusion matrix\n",
        "for i in range(cm.shape[0]):\n",
        "  for j in range(cm.shape[1]):\n",
        "    ax.text(j, i, cm[i, j], ha='center', va='center', color='white' if cm[i, j] > np.max(cm) / 2 else'black')\n",
        "\n",
        "# Add grid lines and axis labels\n",
        "ax.grid(False)\n",
        "plt.title('Confusion Matrix', fontsize=14)\n",
        "plt.xlabel('Predicted Label', fontsize=12)\n",
        "plt.ylabel('Actual Label', fontsize=12)\n",
        "plt.tight_layout()\n",
        "plt.show()"
      ],
      "metadata": {
        "colab": {
          "base_uri": "https://localhost:8080/",
          "height": 762
        },
        "id": "6Kn83w3J116x",
        "outputId": "80ec1705-0ec5-41e0-e9d4-7f295bd192bf"
      },
      "execution_count": null,
      "outputs": [
        {
          "output_type": "stream",
          "name": "stdout",
          "text": [
            "\n",
            "Test Accuracy: 75.52%\n",
            "\n",
            "Confusion Matrix:\n",
            "[[  2   0  24]\n",
            " [  0   0   6]\n",
            " [  5   0 106]]\n",
            "Precision: 0.66\n",
            "Recall: 0.76\n",
            "F1-Score: 0.69\n"
          ]
        },
        {
          "output_type": "display_data",
          "data": {
            "text/plain": [
              "<Figure size 600x600 with 1 Axes>"
            ],
            "image/png": "[encoded data removed]"
          },
          "metadata": {}
        }
      ]
    }
  ]
}