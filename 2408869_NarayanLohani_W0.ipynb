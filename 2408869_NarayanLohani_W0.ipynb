{
 "cells": [
  {
   "cell_type": "markdown",
   "metadata": {},
   "source": [
    "# 5CS037 - Concepts and Technologies of AI.\n",
    "\n",
    "Worksheet - 0: Python Essentials for Machine Learning."
   ]
  },
  {
   "cell_type": "markdown",
   "metadata": {},
   "source": [
    "# 2.1 About a Python"
   ]
  },
  {
   "cell_type": "code",
   "execution_count": 2,
   "metadata": {},
   "outputs": [
    {
     "name": "stdout",
     "output_type": "stream",
     "text": [
      "Python version Check : 3.13.0 (tags/v3.13.0:60403a5, Oct  7 2024, 09:38:07) [MSC v.1941 64 bit (AMD64)]>=3.6? -Passed\n"
     ]
    }
   ],
   "source": [
    "import sys\n",
    "if sys.version_info.major == 3 and sys.version_info.minor >=6 :\n",
    "    print(f'Python version Check : {sys.version}>=3.6? -Passed')\n",
    "else:\n",
    "    print(f'Python version Check : {sys.version}>=3.6? -Failed')"
   ]
  },
  {
   "cell_type": "markdown",
   "metadata": {},
   "source": [
    "# 3 Data Types"
   ]
  },
  {
   "cell_type": "markdown",
   "metadata": {},
   "source": [
    "# 3.1 Numeric"
   ]
  },
  {
   "cell_type": "code",
   "execution_count": 3,
   "metadata": {},
   "outputs": [
    {
     "name": "stdout",
     "output_type": "stream",
     "text": [
      "data type of variable age = <class 'int'>\n",
      "data type of variable height = <class 'float'>\n"
     ]
    }
   ],
   "source": [
    "age = 16\n",
    "height = 4.10\n",
    "print(f'data type of variable age = {type(age)}')\n",
    "print(f'data type of variable height = {type(height)}')\n"
   ]
  },
  {
   "cell_type": "markdown",
   "metadata": {},
   "source": [
    "# 3.2 Sequence"
   ]
  },
  {
   "cell_type": "code",
   "execution_count": 4,
   "metadata": {},
   "outputs": [
    {
     "name": "stdout",
     "output_type": "stream",
     "text": [
      "<class 'str'> <class 'str'> <class 'str'>\n",
      "K U\n",
      "Beni\n",
      "Biraki\n"
     ]
    }
   ],
   "source": [
    "# Strings\n",
    "name = 'Kisuke Urahara'\n",
    "shikai = 'Benihime'\n",
    "bankai = 'Kanon-Biraki Benihime Aratame'\n",
    "print(type(name), type(shikai), type(bankai))\n",
    "print(name[0], name[7] )\n",
    "print(shikai[:4])\n",
    "print(bankai[6:12])"
   ]
  },
  {
   "cell_type": "code",
   "execution_count": 5,
   "metadata": {},
   "outputs": [
    {
     "name": "stdout",
     "output_type": "stream",
     "text": [
      "Shunsui Kyoraku\n",
      "2\n",
      "['Kuchiki Byakuya', 6, 'Hitusugaya Toshiro', 10, True]\n",
      "[11, 6, 1, 12, 8, 10]\n"
     ]
    }
   ],
   "source": [
    "# List\n",
    "head_captains = ['Yamamoto Genryusai', 'Shunsui Kyoraku']\n",
    "best_squad_rank = [11, 6, 1, 2, 8, 10]\n",
    "squad_captain_rank = ['Kuchiki Byakuya', 6, 'Hitusugaya Toshiro', 10, True]\n",
    "\n",
    "print(head_captains[1])\n",
    "print(best_squad_rank[3])\n",
    "print(squad_captain_rank)\n",
    "\n",
    "best_squad_rank[3] = 12\n",
    "print(best_squad_rank)"
   ]
  },
  {
   "cell_type": "code",
   "execution_count": 7,
   "metadata": {},
   "outputs": [
    {
     "name": "stdout",
     "output_type": "stream",
     "text": [
      "First members : Shinji\n",
      "Last two members : ('Rojuro', 'Love')\n"
     ]
    }
   ],
   "source": [
    "# Tuple\n",
    "visoreds = ('Shinji', 'Hiyori', 'Hachigen', 'Mashiro', 'Lisa', 'Kensei', 'Rojuro', 'Love')\n",
    "print(f'First members : {visoreds[0]}')\n",
    "print(f'Last two members : {visoreds[6:]}')\n",
    "\n",
    "# visoreds[0] = 'Isshin Kurosaki' # error because tuple is immutable\n"
   ]
  },
  {
   "cell_type": "markdown",
   "metadata": {},
   "source": [
    "# 3.3 Mapping"
   ]
  },
  {
   "cell_type": "code",
   "execution_count": null,
   "metadata": {},
   "outputs": [
    {
     "name": "stdout",
     "output_type": "stream",
     "text": [
      "dict_keys(['Captain', 'Lieutenant', 'Third Seat'])\n",
      "dict_values(['Kisuke Urahara', 'Hiyori Sarugaki', 'Mayuri Kurotsuchu'])\n",
      "In former Squad 12 captain was Kisuke Urahara, lieutenant was Hiyori Sarugaki, and Research Department Vice Chief was Mayuri Kurotsuchu\n"
     ]
    }
   ],
   "source": [
    "# Dictionary\n",
    "old_squad_12_members = {'Captain' : 'Kisuke Urahara', 'Lieutenant' : 'Hiyori Sarugaki', 'Third Seat' : 'Mayuri Kurotsuchi'}\n",
    "print(old_squad_12_members.keys())\n",
    "print(old_squad_12_members.values())\n",
    "print(f'In former Squad 12 captain was {old_squad_12_members['Captain']}, lieutenant was {old_squad_12_members['Lieutenant']}, and Research Department Vice Chief was {old_squad_12_members['Third Seat']}')"
   ]
  },
  {
   "cell_type": "markdown",
   "metadata": {},
   "source": [
    "# 3.4 Sets"
   ]
  },
  {
   "cell_type": "code",
   "execution_count": null,
   "metadata": {},
   "outputs": [
    {
     "name": "stdout",
     "output_type": "stream",
     "text": [
      "{1, 2, 6, 8, 12}\n"
     ]
    }
   ],
   "source": [
    "# Unique items only\n",
    "unique_squad_ranks = {1,2, 12, 6, 6, 2 , 8}\n",
    "print(unique_squad_ranks)"
   ]
  },
  {
   "cell_type": "markdown",
   "metadata": {},
   "source": [
    "# 3.5 Boolean"
   ]
  },
  {
   "cell_type": "code",
   "execution_count": null,
   "metadata": {},
   "outputs": [
    {
     "name": "stdout",
     "output_type": "stream",
     "text": [
      "Kyoraku Shunsui\n"
     ]
    }
   ],
   "source": [
    "# True or False\n",
    "is_head_captain = True\n",
    "# has_cool_bankai = False\n",
    "has_cool_bankai = True\n",
    "\n",
    "if is_head_captain:\n",
    "    if has_cool_bankai:\n",
    "        print('Kyoraku Shunsui')\n",
    "    else:\n",
    "        print('Yamamoto Genryusai')"
   ]
  },
  {
   "cell_type": "markdown",
   "metadata": {},
   "source": [
    "# 3.6 Special - None"
   ]
  },
  {
   "cell_type": "code",
   "execution_count": null,
   "metadata": {},
   "outputs": [
    {
     "name": "stdout",
     "output_type": "stream",
     "text": [
      "None\n"
     ]
    }
   ],
   "source": [
    "uncool_captain = None\n",
    "print(uncool_captain)"
   ]
  },
  {
   "cell_type": "markdown",
   "metadata": {},
   "source": [
    "# 4.1 Logical Statements"
   ]
  },
  {
   "cell_type": "code",
   "execution_count": null,
   "metadata": {},
   "outputs": [
    {
     "name": "stdout",
     "output_type": "stream",
     "text": [
      "Eligible for driving? :  True\n"
     ]
    }
   ],
   "source": [
    "# Conditional Operators\n",
    "age = 18\n",
    "license = 'Eligible for driving? : '\n",
    "if age >  16:\n",
    "    result = True\n",
    "else:\n",
    "    result = False\n",
    "print(f'{license} {result}')"
   ]
  },
  {
   "cell_type": "code",
   "execution_count": null,
   "metadata": {},
   "outputs": [
    {
     "name": "stdout",
     "output_type": "stream",
     "text": [
      "same age marriage\n"
     ]
    }
   ],
   "source": [
    "# Comparision operators\n",
    "boy_age = 21\n",
    "girl_age = 21\n",
    "if boy_age >= 18 and girl_age >= 18:\n",
    "    if boy_age > girl_age:\n",
    "        print('Boy older marriage')\n",
    "    elif boy_age == girl_age:\n",
    "        print('same age marriage')\n",
    "    else:\n",
    "        print('girl older marriage')\n",
    "else:\n",
    "    print('Belove 18 is Underage Marriage.')"
   ]
  },
  {
   "cell_type": "code",
   "execution_count": null,
   "metadata": {},
   "outputs": [
    {
     "name": "stdout",
     "output_type": "stream",
     "text": [
      "Not Eligible for squad Captain\n",
      "Eligible for Squad Member\n",
      "Join Soul Academy\n"
     ]
    }
   ],
   "source": [
    "# Logical Operators\n",
    "has_shikai = True\n",
    "has_reiastsu = True\n",
    "has_bankai = False\n",
    "if has_shikai and has_bankai:\n",
    "    print('Eligible for Squad Captain')\n",
    "else:\n",
    "    print('Not Eligible for squad Captain')\n",
    "if has_bankai or has_shikai:\n",
    "    print('Eligible for Squad Member')\n",
    "else:\n",
    "    print('Not Eligible for squad Member')\n",
    "if not has_reiastsu:\n",
    "    print('Commoner')\n",
    "else:\n",
    "    print('Join Soul Academy')"
   ]
  },
  {
   "cell_type": "markdown",
   "metadata": {},
   "source": [
    "# 4.2 Loops"
   ]
  },
  {
   "cell_type": "code",
   "execution_count": 14,
   "metadata": {},
   "outputs": [
    {
     "name": "stdout",
     "output_type": "stream",
     "text": [
      "Shinji\n",
      "Hachigen\n",
      "Kensei\n",
      "Mashiro\n",
      "Lisa\n",
      "Hiyori\n",
      "Rojuro\n",
      "Love\n"
     ]
    }
   ],
   "source": [
    "# For LOOP \n",
    "visoreds = ('Shinji', 'Hachigen', 'Kensei', 'Mashiro', 'Lisa', 'Hiyori',  'Rojuro', 'Love')\n",
    "for member in visoreds:\n",
    "    print(member)"
   ]
  },
  {
   "cell_type": "code",
   "execution_count": 13,
   "metadata": {},
   "outputs": [
    {
     "name": "stdout",
     "output_type": "stream",
     "text": [
      "Count is 10\n",
      "Count is 11\n",
      "Count is 12\n"
     ]
    }
   ],
   "source": [
    "# While LOOP\n",
    "count = 10\n",
    "while count <13:\n",
    "    print(f'Count is {count}')\n",
    "    count += 1"
   ]
  },
  {
   "cell_type": "code",
   "execution_count": 12,
   "metadata": {},
   "outputs": [
    {
     "name": "stdout",
     "output_type": "stream",
     "text": [
      "Male Visored : Shinji\n",
      "Male Visored : Hachigen\n",
      "Male Visored : Kensei\n",
      "Female Visored encountered : Mashiro\n"
     ]
    }
   ],
   "source": [
    "# BREAK\n",
    "for member in visoreds:\n",
    "    if member in ['Hiyori', 'Mashiro', 'Lisa']:\n",
    "        print(f'Female Visored encountered : {member}')\n",
    "        break\n",
    "    print(f'Male Visored : {member}')\n"
   ]
  },
  {
   "cell_type": "code",
   "execution_count": 11,
   "metadata": {},
   "outputs": [
    {
     "name": "stdout",
     "output_type": "stream",
     "text": [
      "All Male Visored members list :\n",
      "Male Visored : Shinji\n",
      "Male Visored : Hachigen\n",
      "Male Visored : Kensei\n",
      "Male Visored : Rojuro\n",
      "Male Visored : Love\n"
     ]
    }
   ],
   "source": [
    "# CONTINUE\n",
    "print('All Male Visored members list :')\n",
    "for member in visoreds:\n",
    "    if member in ['Hiyori', 'Mashiro', 'Lisa']:\n",
    "        continue\n",
    "    print(f'Male Visored : {member}')"
   ]
  },
  {
   "cell_type": "markdown",
   "metadata": {},
   "source": [
    "# 5. Functions"
   ]
  },
  {
   "cell_type": "code",
   "execution_count": 19,
   "metadata": {},
   "outputs": [
    {
     "name": "stdout",
     "output_type": "stream",
     "text": [
      "1000\n"
     ]
    }
   ],
   "source": [
    "# How to write a function\n",
    "def add_binary(a, b):\n",
    "    \"\"\"\n",
    "        Returns the sum of two decimal numbers in binary digits.\n",
    "        Parameters:\n",
    "            a (int): A decimal integer\n",
    "            b (int): Another decimal integer\n",
    "        Returns:\n",
    "            binary_sum (str): Binary string of the sum of a and b\n",
    "    \"\"\"\n",
    "    binary_sum = bin(a+b)[2:]\n",
    "    return binary_sum\n",
    "print(add_binary(5,3))"
   ]
  },
  {
   "cell_type": "code",
   "execution_count": null,
   "metadata": {},
   "outputs": [
    {
     "name": "stdout",
     "output_type": "stream",
     "text": [
      "print is a built in function to show output\n",
      "43\n",
      "<class 'str'>\n",
      "495\n"
     ]
    }
   ],
   "source": [
    "# Built-in Functions\n",
    "text = 'print is a built in function to show output'\n",
    "print(text)\n",
    "print(len(text))\n",
    "print(type(text))\n",
    "print(sum([11,22,33,44,55,66,77,88,99]))"
   ]
  },
  {
   "cell_type": "code",
   "execution_count": null,
   "metadata": {},
   "outputs": [
    {
     "name": "stdout",
     "output_type": "stream",
     "text": [
      "KUROTSUCHI\n",
      "['Zaraki', 'Kurotsuchi', 'Ukitake', 'Kuchiki']\n",
      "Senbonzakura Kageyoshi\n"
     ]
    }
   ],
   "source": [
    "# Build-in Methods\n",
    "bleachCaptains = [\"Zaraki\", \"Kurotsuchi\", \"Ukitake\"]\n",
    "print(bleachCaptains[1].upper())\n",
    "bleachCaptains.append('Kuchiki')\n",
    "print(bleachCaptains)\n",
    "bankai = {'Kuchiki': 'Senbonzakura Kageyoshi'}\n",
    "print(bankai.get('Kuchiki'))"
   ]
  },
  {
   "cell_type": "code",
   "execution_count": null,
   "metadata": {},
   "outputs": [
    {
     "name": "stdout",
     "output_type": "stream",
     "text": [
      "Unohana\n",
      "Hirako\n",
      "Zaraki\n",
      "Ukitake\n"
     ]
    }
   ],
   "source": [
    "# User-Defined Functions\n",
    "def get_squad_captain(squad_rank):\n",
    "    \"\"\" \n",
    "    Returns Squad Captain name of corresponding Rank\n",
    "    \n",
    "    Parameters:\n",
    "        squad_rank (int) : A decimal integrer from 1-13\n",
    "        \n",
    "    Returns:\n",
    "        squad_captain (str) : Squad Captain of the respective squad\n",
    "    \"\"\"\n",
    "    if squad_rank not in range(1,14):\n",
    "        raise ValueError('Invalid squad rank. Please provide squad rank from 1 to 13')\n",
    "    bleach_captains = { 1: \"Yamamoto\", 2: \"Soifon\", 3: \"Ōtoribashi\", 4: \"Unohana\", 5: \"Hirako\", 6: \"Kuchiki\", 7: \"Komamura\", 8: \"Kyōraku\", 9: \"Muguruma\", 10: \"Hitsugaya\", 11: \"Zaraki\", 12: \"Kurotsuchi\", 13: \"Ukitake\"}\n",
    "    return bleach_captains[squad_rank]\n",
    "\n",
    "print(get_squad_captain(4))\n",
    "print(get_squad_captain(5))\n",
    "print(get_squad_captain(11))\n",
    "print(get_squad_captain(13))"
   ]
  },
  {
   "cell_type": "markdown",
   "metadata": {},
   "source": [
    "# 5.5 Global and Local Variables"
   ]
  },
  {
   "cell_type": "code",
   "execution_count": null,
   "metadata": {},
   "outputs": [
    {
     "name": "stdout",
     "output_type": "stream",
     "text": [
      "10\n"
     ]
    }
   ],
   "source": [
    "# GLOBAL Variables\n",
    "x = 10\n",
    "def print_global():\n",
    "    print(x)\n",
    "print_global()"
   ]
  },
  {
   "cell_type": "code",
   "execution_count": null,
   "metadata": {},
   "outputs": [
    {
     "name": "stdout",
     "output_type": "stream",
     "text": [
      "5\n"
     ]
    }
   ],
   "source": [
    "# LOCAL Variables\n",
    "def print_local():\n",
    "    y = 5\n",
    "    print(y)\n",
    "print_local()\n",
    "# print(y) # Error because y is local variable cannot be accessed outside its scope"
   ]
  },
  {
   "cell_type": "code",
   "execution_count": null,
   "metadata": {},
   "outputs": [
    {
     "name": "stdout",
     "output_type": "stream",
     "text": [
      "20\n"
     ]
    }
   ],
   "source": [
    "# Accessing and Modifying Global variables in local scope\n",
    "x = 10\n",
    "def modify_global():\n",
    "    global x\n",
    "    x = 20\n",
    "modify_global()\n",
    "print(x)"
   ]
  },
  {
   "cell_type": "markdown",
   "metadata": {},
   "source": [
    "# 6 Exception and Error Handling"
   ]
  },
  {
   "cell_type": "code",
   "execution_count": null,
   "metadata": {},
   "outputs": [
    {
     "name": "stdout",
     "output_type": "stream",
     "text": [
      "Cannot divide by zero.\n"
     ]
    }
   ],
   "source": [
    "try:\n",
    "    num = int(input('Enter a number: '))\n",
    "    print('Result :', 10/num)\n",
    "except ZeroDivisionError:\n",
    "    print('Cannot divide by zero.')\n",
    "except ValueError:\n",
    "    print('Invalid input. Please enter a number.')"
   ]
  },
  {
   "cell_type": "code",
   "execution_count": null,
   "metadata": {},
   "outputs": [
    {
     "name": "stdout",
     "output_type": "stream",
     "text": [
      "You stupid!\n",
      "1\n"
     ]
    }
   ],
   "source": [
    "try:\n",
    "    num = int(input('Enter an even number: '))\n",
    "    if not num % 2 == 0:\n",
    "        raise ValueError\n",
    "except ValueError:\n",
    "    print('You stupid!')\n",
    "finally:\n",
    "    print(num % 2)"
   ]
  },
  {
   "cell_type": "code",
   "execution_count": null,
   "metadata": {},
   "outputs": [
    {
     "name": "stdout",
     "output_type": "stream",
     "text": [
      "Age cannot be negative\n"
     ]
    }
   ],
   "source": [
    "def check_age(age):\n",
    "    if age < 0:\n",
    "        raise ValueError('Age cannot be negative')\n",
    "    else:\n",
    "        print('Valid age')\n",
    "try:\n",
    "    check_age(-1)\n",
    "except ValueError as e:\n",
    "    print(e)"
   ]
  },
  {
   "cell_type": "markdown",
   "metadata": {},
   "source": [
    "# 7 TO - DO - Task"
   ]
  },
  {
   "cell_type": "code",
   "execution_count": null,
   "metadata": {},
   "outputs": [],
   "source": [
    "temperatures = [8.2, 17.4, 14.1, 7.9, 18.0, 13.5, 9.0, 17.8, 13.0, 8.5, 16.5, 12.9, 7.7, 17.2, 13.3, 8.4, 16.7, 14.0, 9.5, 18.3, 13.4, 8.1,\n",
    "17.9, 14.2, 7.6, 17.0, 12.8, 8.0, 16.8, 13.7, 7.8, 17.5, 13.6, 8.7, 17.1, 13.8, 9.2, 18.1, 13.9, 8.3, 16.4, 12.7, 8.9, 18.2, 13.1, 7.8,16.6, 12.5]"
   ]
  },
  {
   "cell_type": "markdown",
   "metadata": {},
   "source": [
    "Task 1. Classify Temperatures:\n",
    "1. Create empty lists for temperature classifications:\n",
    "(a) Cold: temperatures below 10°C.\n",
    "(b) Mild: temperatures between 10°C and 15°C.\n",
    "(c) Comfortable: temperatures between 15°C and 20°C.\n",
    "\n",
    "2. Iterate over the temperatures list and add each temperature to the appropriate category.\n",
    "\n",
    "3. Print the lists to verify the classifications."
   ]
  },
  {
   "cell_type": "code",
   "execution_count": null,
   "metadata": {},
   "outputs": [
    {
     "name": "stdout",
     "output_type": "stream",
     "text": [
      "Cold day Temperature list : [8.2, 7.9, 9.0, 8.5, 7.7, 8.4, 9.5, 8.1, 7.6, 8.0, 7.8, 8.7, 9.2, 8.3, 8.9, 7.8]\n",
      "Mild day Temperature list : [14.1, 13.5, 13.0, 12.9, 13.3, 14.0, 13.4, 14.2, 12.8, 13.7, 13.6, 13.8, 13.9, 12.7, 13.1, 12.5]\n",
      "Comfortable day Temperature list : [17.4, 18.0, 17.8, 16.5, 17.2, 16.7, 18.3, 17.9, 17.0, 16.8, 17.5, 17.1, 18.1, 16.4, 18.2, 16.6]\n"
     ]
    }
   ],
   "source": [
    "cold_days = []\n",
    "mild_days = []\n",
    "comfortable_days = []\n",
    "for measure in temperatures:\n",
    "    if measure < 10:\n",
    "        cold_days.append(measure)\n",
    "    elif measure < 15:\n",
    "        mild_days.append(measure)\n",
    "    else:\n",
    "        comfortable_days.append(measure)\n",
    "print(f'Cold day Temperature list : {cold_days}')\n",
    "print(f'Mild day Temperature list : {mild_days}')\n",
    "print(f'Comfortable day Temperature list : {comfortable_days}')"
   ]
  },
  {
   "cell_type": "markdown",
   "metadata": {},
   "source": [
    "Task 2. Based on Data - Answer all the Questions:\n",
    "1. How many times was it mild?\n",
    "(a) Hint: Count the number of items in the mild list and print the result.\n",
    "2. How many times was it comfortable?\n",
    "3. How many times was it cold?"
   ]
  },
  {
   "cell_type": "code",
   "execution_count": null,
   "metadata": {},
   "outputs": [
    {
     "name": "stdout",
     "output_type": "stream",
     "text": [
      "Mild was 16 times\n",
      "Comfortable was 16 times\n",
      "Cold was 16 times\n"
     ]
    }
   ],
   "source": [
    "mild_count = len(mild_days)\n",
    "cold_count = len(cold_days)\n",
    "comfortable_count = len(comfortable_days)\n",
    "\n",
    "print(f'Mild was {mild_count} times')\n",
    "print(f'Comfortable was {comfortable_count} times')\n",
    "print(f'Cold was {cold_count} times')"
   ]
  },
  {
   "cell_type": "markdown",
   "metadata": {},
   "source": [
    "Task 3. Convert Temperatures from Celsius to Fahrenheit\n",
    "\n",
    "Using the formula for temperature conversion, convert each reading from Celsius to Fahrenheit and store it in a new list called temperatures_fahrenheit.\n",
    "\n",
    "Formula: Fahrenheit = (Celsius × 9 /5 ) + 32\n",
    "\n",
    "1. Iterate over the temperatures list and apply the formula to convert each temperature.\n",
    "2. Store the results in the new list.\n",
    "3. Print the converted Fahrenheit values."
   ]
  },
  {
   "cell_type": "code",
   "execution_count": null,
   "metadata": {},
   "outputs": [
    {
     "name": "stdout",
     "output_type": "stream",
     "text": [
      "Temperatures in Celcius : \n",
      "[8.2, 17.4, 14.1, 7.9, 18.0, 13.5, 9.0, 17.8, 13.0, 8.5, 16.5, 12.9, 7.7, 17.2, 13.3, 8.4, 16.7, 14.0, 9.5, 18.3, 13.4, 8.1, 17.9, 14.2, 7.6, 17.0, 12.8, 8.0, 16.8, 13.7, 7.8, 17.5, 13.6, 8.7, 17.1, 13.8, 9.2, 18.1, 13.9, 8.3, 16.4, 12.7, 8.9, 18.2, 13.1, 7.8, 16.6, 12.5]\n",
      "Temperatures in Fahrenheit : \n",
      "[46.76, 63.32, 57.38, 46.22, 64.4, 56.3, 48.2, 64.04, 55.4, 47.3, 61.7, 55.22, 45.86, 62.96, 55.94, 47.12, 62.06, 57.2, 49.1, 64.94, 56.12, 46.58, 64.22, 57.56, 45.68, 62.6, 55.04, 46.4, 62.24, 56.66, 46.04, 63.5, 56.48, 47.66, 62.78, 56.84, 48.56, 64.58, 57.02, 46.94, 61.52, 54.86, 48.02, 64.76, 55.58, 46.04, 61.88, 54.5]\n"
     ]
    }
   ],
   "source": [
    "fahrenheit_temperature = []\n",
    "\n",
    "def celcius_to_fahrenheit(cel):\n",
    "    \"\"\"\n",
    "    Returns the Fahrenheit value of the given Celcius temperature\n",
    "    \n",
    "    Parameters:\n",
    "        cel (float) : A floating poit number\n",
    "    \n",
    "    Returns:\n",
    "        fahren (float) : Fahrenheit value of cel temperature\n",
    "    \"\"\"\n",
    "    return 32 + (cel * 9 / 5)\n",
    "\n",
    "for measure in temperatures:\n",
    "    fahrenheit_temperature.append(round(celcius_to_fahrenheit(measure),2))\n",
    "\n",
    "print(f'Temperatures in Celcius : \\n{temperatures}')\n",
    "print(f'Temperatures in Fahrenheit : \\n{fahrenheit_temperature}')"
   ]
  },
  {
   "cell_type": "markdown",
   "metadata": {},
   "source": [
    "Task 4. Analyze Temperature Patterns by Time of Day:\n",
    "Scenario: Each day’s readings are grouped as:\n",
    "• Night (00-08),\n",
    "• Evening (08-16),\n",
    "• Day (16-24).\n",
    "1. Create empty lists for night, day, and evening temperatures.\n",
    "2. Iterate over the temperatures list, assigning values to each time-of-day list based on their position.\n",
    "3. Calculate and print the average day-time temperature.\n",
    "4. (Optional) Plot ”day vs. temperature” using matplotlib."
   ]
  },
  {
   "cell_type": "code",
   "execution_count": 5,
   "metadata": {},
   "outputs": [
    {
     "name": "stdout",
     "output_type": "stream",
     "text": [
      "Average day-time temperature = 13.40625\n"
     ]
    },
    {
     "data": {
      "image/png": "[encoded data removed]",
      "text/plain": [
       "<Figure size 640x480 with 1 Axes>"
      ]
     },
     "metadata": {},
     "output_type": "display_data"
    }
   ],
   "source": [
    "temperatures = [8.2, 17.4, 14.1, 7.9, 18.0, 13.5, 9.0, 17.8, 13.0, 8.5, 16.5, 12.9, 7.7, 17.2, 13.3, 8.4, 16.7, 14.0, 9.5, 18.3, 13.4, 8.1,\n",
    "17.9, 14.2, 7.6, 17.0, 12.8, 8.0, 16.8, 13.7, 7.8, 17.5, 13.6, 8.7, 17.1, 13.8, 9.2, 18.1, 13.9, 8.3, 16.4, 12.7, 8.9, 18.2, 13.1, 7.8,16.6, 12.5]\n",
    "\n",
    "night_temp = []\n",
    "evening_temp = []\n",
    "day_temp = []\n",
    "\n",
    "for index,value in enumerate(temperatures):\n",
    "    divisor = index % 3\n",
    "    if divisor == 0:\n",
    "        night_temp.append(value)\n",
    "    elif divisor == 1:\n",
    "        evening_temp.append(value)\n",
    "    else:\n",
    "        day_temp.append(value)\n",
    "\n",
    "# print(f'Night Temperatures : {night_temp}')\n",
    "# print(f'Evening Temperatures : {evening_temp}')\n",
    "# print(f'Day Temperatures : {day_temp}')\n",
    "\n",
    "average_day_time_temp = sum(day_temp)/len(day_temp)\n",
    "print(f'Average day-time temperature = {average_day_time_temp}')\n",
    "\n",
    "import matplotlib.pyplot as plt\n",
    "days = list(range(1, len(day_temp) + 1))\n",
    "\n",
    "plt.plot(days, day_temp, marker='o', color='g', label='Day Temperature')\n",
    "\n",
    "plt.title('Day vs Temperature')\n",
    "plt.xlabel('Day')\n",
    "plt.ylabel('Temperature')\n",
    "\n",
    "plt.legend()\n",
    "plt.xticks(days)\n",
    "plt.grid(True)\n",
    "plt.show()\n",
    "\n",
    "\n"
   ]
  },
  {
   "cell_type": "markdown",
   "metadata": {},
   "source": [
    "# 8.1 Recursion"
   ]
  },
  {
   "cell_type": "code",
   "execution_count": null,
   "metadata": {},
   "outputs": [
    {
     "name": "stdout",
     "output_type": "stream",
     "text": [
      "120\n"
     ]
    }
   ],
   "source": [
    "# Example\n",
    "def factorial(n):\n",
    "    \"\"\"\n",
    "    Calculate the factorial of a non-negative integer n.\n",
    "    The factorial of a number n (denoted n!) is the product of all positive integers less\n",
    "    than or equal to n.\n",
    "    Specifically:\n",
    "    - If n is 0, the factorial is defined as 1 (base case).\n",
    "    - For any positive integer n, the factorial is calculated recursively as n * (n-1)\n",
    "    * (n-2) * ... * 1.\n",
    "    Args:\n",
    "    n (int): A non-negative integer for which to calculate the factorial.\n",
    "    Returns:\n",
    "    int: The factorial of the input number n.\n",
    "    Raises:\n",
    "    ValueError: If the input n is a negative integer, as factorial is only defined for\n",
    "    non-negative integers.\n",
    "    \"\"\"\n",
    "    if n == 0: # Base case\n",
    "        return 1\n",
    "    else: # Recursive case\n",
    "        return n * factorial(n - 1)\n",
    "\n",
    "print(factorial(5))"
   ]
  },
  {
   "cell_type": "markdown",
   "metadata": {},
   "source": [
    "8.1.1 Exercise - Recursion:  \n",
    "Task 1 - Sum of Nested Lists:  \n",
    "Scenario: You have a list that contains numbers and other lists of numbers (nested lists).  \n",
    "You want to find the total sum of all the numbers in this structure.   \n",
    "Task:  \n",
    "• Write a recursive function sum_nested_list(nested_list) that:  \n",
    "1. Takes a nested list (a list that can contain numbers or other lists of numbers) as input.  \n",
    "2. Sums all numbers at every depth level of the list, regardless of how deeply nested the numbers are.  \n",
    "• Test the function with a sample nested list, such as   \n",
    "nested_list = [1, [2, [3, 4], 5], 6, [7, 8]].  \n",
    "The result should be the total sum of all the numbers.   "
   ]
  },
  {
   "cell_type": "code",
   "execution_count": 6,
   "metadata": {},
   "outputs": [
    {
     "name": "stdout",
     "output_type": "stream",
     "text": [
      "1\n",
      "36\n"
     ]
    }
   ],
   "source": [
    "def sum_nested_list(nested_list):\n",
    "    \"\"\"\n",
    "    Calculate the sum of all numbers in a nested list\n",
    "    This function takes a list that may contain integers and other nested lists. \n",
    "    It recursively traverses the list and sum all the integers, no matter how deeply nested they are.\n",
    "    Args:\n",
    "        nested_list (list) : A list that may contain integers or other lists of integers.\n",
    "    Returns:\n",
    "        total_sum (int): total sum of all integers in the nested list, including those in sublists \n",
    "    Example:\n",
    "        >>> sum_nested_list([1, [2, [3, 4], 5], 6, [7, 8]])\n",
    "        36\n",
    "    \"\"\"\n",
    "    total_sum = 0\n",
    "    for element in nested_list:\n",
    "        if isinstance(element, list):\n",
    "            total_sum += sum_nested_list(element)\n",
    "        else:\n",
    "            total_sum += element\n",
    "    return total_sum\n",
    "\n",
    "print(sum_nested_list([[[[[1]]]]]))\n",
    "print(sum_nested_list([1, [2, [3, 4], 5], 6, [7, 8]]))"
   ]
  },
  {
   "cell_type": "markdown",
   "metadata": {},
   "source": [
    "Task 2 - Generate All Permutations of a String:\n",
    "Scenario: Given a string, generate all possible permutations of its characters. This is useful for understanding backtracking and recursive depth-first search.\n",
    "Task:    \n",
    "• Write a recursive function generate_permutations(s) that:  \n",
    "– Takes a string s as input and returns a list of all unique permutations.   \n",
    "• Test with strings like ”abc” and ”aab”.  \n",
    "\n",
    "print(generate_permutations(\"abc\"))  \n",
    "Should return [’abc’, ’acb’, ’bac’, ’bca’, ’cab’, ’cba’]"
   ]
  },
  {
   "cell_type": "code",
   "execution_count": 7,
   "metadata": {},
   "outputs": [
    {
     "name": "stdout",
     "output_type": "stream",
     "text": [
      "['cat', 'cta', 'act', 'atc', 'tca', 'tac']\n",
      "['dogs', 'dosg', 'dgos', 'dgso', 'dsog', 'dsgo', 'odgs', 'odsg', 'ogds', 'ogsd', 'osdg', 'osgd', 'gdos', 'gdso', 'gods', 'gosd', 'gsdo', 'gsod', 'sdog', 'sdgo', 'sodg', 'sogd', 'sgdo', 'sgod']\n",
      "\n"
     ]
    }
   ],
   "source": [
    "def generate_permutations(s):\n",
    "    \"\"\"\n",
    "    Generate all possible permutations with given string s.\n",
    "    This function takes a string of which possible permutations are to be generated.\n",
    "    \n",
    "    # Base Case : if the string is of one character, return it \n",
    "    # Recursive Case : if the string is of >1 character, return function with one less character\n",
    "    \n",
    "    Args:\n",
    "        s (string): A string of which permutations are to be created\n",
    "    Returns:\n",
    "        permutations (list): A list that contains all permutations of the string s\n",
    "    Example:\n",
    "        >>> generate_permutations('cat')\n",
    "        ['cat', 'cta', 'act', 'atc', 'tac', 'tca']\n",
    "        >>> generate_permutations('dogs')\n",
    "        ['dogs', 'dgos', 'dosg', 'doso', 'dsgo', 'dsog', 'odgs', 'odsg', 'ogds', 'ogsd', 'osdg', 'osgd', 'gdos', 'gdso', 'gods', 'gosd', 'gsdo', 'gsod', 'sdgo', 'sdog', 'sodg', 'sogd', 'sgdo', 'sgod']\n",
    "    \"\"\"\n",
    "    if len(s) == 1:\n",
    "        return [s]\n",
    "    \n",
    "    permutations = []\n",
    "    \n",
    "    for i, char in enumerate(s):\n",
    "        remaining = s[:i] + s[i+1:]\n",
    "        \n",
    "        for rest_permutations in generate_permutations(remaining):\n",
    "            permutations.append(char + rest_permutations)\n",
    "    \n",
    "    return permutations\n",
    "\n",
    "cat_permutation = generate_permutations('cat')\n",
    "print(cat_permutation)\n",
    "dogs_permutation = generate_permutations('dogs')\n",
    "print(dogs_permutation)\n",
    "# print(len(dogs_permutation))\n",
    "print('star'[:0])"
   ]
  },
  {
   "cell_type": "markdown",
   "metadata": {},
   "source": [
    "Task 3 - Directory Size Calculation:  \n",
    "Directory Size Calculation Scenario: Imagine a file system where directories can contain files (with sizes in KB) and other directories. You want to calculate the total size of a directory, including all nested files and subdirectories.    \n",
    "Task:  \n",
    "1. Write a recursive function calculate_directory_size(directory) where:  \n",
    "• directory is a dictionary where keys represent file names (with values as sizes in KB) or directory names (with values as another dictionary representing a subdirectory).  \n",
    "• The function should return the total size of the directory, including all nested subdirectories.  \n",
    "2. Test the function with a sample directory structure.  "
   ]
  },
  {
   "cell_type": "code",
   "execution_count": 8,
   "metadata": {},
   "outputs": [
    {
     "name": "stdout",
     "output_type": "stream",
     "text": [
      "1400\n"
     ]
    }
   ],
   "source": [
    "def calculate_directory_size(directory):\n",
    "    \"\"\"\n",
    "    Returns the total size of root directory that may contain sub-directories as well\n",
    "    \n",
    "    Args:\n",
    "        directory (dictionary) : root directory which contains sub-directories\n",
    "    Returns:\n",
    "        total_size (float) : total size of the directory adding even the sizes of the sub-directories\n",
    "    \"\"\"\n",
    "    \n",
    "    total_size = 0\n",
    "    for _, size in directory.items():\n",
    "        if isinstance(size, int):\n",
    "            total_size += size\n",
    "        elif isinstance(size, dict):\n",
    "            total_size += calculate_directory_size(size)\n",
    "    return total_size\n",
    "\n",
    "sample_directory = {\n",
    "    \"file1.txt\": 200,\n",
    "    \"file2.txt\": 300,\n",
    "    \"subdir1\": {\n",
    "        \"file3.txt\": 400,\n",
    "        \"file4.txt\": 100\n",
    "    },\n",
    "    \"subdir2\": {\n",
    "        \"subsubdir1\": {\n",
    "            \"file5.txt\": 250\n",
    "        },\n",
    "        \"file6.txt\": 150\n",
    "    }\n",
    "}\n",
    "print(calculate_directory_size(sample_directory))"
   ]
  },
  {
   "cell_type": "markdown",
   "metadata": {},
   "source": [
    "# 8.2 Dynamic Programming"
   ]
  },
  {
   "cell_type": "code",
   "execution_count": 9,
   "metadata": {},
   "outputs": [
    {
     "name": "stdout",
     "output_type": "stream",
     "text": [
      "8\n",
      "8\n"
     ]
    }
   ],
   "source": [
    "# Fibonacci Series - Memoization \n",
    "def fibo_memo(n, memo={}):\n",
    "    if n in memo:\n",
    "        return memo[n]\n",
    "    if n <= 1:\n",
    "        return n\n",
    "    memo[n] = fibo_memo(n - 1, memo) + fibo_memo(n - 2, memo)\n",
    "    return memo[n]\n",
    "\n",
    "print(fibo_memo(6))\n",
    "\n",
    "\n",
    "# Fibonacci Series - Bottom-Up / Tabulation Approach \n",
    "def fibo_table_bottom_up(n):\n",
    "    if n <= 1:\n",
    "        return n\n",
    "    dp = [0] * (n + 1)\n",
    "    dp[1] = 1\n",
    "    for i in range(2, n + 1):\n",
    "        dp[i] = dp[i - 1] + dp[i - 2]\n",
    "    return dp[n]\n",
    "\n",
    "print(fibo_table_bottom_up(6))"
   ]
  },
  {
   "cell_type": "markdown",
   "metadata": {},
   "source": [
    "Task 1 - Coin Change Problem:   \n",
    "Scenario: Given a set of coin denominations and a target amount, find the minimum number of coins needed to make the amount. If it’s not possible, return - 1.  \n",
    "Task:  \n",
    "1. Write a function min_coins(coins, amount) that:  \n",
    "• Uses DP to calculate the minimum number of coins needed to make up the amount.  \n",
    "2. Test with coins = [1, 2, 5] and amount = 11. The result should be 3 (using coins [5, 5, 1])."
   ]
  },
  {
   "cell_type": "code",
   "execution_count": null,
   "metadata": {},
   "outputs": [
    {
     "name": "stdout",
     "output_type": "stream",
     "text": [
      "3\n",
      "-1\n"
     ]
    }
   ],
   "source": [
    "def min_coins(coins, amount):\n",
    "    \"\"\"\n",
    "    Finds the minimum number of coins needed to make up a given amount using dynamic\n",
    "    programming.\n",
    "    This function solves the coin change problem by determining the fewest number of\n",
    "    coins from a given set of coin denominations that sum up to a target amount. The\n",
    "    solution uses dynamic programming(tabulation) to iteratively build up the minimum\n",
    "    number of coins required for each amount.\n",
    "    Parameters:\n",
    "    coins (list of int): A list of coin denominations available for making change. Each\n",
    "    coin denomination is a positive integer.\n",
    "    amount (int): The target amount for which we need to find the minimum number of coins\n",
    "    . It must be a non-negative integer.\n",
    "    Returns:\n",
    "    int: The minimum number of coins required to make the given amount.\n",
    "    If it is not possible to make the amount with the given coins, returns -1.\n",
    "    Example:\n",
    "    >>> min_coins([1, 2, 5], 11)\n",
    "    3\n",
    "    >>> min_coins([2], 3)\n",
    "    -1\n",
    "    \"\"\"\n",
    "    dp = [float('inf')] * (amount + 1)\n",
    "    dp[0] = 0\n",
    "    for coin in coins:\n",
    "        for i in range(coin, amount + 1):\n",
    "            dp[i] = min(dp[i], dp[i - coin] + 1)\n",
    "    \n",
    "    if dp[amount] != float('inf'):\n",
    "        return dp[amount]\n",
    "    else:\n",
    "        return -1\n",
    "\n",
    "print(min_coins([1, 2, 5], 11))\n",
    "print(min_coins([2], 3))"
   ]
  },
  {
   "cell_type": "markdown",
   "metadata": {},
   "source": [
    "Task 2 - Longest Common Subsequence (LCS):  \n",
    "Scenario: Given two strings, find the length of their longest common subsequence (LCS). This is useful in text comparison.  \n",
    "Task:  \n",
    "1. Write a function longest_common_subsequence(s1, s2) that:  \n",
    "• Uses DP to find the length of the LCS of two strings s1 and s2.  \n",
    "2. Test with strings like \"abcde\" and \"ace\"; the LCS length should be 3 (\"ace\").  "
   ]
  },
  {
   "cell_type": "code",
   "execution_count": null,
   "metadata": {},
   "outputs": [
    {
     "name": "stdout",
     "output_type": "stream",
     "text": [
      " \"abcde\" & \"ace\" LCS : 3\n",
      " \"Cat\" & \"datc\" LCS : 2\n"
     ]
    }
   ],
   "source": [
    "def longest_common_subsequence(s1, s2):\n",
    "    \"\"\"\n",
    "    Finds the longest common subsequence between two given strings using dynamic programming.\n",
    "    This function finds the longest possible common sequence length between both string with same order but skipping characters.\n",
    "    Parameteres:\n",
    "        s1 (str) : First string of comparision\n",
    "        s2 (str) : Second string of comparision\n",
    "    Returns:\n",
    "        lcs (int) : longest common subsequence length between str1 and str2\n",
    "    Example:\n",
    "        >>> longest_common_subsequence('abcde', 'abc')\n",
    "        3\n",
    "        >>>longest_common_subsequence('cat', 'datc')\n",
    "    \"\"\"\n",
    "    str1, str2, len1, len2 = s1.lower(), s2.lower(), len(s1), len(s2)\n",
    "    \n",
    "    dp = []\n",
    "    for _ in range(len1 + 1):\n",
    "        dp.append([0] * (len2 + 1))\n",
    "    \n",
    "    for i in range(1, len1 + 1):\n",
    "        for j in range(1, len2 + 1):\n",
    "            if str1[i - 1] == str2[j - 1]:\n",
    "                dp[i][j] = dp[i - 1][j - 1] + 1\n",
    "            else:\n",
    "                dp[i][j] = max(dp[i - 1][j], dp[i][j - 1])\n",
    "    return dp[len1][len2]\n",
    "\n",
    "print(f' \"abcde\" & \"ace\" LCS : {longest_common_subsequence('abcde', 'ace')}')\n",
    "print(f' \"Cat\" & \"datc\" LCS : {longest_common_subsequence('Cat', 'datc')}')"
   ]
  },
  {
   "cell_type": "markdown",
   "metadata": {},
   "source": [
    "Task 3 - 0/1 Knapsack Problem:\n",
    "Scenario: You have a list of items, each with a weight and a value. Given a weight capacity, maximize the total value of items you can carry without exceeding the weight capacity.  \n",
    "Task:  \n",
    "1. Write a function knapsack(weights, values, capacity) that:  \n",
    "• Uses DP to determine the maximum value that can be achieved within the given weight capacity.  \n",
    "  \n",
    "2. Test with weights [1, 3, 4, 5], values [1, 4, 5, 7], and capacity 7. The result should be 9.  "
   ]
  },
  {
   "cell_type": "code",
   "execution_count": null,
   "metadata": {},
   "outputs": [
    {
     "name": "stdout",
     "output_type": "stream",
     "text": [
      "9\n",
      "10\n"
     ]
    }
   ],
   "source": [
    "def knapsack(weights, values, capacity):\n",
    "    \"\"\"\n",
    "    Finds the maximum values of itesm that can be carried with give weight capacity.\n",
    "    This function solves the knapsack problem by calculating the given capacity for each weight accounting for maximum value using dynamic programming.\n",
    "    \n",
    "    Parameters:\n",
    "        weights (list of int) : A list of weight of given items\n",
    "        values (list of int) : A list of values of the given items\n",
    "        capacity (int) : The maximum capacity of weight that can be carried with\n",
    "    Returns:\n",
    "        (int) : The maximum value that can be achieved using weights upto the given capacity\n",
    "    Example:\n",
    "        >>> knapsack([1, 3, 4 ,5], [1, 4, 5, 7], 7)\n",
    "        9\n",
    "        >>> knapsack([5, 7, 9, 13], [1, 2, 3, 4], 60)\n",
    "        10\n",
    "    \"\"\"\n",
    "    length = len(values)\n",
    "    \n",
    "    dp = []\n",
    "    for _ in range(length + 1):\n",
    "        dp.append([0] * (capacity + 1))\n",
    "    \n",
    "    for i in range(1, length + 1):\n",
    "        for w in range(1, capacity + 1):\n",
    "            if weights[i - 1] <= w:\n",
    "                included_w = values[i - 1] + dp[i - 1][w - weights[i - 1]]\n",
    "                excluded_w = dp[i - 1][w]\n",
    "                dp[i][w] = max(included_w, excluded_w)\n",
    "            else:\n",
    "                dp[i][w] = dp[i - 1][w]\n",
    "    return dp[length][capacity]\n",
    "    \n",
    "    \n",
    "\n",
    "print(knapsack([1, 3, 4 ,5], [1, 4, 5, 7], 7))\n",
    "print(knapsack([5, 7, 9, 13], [1, 2, 3, 4], 60))"
   ]
  }
 ],
 "metadata": {
  "kernelspec": {
   "display_name": "Python 3",
   "language": "python",
   "name": "python3"
  },
  "language_info": {
   "codemirror_mode": {
    "name": "ipython",
    "version": 3
   },
   "file_extension": ".py",
   "mimetype": "text/x-python",
   "name": "python",
   "nbconvert_exporter": "python",
   "pygments_lexer": "ipython3",
   "version": "3.13.0"
  }
 },
 "nbformat": 4,
 "nbformat_minor": 2
}
